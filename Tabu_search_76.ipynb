{
 "cells": [
  {
   "cell_type": "code",
   "execution_count": 5,
   "metadata": {},
   "outputs": [],
   "source": [
    "import pandas as pd\n",
    "import numpy as np\n",
    "import random\n",
    "import time"
   ]
  },
  {
   "cell_type": "markdown",
   "metadata": {},
   "source": [
    "# Metody doboru sąsiedztwa"
   ]
  },
  {
   "cell_type": "code",
   "execution_count": 6,
   "metadata": {},
   "outputs": [],
   "source": [
    "def generate_neighbor(solution, neighbor_type='swap'):\n",
    "    i, j = np.random.choice(len(solution), size=2, replace=False)\n",
    "    neighbor = solution.copy()\n",
    "    city1, city2 = neighbor[i], neighbor[j]\n",
    "    city_pair = [city1, city2]\n",
    "    if neighbor_type == 'swap':\n",
    "        # Generuj sąsiada przez zamianę dwóch losowych miast\n",
    "        neighbor[i], neighbor[j] = neighbor[j], neighbor[i]\n",
    "    elif neighbor_type == 'insert':\n",
    "        # Generuj sąsiada przez wstawienie losowego miasta w inne miejsce\n",
    "        neighbor.insert(j, neighbor.pop(i))\n",
    "    elif neighbor_type == 'reverse':\n",
    "        # Generuj sąsiada przez odwrócenie kolejności miast pomiędzy dwoma losowymi indeksami\n",
    "        if i > j:\n",
    "            i, j = j, i\n",
    "        neighbor[i:j + 1] = reversed(neighbor[i:j + 1])\n",
    "    else:\n",
    "        raise ValueError(\"Nieznany rodzaj sąsiedztwa: {}\".format(neighbor_type))\n",
    "    return neighbor, city_pair"
   ]
  },
  {
   "cell_type": "markdown",
   "metadata": {},
   "source": [
    "# Funkcje trasy"
   ]
  },
  {
   "cell_type": "code",
   "execution_count": 7,
   "metadata": {},
   "outputs": [],
   "source": [
    "# Stworzenie funkcji ustalenia początkowej trasy\n",
    "def create_initial_route(distance_matrix):\n",
    "    route = list(range(len(distance_matrix)))\n",
    "    random.shuffle(route)\n",
    "    return route"
   ]
  },
  {
   "cell_type": "code",
   "execution_count": 8,
   "metadata": {},
   "outputs": [],
   "source": [
    "def calculate_total_distance(solution, distance_matrix):\n",
    "    total_distance = 0\n",
    "    num_cities = len(solution)\n",
    "\n",
    "    for i in range(num_cities - 1):\n",
    "        total_distance += distance_matrix.at[solution[i], solution[i + 1]]\n",
    "\n",
    "    # Dodaj odległość z ostatniego do pierwszego miasta\n",
    "    total_distance += distance_matrix.at[solution[num_cities - 1], solution[0]]\n",
    "\n",
    "    return total_distance"
   ]
  },
  {
   "cell_type": "markdown",
   "metadata": {},
   "source": [
    "# Tabu Search"
   ]
  },
  {
   "cell_type": "code",
   "execution_count": 10,
   "metadata": {},
   "outputs": [],
   "source": [
    "def tabu_search(distance_matrix, initial_solution, tabu_list_size, max_iterations, neighbor_type='swap', gen_neighbor_size=10):\n",
    "    # Inicjalizacja bieżącego rozwiązania, najlepszego rozwiązania, listy tabu i najlepszego dystansu\n",
    "    current_solution = initial_solution.copy()\n",
    "    best_solution = current_solution.copy()\n",
    "    tabu_list = []\n",
    "    best_distance = calculate_total_distance(best_solution, distance_matrix)\n",
    "\n",
    "    # Pętla główna algorytmu Tabu Search\n",
    "    for _ in range(max_iterations):\n",
    "        # Generowanie sąsiadów bieżącego rozwiązania\n",
    "        neighbors = [generate_neighbor(current_solution, neighbor_type) for _ in range(gen_neighbor_size)]\n",
    "\n",
    "        # Obliczanie dystansów dla kandydatów, którzy nie są na liście tabu\n",
    "        candidate_distances = [(neighbor, city_pair, calculate_total_distance(neighbor, distance_matrix)) for neighbor, city_pair in neighbors if city_pair not in tabu_list]\n",
    "\n",
    "        # Jeśli brak kandydatów spoza listy tabu, kontynuuj pętlę\n",
    "        if not candidate_distances:\n",
    "            continue\n",
    "\n",
    "        # Wybieranie najlepszego kandydata\n",
    "        candidate_solution, city_pair, candidate_distance = min(candidate_distances, key=lambda x: x[2])\n",
    "\n",
    "        # Aktualizacja najlepszego rozwiązania, jeśli znaleziono lepsze\n",
    "        if candidate_distance < best_distance:\n",
    "            best_solution = candidate_solution\n",
    "            best_distance = candidate_distance\n",
    "\n",
    "        # Dodanie ruchu do listy tabu\n",
    "        tabu_list.append(city_pair)\n",
    "        if len(tabu_list) > tabu_list_size:\n",
    "            tabu_list.pop(0)  # Usuwanie najstarszego ruchu z listy tabu\n",
    "\n",
    "    # Zwracanie najlepszego rozwiązania i odpowiadającego mu dystansu\n",
    "    return best_solution, best_distance\n"
   ]
  },
  {
   "cell_type": "code",
   "execution_count": 11,
   "metadata": {},
   "outputs": [],
   "source": [
    "def tabu_search_with_time_limit(distance_matrix, initial_solution, tabu_list_size, max_time_seconds, neighbor_type='swap', gen_neighbor_size=10):\n",
    "    # Inicjalizacja bieżącego rozwiązania, najlepszego rozwiązania, listy tabu i najlepszego dystansu\n",
    "    current_solution = initial_solution.copy()\n",
    "    best_solution = current_solution.copy()\n",
    "    tabu_list = []\n",
    "    best_distance = calculate_total_distance(best_solution, distance_matrix)\n",
    "\n",
    "    # Początkowy czas wykonania algorytmu\n",
    "    start_time = time.time()\n",
    "\n",
    "    # Pętla główna algorytmu Tabu Search z ograniczeniem czasowym\n",
    "    while (time.time() - start_time) < max_time_seconds:\n",
    "        # Generowanie sąsiadów bieżącego rozwiązania\n",
    "        neighbors = [generate_neighbor(current_solution, neighbor_type) for _ in range(gen_neighbor_size)]\n",
    "\n",
    "        # Obliczanie dystansów dla kandydatów, którzy nie są na liście tabu\n",
    "        candidate_distances = [(neighbor, city_pair, calculate_total_distance(neighbor, distance_matrix)) for neighbor, city_pair in neighbors if city_pair not in tabu_list]\n",
    "\n",
    "        # Jeśli brak kandydatów spoza listy tabu, kontynuuj pętlę\n",
    "        if not candidate_distances:\n",
    "            continue\n",
    "\n",
    "        # Wybieranie najlepszego kandydata\n",
    "        candidate_solution, city_pair, candidate_distance = min(candidate_distances, key=lambda x: x[2])\n",
    "\n",
    "        # Aktualizacja najlepszego rozwiązania, jeśli znaleziono lepsze\n",
    "        if candidate_distance < best_distance:\n",
    "            best_solution = candidate_solution\n",
    "            best_distance = candidate_distance\n",
    "\n",
    "        # Dodanie ruchu do listy tabu\n",
    "        tabu_list.append(city_pair)\n",
    "        if len(tabu_list) > tabu_list_size:\n",
    "            tabu_list.pop(0)  # Usuwanie najstarszego ruchu z listy tabu\n",
    "\n",
    "    # Zwracanie najlepszego rozwiązania i odpowiadającego mu dystansu\n",
    "    return best_solution, best_distance\n"
   ]
  },
  {
   "cell_type": "code",
   "execution_count": 12,
   "metadata": {},
   "outputs": [],
   "source": [
    "def tabu_search_multiple_runs(distance_matrix, initial_solution, tabu_list_size, max_iterations, neighbor_type='swap', gen_neighbor_size=10, num_runs=5):\n",
    "    best_overall_solution = initial_solution.copy()\n",
    "    best_overall_distance = calculate_total_distance(best_overall_solution, distance_matrix)\n",
    "    for _ in range(num_runs):\n",
    "        # Wywołaj funkcję tabu_search i zapisz wyniki\n",
    "        current_solution, current_distance = tabu_search(distance_matrix, initial_solution, tabu_list_size, max_iterations, neighbor_type, gen_neighbor_size)\n",
    "\n",
    "        # Sprawdź, czy bieżące rozwiązanie jest lepsze od najlepszego dotychczasowego\n",
    "        if current_distance < best_overall_distance:\n",
    "            best_overall_solution = current_solution\n",
    "            best_overall_distance = current_distance\n",
    "\n",
    "    # Wydrukuj informacje o najlepszym rozwiązaniu z wszystkich prób\n",
    "    print(\"Rozmiar listy tabu: {}, maksymalna powtórzeń: {}, funkcja sąsiedztwa: {}, liczba tworzonych sąsiadów: {}\".format(tabu_list_size, max_iterations, neighbor_type, gen_neighbor_size))\n",
    "    print(\"Najlepsze rozwiązanie spośród {} prób: {}\".format(num_runs, best_overall_solution))\n",
    "    print(\"Długość trasy: {}\".format(best_overall_distance))"
   ]
  },
  {
   "cell_type": "code",
   "execution_count": 13,
   "metadata": {},
   "outputs": [],
   "source": [
    "def tabu_search_with_time_limit_multiple_runs(distance_matrix, initial_solution, tabu_list_size, max_time_seconds, neighbor_type='swap', gen_neighbor_size=10, num_runs=5):\n",
    "    best_overall_solution = initial_solution.copy()\n",
    "    best_overall_distance = calculate_total_distance(best_overall_solution, distance_matrix)\n",
    "\n",
    "    for _ in range(num_runs):\n",
    "        # Wywołaj funkcję tabu_search_with_time_limit i zapisz wyniki\n",
    "        current_solution, current_distance = tabu_search_with_time_limit(distance_matrix, initial_solution, tabu_list_size, max_time_seconds, neighbor_type, gen_neighbor_size)\n",
    "\n",
    "        # Sprawdź, czy bieżące rozwiązanie jest lepsze od najlepszego dotychczasowego\n",
    "        if current_distance < best_overall_distance:\n",
    "            best_overall_solution = current_solution\n",
    "            best_overall_distance = current_distance\n",
    "\n",
    "    # Wydrukuj informacje o najlepszym rozwiązaniu z wszystkich prób\n",
    "    print(\"Rozmiar listy tabu: {}, maksymalny czas liczenia: {}, funkcja sąsiedztwa: {}, liczba tworzonych sąsiadów: {}\".format(tabu_list_size, max_time_seconds, neighbor_type, gen_neighbor_size))\n",
    "    print(\"Najlepsze rozwiązanie spośród {} prób: {}\".format(num_runs, best_overall_solution))\n",
    "    print(\"Długość trasy: {}\".format(best_overall_distance))\n"
   ]
  },
  {
   "cell_type": "markdown",
   "metadata": {},
   "source": [
    "## TSP_76"
   ]
  },
  {
   "cell_type": "code",
   "execution_count": 14,
   "metadata": {},
   "outputs": [],
   "source": [
    "TSP_76 = pd.read_excel('Dane_TSP_76.xlsx', header=None)\n",
    "# Rozwiazanie poczatkowe wygenerowane przez NN (Nearest Neighbor)\n",
    "NN_76 = [15, 14, 12, 13, 11, 10, 16, 17, 36, 35, 34, 33, 39, 40, 59, 58, 57, 56, 62, 63, 61, 60, 54, 55, 50, 65, 64, 49, 48, 51, 52, 53, 41, 42, 27, 28, 29, 30, 18, 19, 4, 5, 6, 7, 8, 9, 3, 2, 1, 0, 22, 21, 20, 24, 23, 45, 44, 43, 47, 46, 68, 67, 66, 69, 70, 71, 72, 38, 37, 31, 32, 26, 25, 74, 75, 73]\n",
    "# Długość trasy:  130921.00457667322"
   ]
  },
  {
   "cell_type": "markdown",
   "metadata": {},
   "source": [
    "### Sąsiedztwo"
   ]
  },
  {
   "cell_type": "code",
   "execution_count": 22,
   "metadata": {},
   "outputs": [
    {
     "name": "stdout",
     "output_type": "stream",
     "text": [
      "Rozmiar listy tabu: 10, maksymalna powtórzeń: 10000, funkcja sąsiedztwa: swap, liczba tworzonych sąsiadów: 10\n",
      "Najlepsze rozwiązanie spośród 5 prób: [15, 14, 12, 13, 11, 10, 16, 17, 36, 35, 34, 33, 39, 40, 59, 58, 57, 56, 62, 63, 61, 60, 54, 55, 64, 65, 50, 49, 48, 51, 52, 53, 41, 42, 27, 28, 29, 30, 18, 19, 4, 5, 6, 7, 8, 9, 3, 2, 1, 0, 22, 21, 20, 24, 23, 45, 44, 43, 47, 46, 68, 67, 66, 69, 70, 71, 72, 38, 37, 31, 32, 26, 25, 74, 75, 73]\n",
      "Długość trasy: 130753.41142129629\n"
     ]
    }
   ],
   "source": [
    "tabu_search_multiple_runs(TSP_76, NN_76, 10, 10000, 'swap', 10, 5)"
   ]
  },
  {
   "cell_type": "markdown",
   "metadata": {},
   "source": [
    "Rozmiar listy tabu: 10, maksymalna powtórzeń: 10000, funkcja sąsiedztwa: swap, liczba tworzonych sąsiadów: 10\n",
    "Najlepsze rozwiązanie spośród 5 prób: [15, 14, 12, 13, 11, 10, 16, 17, 36, 35, 34, 33, 39, 40, 59, 58, 57, 56, 62, 63, 61, 60, 54, 55, 64, 65, 50, 49, 48, 51, 52, 53, 41, 42, 27, 28, 29, 30, 18, 19, 4, 5, 6, 7, 8, 9, 3, 2, 1, 0, 22, 21, 20, 24, 23, 45, 44, 43, 47, 46, 68, 67, 66, 69, 70, 71, 72, 38, 37, 31, 32, 26, 25, 74, 75, 73]\n",
    "Długość trasy: 130753.41142129629"
   ]
  },
  {
   "cell_type": "code",
   "execution_count": 23,
   "metadata": {},
   "outputs": [
    {
     "name": "stdout",
     "output_type": "stream",
     "text": [
      "Rozmiar listy tabu: 10, maksymalna powtórzeń: 10000, funkcja sąsiedztwa: insert, liczba tworzonych sąsiadów: 10\n",
      "Najlepsze rozwiązanie spośród 5 prób: [15, 14, 12, 13, 11, 10, 16, 17, 36, 35, 34, 33, 39, 40, 59, 58, 57, 56, 62, 61, 60, 54, 55, 50, 65, 64, 49, 48, 51, 52, 53, 41, 42, 27, 28, 29, 30, 18, 19, 4, 5, 6, 7, 8, 9, 3, 2, 1, 0, 22, 21, 20, 24, 23, 45, 44, 43, 47, 46, 68, 67, 66, 69, 70, 71, 72, 63, 38, 37, 31, 32, 26, 25, 74, 75, 73]\n",
      "Długość trasy: 130011.77708999392\n"
     ]
    }
   ],
   "source": [
    "tabu_search_multiple_runs(TSP_76, NN_76, 10, 10000, 'insert', 10, 5)"
   ]
  },
  {
   "cell_type": "markdown",
   "metadata": {},
   "source": [
    "Rozmiar listy tabu: 10, maksymalna powtórzeń: 10000, funkcja sąsiedztwa: insert, liczba tworzonych sąsiadów: 10\n",
    "Najlepsze rozwiązanie spośród 5 prób: [15, 14, 12, 13, 11, 10, 16, 17, 36, 35, 34, 33, 39, 40, 59, 58, 57, 56, 62, 61, 60, 54, 55, 50, 65, 64, 49, 48, 51, 52, 53, 41, 42, 27, 28, 29, 30, 18, 19, 4, 5, 6, 7, 8, 9, 3, 2, 1, 0, 22, 21, 20, 24, 23, 45, 44, 43, 47, 46, 68, 67, 66, 69, 70, 71, 72, 63, 38, 37, 31, 32, 26, 25, 74, 75, 73]\n",
    "Długość trasy: 130011.77708999392"
   ]
  },
  {
   "cell_type": "code",
   "execution_count": 24,
   "metadata": {},
   "outputs": [
    {
     "name": "stdout",
     "output_type": "stream",
     "text": [
      "Rozmiar listy tabu: 10, maksymalna powtórzeń: 10000, funkcja sąsiedztwa: reverse, liczba tworzonych sąsiadów: 10\n",
      "Najlepsze rozwiązanie spośród 5 prób: [15, 14, 12, 13, 11, 10, 16, 17, 36, 35, 34, 33, 39, 40, 59, 58, 57, 56, 62, 63, 61, 60, 54, 55, 50, 65, 64, 49, 48, 51, 52, 53, 41, 42, 27, 28, 29, 30, 18, 19, 4, 5, 6, 7, 8, 9, 3, 2, 25, 26, 32, 31, 37, 38, 72, 71, 70, 69, 66, 67, 68, 46, 47, 43, 44, 45, 23, 24, 20, 21, 22, 0, 1, 74, 75, 73]\n",
      "Długość trasy: 126031.86566023539\n"
     ]
    }
   ],
   "source": [
    "tabu_search_multiple_runs(TSP_76, NN_76, 10, 10000, 'reverse', 10, 5)"
   ]
  },
  {
   "cell_type": "markdown",
   "metadata": {},
   "source": [
    "Rozmiar listy tabu: 10, maksymalna powtórzeń: 10000, funkcja sąsiedztwa: reverse, liczba tworzonych sąsiadów: 10\n",
    "Najlepsze rozwiązanie spośród 5 prób: [15, 14, 12, 13, 11, 10, 16, 17, 36, 35, 34, 33, 39, 40, 59, 58, 57, 56, 62, 63, 61, 60, 54, 55, 50, 65, 64, 49, 48, 51, 52, 53, 41, 42, 27, 28, 29, 30, 18, 19, 4, 5, 6, 7, 8, 9, 3, 2, 25, 26, 32, 31, 37, 38, 72, 71, 70, 69, 66, 67, 68, 46, 47, 43, 44, 45, 23, 24, 20, 21, 22, 0, 1, 74, 75, 73]\n",
    "Długość trasy: 126031.86566023539"
   ]
  },
  {
   "cell_type": "markdown",
   "metadata": {},
   "source": [
    "Wnioski: W generowaniu lepszych wersji rozwiązań, w przypadku dużego zbioru danych, najlepiej sprawdza się funkcja sąsiedztwa reverse. Może to być spowowdowane bardzo dużymi zmianami w kolejności miast."
   ]
  },
  {
   "cell_type": "markdown",
   "metadata": {},
   "source": [
    "### Długość listy tabu"
   ]
  },
  {
   "cell_type": "code",
   "execution_count": 25,
   "metadata": {},
   "outputs": [
    {
     "name": "stdout",
     "output_type": "stream",
     "text": [
      "Rozmiar listy tabu: 5, maksymalna powtórzeń: 10000, funkcja sąsiedztwa: insert, liczba tworzonych sąsiadów: 10\n",
      "Najlepsze rozwiązanie spośród 5 prób: [15, 14, 12, 13, 11, 10, 16, 17, 36, 35, 34, 33, 39, 40, 59, 58, 57, 56, 62, 61, 60, 54, 55, 50, 65, 64, 49, 48, 51, 52, 53, 41, 42, 27, 28, 29, 30, 18, 19, 4, 5, 6, 7, 8, 9, 3, 2, 1, 0, 22, 21, 20, 24, 23, 45, 44, 43, 47, 46, 68, 67, 66, 69, 70, 71, 72, 63, 38, 37, 31, 32, 26, 25, 74, 75, 73]\n",
      "Długość trasy: 130011.77708999392\n"
     ]
    }
   ],
   "source": [
    "tabu_search_multiple_runs(TSP_76, NN_76, 5, 10000, 'insert', 10, 5)"
   ]
  },
  {
   "cell_type": "markdown",
   "metadata": {},
   "source": [
    "Rozmiar listy tabu: 5, maksymalna powtórzeń: 10000, funkcja sąsiedztwa: insert, liczba tworzonych sąsiadów: 10\n",
    "Najlepsze rozwiązanie spośród 5 prób: [15, 14, 12, 13, 11, 10, 16, 17, 36, 35, 34, 33, 39, 40, 59, 58, 57, 56, 62, 61, 60, 54, 55, 50, 65, 64, 49, 48, 51, 52, 53, 41, 42, 27, 28, 29, 30, 18, 19, 4, 5, 6, 7, 8, 9, 3, 2, 1, 0, 22, 21, 20, 24, 23, 45, 44, 43, 47, 46, 68, 67, 66, 69, 70, 71, 72, 63, 38, 37, 31, 32, 26, 25, 74, 75, 73]\n",
    "Długość trasy: 130011.77708999392"
   ]
  },
  {
   "cell_type": "code",
   "execution_count": 26,
   "metadata": {},
   "outputs": [
    {
     "name": "stdout",
     "output_type": "stream",
     "text": [
      "Rozmiar listy tabu: 8, maksymalna powtórzeń: 10000, funkcja sąsiedztwa: insert, liczba tworzonych sąsiadów: 10\n",
      "Najlepsze rozwiązanie spośród 5 prób: [15, 14, 12, 13, 11, 10, 16, 17, 36, 35, 34, 33, 39, 40, 59, 58, 57, 56, 62, 61, 60, 54, 55, 50, 65, 64, 49, 48, 51, 52, 53, 41, 42, 27, 28, 29, 30, 18, 19, 4, 5, 6, 7, 8, 9, 3, 2, 1, 0, 22, 21, 20, 24, 23, 45, 44, 43, 47, 46, 68, 67, 66, 69, 70, 71, 72, 63, 38, 37, 31, 32, 26, 25, 74, 75, 73]\n",
      "Długość trasy: 130011.77708999392\n"
     ]
    }
   ],
   "source": [
    "tabu_search_multiple_runs(TSP_76, NN_76, 8, 10000, 'insert', 10, 5)"
   ]
  },
  {
   "cell_type": "markdown",
   "metadata": {},
   "source": [
    "Rozmiar listy tabu: 8, maksymalna powtórzeń: 10000, funkcja sąsiedztwa: insert, liczba tworzonych sąsiadów: 10\n",
    "Najlepsze rozwiązanie spośród 5 prób: [15, 14, 12, 13, 11, 10, 16, 17, 36, 35, 34, 33, 39, 40, 59, 58, 57, 56, 62, 61, 60, 54, 55, 50, 65, 64, 49, 48, 51, 52, 53, 41, 42, 27, 28, 29, 30, 18, 19, 4, 5, 6, 7, 8, 9, 3, 2, 1, 0, 22, 21, 20, 24, 23, 45, 44, 43, 47, 46, 68, 67, 66, 69, 70, 71, 72, 63, 38, 37, 31, 32, 26, 25, 74, 75, 73]\n",
    "Długość trasy: 130011.77708999392"
   ]
  },
  {
   "cell_type": "code",
   "execution_count": 27,
   "metadata": {},
   "outputs": [
    {
     "name": "stdout",
     "output_type": "stream",
     "text": [
      "Rozmiar listy tabu: 15, maksymalna powtórzeń: 10000, funkcja sąsiedztwa: insert, liczba tworzonych sąsiadów: 10\n",
      "Najlepsze rozwiązanie spośród 5 prób: [15, 14, 12, 13, 11, 10, 16, 17, 36, 35, 34, 33, 39, 40, 59, 58, 57, 56, 62, 61, 60, 54, 55, 50, 65, 64, 49, 48, 51, 52, 53, 41, 42, 27, 28, 29, 30, 18, 19, 4, 5, 6, 7, 8, 9, 3, 2, 1, 0, 22, 21, 20, 24, 23, 45, 44, 43, 47, 46, 68, 67, 66, 69, 70, 71, 72, 63, 38, 37, 31, 32, 26, 25, 74, 75, 73]\n",
      "Długość trasy: 130011.77708999392\n"
     ]
    }
   ],
   "source": [
    "tabu_search_multiple_runs(TSP_76, NN_76, 15, 10000, 'insert', 10, 5)"
   ]
  },
  {
   "cell_type": "markdown",
   "metadata": {},
   "source": [
    "Rozmiar listy tabu: 15, maksymalna powtórzeń: 10000, funkcja sąsiedztwa: insert, liczba tworzonych sąsiadów: 10\n",
    "Najlepsze rozwiązanie spośród 5 prób: [15, 14, 12, 13, 11, 10, 16, 17, 36, 35, 34, 33, 39, 40, 59, 58, 57, 56, 62, 61, 60, 54, 55, 50, 65, 64, 49, 48, 51, 52, 53, 41, 42, 27, 28, 29, 30, 18, 19, 4, 5, 6, 7, 8, 9, 3, 2, 1, 0, 22, 21, 20, 24, 23, 45, 44, 43, 47, 46, 68, 67, 66, 69, 70, 71, 72, 63, 38, 37, 31, 32, 26, 25, 74, 75, 73]\n",
    "Długość trasy: 130011.77708999392"
   ]
  },
  {
   "cell_type": "code",
   "execution_count": 28,
   "metadata": {},
   "outputs": [
    {
     "name": "stdout",
     "output_type": "stream",
     "text": [
      "Rozmiar listy tabu: 20, maksymalna powtórzeń: 10000, funkcja sąsiedztwa: insert, liczba tworzonych sąsiadów: 10\n",
      "Najlepsze rozwiązanie spośród 5 prób: [15, 14, 12, 13, 11, 10, 16, 17, 36, 35, 34, 33, 39, 40, 59, 58, 57, 56, 62, 61, 60, 54, 55, 50, 65, 64, 49, 48, 51, 52, 53, 41, 42, 27, 28, 29, 30, 18, 19, 4, 5, 6, 7, 8, 9, 3, 2, 1, 0, 22, 21, 20, 24, 23, 45, 44, 43, 47, 46, 68, 67, 66, 69, 70, 71, 72, 63, 38, 37, 31, 32, 26, 25, 74, 75, 73]\n",
      "Długość trasy: 130011.77708999392\n"
     ]
    }
   ],
   "source": [
    "tabu_search_multiple_runs(TSP_76, NN_76, 20, 10000, 'insert', 10, 5)"
   ]
  },
  {
   "cell_type": "markdown",
   "metadata": {},
   "source": [
    "Rozmiar listy tabu: 20, maksymalna powtórzeń: 10000, funkcja sąsiedztwa: insert, liczba tworzonych sąsiadów: 10\n",
    "Najlepsze rozwiązanie spośród 5 prób: [15, 14, 12, 13, 11, 10, 16, 17, 36, 35, 34, 33, 39, 40, 59, 58, 57, 56, 62, 61, 60, 54, 55, 50, 65, 64, 49, 48, 51, 52, 53, 41, 42, 27, 28, 29, 30, 18, 19, 4, 5, 6, 7, 8, 9, 3, 2, 1, 0, 22, 21, 20, 24, 23, 45, 44, 43, 47, 46, 68, 67, 66, 69, 70, 71, 72, 63, 38, 37, 31, 32, 26, 25, 74, 75, 73]\n",
    "Długość trasy: 130011.77708999392\n"
   ]
  },
  {
   "cell_type": "markdown",
   "metadata": {},
   "source": [
    "### Liczba iteracji"
   ]
  },
  {
   "cell_type": "code",
   "execution_count": 29,
   "metadata": {},
   "outputs": [
    {
     "name": "stdout",
     "output_type": "stream",
     "text": [
      "Rozmiar listy tabu: 10, maksymalna powtórzeń: 100, funkcja sąsiedztwa: insert, liczba tworzonych sąsiadów: 10\n",
      "Najlepsze rozwiązanie spośród 5 prób: [15, 14, 12, 13, 11, 10, 16, 17, 36, 35, 34, 33, 39, 40, 59, 58, 57, 56, 62, 61, 60, 54, 55, 50, 65, 64, 49, 48, 51, 52, 53, 41, 42, 27, 28, 29, 30, 18, 19, 4, 5, 6, 7, 8, 9, 3, 2, 1, 0, 22, 21, 20, 24, 23, 45, 44, 43, 47, 46, 68, 67, 66, 69, 70, 71, 72, 63, 38, 37, 31, 32, 26, 25, 74, 75, 73]\n",
      "Długość trasy: 130011.77708999392\n"
     ]
    }
   ],
   "source": [
    "tabu_search_multiple_runs(TSP_76, NN_76, 10, 100, 'insert', 10, 5)"
   ]
  },
  {
   "cell_type": "markdown",
   "metadata": {},
   "source": [
    "Rozmiar listy tabu: 10, maksymalna powtórzeń: 100, funkcja sąsiedztwa: insert, liczba tworzonych sąsiadów: 10\n",
    "Najlepsze rozwiązanie spośród 5 prób: [15, 14, 12, 13, 11, 10, 16, 17, 36, 35, 34, 33, 39, 40, 59, 58, 57, 56, 62, 61, 60, 54, 55, 50, 65, 64, 49, 48, 51, 52, 53, 41, 42, 27, 28, 29, 30, 18, 19, 4, 5, 6, 7, 8, 9, 3, 2, 1, 0, 22, 21, 20, 24, 23, 45, 44, 43, 47, 46, 68, 67, 66, 69, 70, 71, 72, 63, 38, 37, 31, 32, 26, 25, 74, 75, 73]\n",
    "Długość trasy: 130011.77708999392"
   ]
  },
  {
   "cell_type": "code",
   "execution_count": 30,
   "metadata": {},
   "outputs": [
    {
     "name": "stdout",
     "output_type": "stream",
     "text": [
      "Rozmiar listy tabu: 10, maksymalna powtórzeń: 1000, funkcja sąsiedztwa: insert, liczba tworzonych sąsiadów: 10\n",
      "Najlepsze rozwiązanie spośród 5 prób: [15, 14, 12, 13, 11, 10, 16, 17, 36, 35, 34, 33, 39, 40, 59, 58, 57, 56, 62, 61, 60, 54, 55, 50, 65, 64, 49, 48, 51, 52, 53, 41, 42, 27, 28, 29, 30, 18, 19, 4, 5, 6, 7, 8, 9, 3, 2, 1, 0, 22, 21, 20, 24, 23, 45, 44, 43, 47, 46, 68, 67, 66, 69, 70, 71, 72, 63, 38, 37, 31, 32, 26, 25, 74, 75, 73]\n",
      "Długość trasy: 130011.77708999392\n"
     ]
    }
   ],
   "source": [
    "tabu_search_multiple_runs(TSP_76, NN_76, 10, 1000, 'insert', 10, 5)"
   ]
  },
  {
   "cell_type": "markdown",
   "metadata": {},
   "source": [
    "Rozmiar listy tabu: 10, maksymalna powtórzeń: 1000, funkcja sąsiedztwa: insert, liczba tworzonych sąsiadów: 10\n",
    "Najlepsze rozwiązanie spośród 5 prób: [15, 14, 12, 13, 11, 10, 16, 17, 36, 35, 34, 33, 39, 40, 59, 58, 57, 56, 62, 61, 60, 54, 55, 50, 65, 64, 49, 48, 51, 52, 53, 41, 42, 27, 28, 29, 30, 18, 19, 4, 5, 6, 7, 8, 9, 3, 2, 1, 0, 22, 21, 20, 24, 23, 45, 44, 43, 47, 46, 68, 67, 66, 69, 70, 71, 72, 63, 38, 37, 31, 32, 26, 25, 74, 75, 73]\n",
    "Długość trasy: 130011.77708999392"
   ]
  },
  {
   "cell_type": "code",
   "execution_count": 31,
   "metadata": {},
   "outputs": [
    {
     "name": "stdout",
     "output_type": "stream",
     "text": [
      "Rozmiar listy tabu: 10, maksymalna powtórzeń: 10000, funkcja sąsiedztwa: insert, liczba tworzonych sąsiadów: 10\n",
      "Najlepsze rozwiązanie spośród 5 prób: [15, 14, 12, 13, 11, 10, 16, 17, 36, 35, 34, 33, 39, 40, 59, 58, 57, 56, 62, 61, 60, 54, 55, 50, 65, 64, 49, 48, 51, 52, 53, 41, 42, 27, 28, 29, 30, 18, 19, 4, 5, 6, 7, 8, 9, 3, 2, 1, 0, 22, 21, 20, 24, 23, 45, 44, 43, 47, 46, 68, 67, 66, 69, 70, 71, 72, 63, 38, 37, 31, 32, 26, 25, 74, 75, 73]\n",
      "Długość trasy: 130011.77708999392\n"
     ]
    }
   ],
   "source": [
    "tabu_search_multiple_runs(TSP_76, NN_76, 10, 10000,'insert', 10, 5)"
   ]
  },
  {
   "cell_type": "markdown",
   "metadata": {},
   "source": [
    "Rozmiar listy tabu: 10, maksymalna powtórzeń: 10000, funkcja sąsiedztwa: insert, liczba tworzonych sąsiadów: 10\n",
    "Najlepsze rozwiązanie spośród 5 prób: [15, 14, 12, 13, 11, 10, 16, 17, 36, 35, 34, 33, 39, 40, 59, 58, 57, 56, 62, 61, 60, 54, 55, 50, 65, 64, 49, 48, 51, 52, 53, 41, 42, 27, 28, 29, 30, 18, 19, 4, 5, 6, 7, 8, 9, 3, 2, 1, 0, 22, 21, 20, 24, 23, 45, 44, 43, 47, 46, 68, 67, 66, 69, 70, 71, 72, 63, 38, 37, 31, 32, 26, 25, 74, 75, 73]\n",
    "Długość trasy: 130011.77708999392"
   ]
  },
  {
   "cell_type": "code",
   "execution_count": 32,
   "metadata": {},
   "outputs": [
    {
     "name": "stdout",
     "output_type": "stream",
     "text": [
      "Rozmiar listy tabu: 10, maksymalna powtórzeń: 100000, funkcja sąsiedztwa: insert, liczba tworzonych sąsiadów: 10\n",
      "Najlepsze rozwiązanie spośród 5 prób: [15, 14, 12, 13, 11, 10, 16, 17, 36, 35, 34, 33, 39, 40, 59, 58, 57, 56, 62, 61, 60, 54, 55, 50, 65, 64, 49, 48, 51, 52, 53, 41, 42, 27, 28, 29, 30, 18, 19, 4, 5, 6, 7, 8, 9, 3, 2, 1, 0, 22, 21, 20, 24, 23, 45, 44, 43, 47, 46, 68, 67, 66, 69, 70, 71, 72, 63, 38, 37, 31, 32, 26, 25, 74, 75, 73]\n",
      "Długość trasy: 130011.77708999392\n"
     ]
    }
   ],
   "source": [
    "tabu_search_multiple_runs(TSP_76, NN_76, 10, 100000, 'insert', 10, 5)"
   ]
  },
  {
   "cell_type": "markdown",
   "metadata": {},
   "source": [
    "Rozmiar listy tabu: 10, maksymalna powtórzeń: 100000, funkcja sąsiedztwa: insert, liczba tworzonych sąsiadów: 10\n",
    "Najlepsze rozwiązanie spośród 5 prób: [15, 14, 12, 13, 11, 10, 16, 17, 36, 35, 34, 33, 39, 40, 59, 58, 57, 56, 62, 61, 60, 54, 55, 50, 65, 64, 49, 48, 51, 52, 53, 41, 42, 27, 28, 29, 30, 18, 19, 4, 5, 6, 7, 8, 9, 3, 2, 1, 0, 22, 21, 20, 24, 23, 45, 44, 43, 47, 46, 68, 67, 66, 69, 70, 71, 72, 63, 38, 37, 31, 32, 26, 25, 74, 75, 73]\n",
    "Długość trasy: 130011.77708999392"
   ]
  },
  {
   "cell_type": "markdown",
   "metadata": {},
   "source": [
    "### Czas liczenia"
   ]
  },
  {
   "cell_type": "code",
   "execution_count": 33,
   "metadata": {},
   "outputs": [
    {
     "name": "stdout",
     "output_type": "stream",
     "text": [
      "Rozmiar listy tabu: 10, maksymalny czas liczenia: 10, funkcja sąsiedztwa: insert, liczba tworzonych sąsiadów: 10\n",
      "Najlepsze rozwiązanie spośród 5 prób: [15, 14, 12, 13, 11, 10, 16, 17, 36, 35, 34, 33, 39, 40, 59, 58, 57, 56, 62, 61, 60, 54, 55, 50, 65, 64, 49, 48, 51, 52, 53, 41, 42, 27, 28, 29, 30, 18, 19, 4, 5, 6, 7, 8, 9, 3, 2, 1, 0, 22, 21, 20, 24, 23, 45, 44, 43, 47, 46, 68, 67, 66, 69, 70, 71, 72, 63, 38, 37, 31, 32, 26, 25, 74, 75, 73]\n",
      "Długość trasy: 130011.77708999392\n"
     ]
    }
   ],
   "source": [
    "tabu_search_with_time_limit_multiple_runs(TSP_76, NN_76, 10, 10, 'insert', 10, 5)"
   ]
  },
  {
   "cell_type": "markdown",
   "metadata": {},
   "source": [
    "Rozmiar listy tabu: 10, maksymalny czas liczenia: 10, funkcja sąsiedztwa: insert, liczba tworzonych sąsiadów: 10\n",
    "Najlepsze rozwiązanie spośród 5 prób: [15, 14, 12, 13, 11, 10, 16, 17, 36, 35, 34, 33, 39, 40, 59, 58, 57, 56, 62, 61, 60, 54, 55, 50, 65, 64, 49, 48, 51, 52, 53, 41, 42, 27, 28, 29, 30, 18, 19, 4, 5, 6, 7, 8, 9, 3, 2, 1, 0, 22, 21, 20, 24, 23, 45, 44, 43, 47, 46, 68, 67, 66, 69, 70, 71, 72, 63, 38, 37, 31, 32, 26, 25, 74, 75, 73]\n",
    "Długość trasy: 130011.77708999392"
   ]
  },
  {
   "cell_type": "code",
   "execution_count": 34,
   "metadata": {},
   "outputs": [
    {
     "name": "stdout",
     "output_type": "stream",
     "text": [
      "Rozmiar listy tabu: 10, maksymalny czas liczenia: 30, funkcja sąsiedztwa: insert, liczba tworzonych sąsiadów: 10\n",
      "Najlepsze rozwiązanie spośród 5 prób: [15, 14, 12, 13, 11, 10, 16, 17, 36, 35, 34, 33, 39, 40, 59, 58, 57, 56, 62, 61, 60, 54, 55, 50, 65, 64, 49, 48, 51, 52, 53, 41, 42, 27, 28, 29, 30, 18, 19, 4, 5, 6, 7, 8, 9, 3, 2, 1, 0, 22, 21, 20, 24, 23, 45, 44, 43, 47, 46, 68, 67, 66, 69, 70, 71, 72, 63, 38, 37, 31, 32, 26, 25, 74, 75, 73]\n",
      "Długość trasy: 130011.77708999392\n"
     ]
    }
   ],
   "source": [
    "tabu_search_with_time_limit_multiple_runs(TSP_76, NN_76, 10, 30, 'insert', 10, 5)"
   ]
  },
  {
   "cell_type": "markdown",
   "metadata": {},
   "source": [
    "Rozmiar listy tabu: 10, maksymalny czas liczenia: 30, funkcja sąsiedztwa: insert, liczba tworzonych sąsiadów: 10\n",
    "Najlepsze rozwiązanie spośród 5 prób: [15, 14, 12, 13, 11, 10, 16, 17, 36, 35, 34, 33, 39, 40, 59, 58, 57, 56, 62, 61, 60, 54, 55, 50, 65, 64, 49, 48, 51, 52, 53, 41, 42, 27, 28, 29, 30, 18, 19, 4, 5, 6, 7, 8, 9, 3, 2, 1, 0, 22, 21, 20, 24, 23, 45, 44, 43, 47, 46, 68, 67, 66, 69, 70, 71, 72, 63, 38, 37, 31, 32, 26, 25, 74, 75, 73]\n",
    "Długość trasy: 130011.77708999392"
   ]
  },
  {
   "cell_type": "code",
   "execution_count": 35,
   "metadata": {},
   "outputs": [
    {
     "name": "stdout",
     "output_type": "stream",
     "text": [
      "Rozmiar listy tabu: 10, maksymalny czas liczenia: 60, funkcja sąsiedztwa: insert, liczba tworzonych sąsiadów: 10\n",
      "Najlepsze rozwiązanie spośród 5 prób: [15, 14, 12, 13, 11, 10, 16, 17, 36, 35, 34, 33, 39, 40, 59, 58, 57, 56, 62, 61, 60, 54, 55, 50, 65, 64, 49, 48, 51, 52, 53, 41, 42, 27, 28, 29, 30, 18, 19, 4, 5, 6, 7, 8, 9, 3, 2, 1, 0, 22, 21, 20, 24, 23, 45, 44, 43, 47, 46, 68, 67, 66, 69, 70, 71, 72, 63, 38, 37, 31, 32, 26, 25, 74, 75, 73]\n",
      "Długość trasy: 130011.77708999392\n"
     ]
    }
   ],
   "source": [
    "tabu_search_with_time_limit_multiple_runs(TSP_76, NN_76, 10, 60, 'insert', 10, 5)"
   ]
  },
  {
   "cell_type": "markdown",
   "metadata": {},
   "source": [
    "Rozmiar listy tabu: 10, maksymalny czas liczenia: 60, funkcja sąsiedztwa: insert, liczba tworzonych sąsiadów: 10\n",
    "Najlepsze rozwiązanie spośród 5 prób: [15, 14, 12, 13, 11, 10, 16, 17, 36, 35, 34, 33, 39, 40, 59, 58, 57, 56, 62, 61, 60, 54, 55, 50, 65, 64, 49, 48, 51, 52, 53, 41, 42, 27, 28, 29, 30, 18, 19, 4, 5, 6, 7, 8, 9, 3, 2, 1, 0, 22, 21, 20, 24, 23, 45, 44, 43, 47, 46, 68, 67, 66, 69, 70, 71, 72, 63, 38, 37, 31, 32, 26, 25, 74, 75, 73]\n",
    "Długość trasy: 130011.77708999392"
   ]
  },
  {
   "cell_type": "code",
   "execution_count": 36,
   "metadata": {},
   "outputs": [
    {
     "name": "stdout",
     "output_type": "stream",
     "text": [
      "Rozmiar listy tabu: 10, maksymalny czas liczenia: 90, funkcja sąsiedztwa: insert, liczba tworzonych sąsiadów: 10\n",
      "Najlepsze rozwiązanie spośród 5 prób: [15, 14, 12, 13, 11, 10, 16, 17, 36, 35, 34, 33, 39, 40, 59, 58, 57, 56, 62, 61, 60, 54, 55, 50, 65, 64, 49, 48, 51, 52, 53, 41, 42, 27, 28, 29, 30, 18, 19, 4, 5, 6, 7, 8, 9, 3, 2, 1, 0, 22, 21, 20, 24, 23, 45, 44, 43, 47, 46, 68, 67, 66, 69, 70, 71, 72, 63, 38, 37, 31, 32, 26, 25, 74, 75, 73]\n",
      "Długość trasy: 130011.77708999392\n"
     ]
    }
   ],
   "source": [
    "tabu_search_with_time_limit_multiple_runs(TSP_76, NN_76, 10, 90, 'insert', 10, 5)"
   ]
  },
  {
   "cell_type": "markdown",
   "metadata": {},
   "source": [
    "Rozmiar listy tabu: 10, maksymalny czas liczenia: 90, funkcja sąsiedztwa: insert, liczba tworzonych sąsiadów: 10\n",
    "Najlepsze rozwiązanie spośród 5 prób: [15, 14, 12, 13, 11, 10, 16, 17, 36, 35, 34, 33, 39, 40, 59, 58, 57, 56, 62, 61, 60, 54, 55, 50, 65, 64, 49, 48, 51, 52, 53, 41, 42, 27, 28, 29, 30, 18, 19, 4, 5, 6, 7, 8, 9, 3, 2, 1, 0, 22, 21, 20, 24, 23, 45, 44, 43, 47, 46, 68, 67, 66, 69, 70, 71, 72, 63, 38, 37, 31, 32, 26, 25, 74, 75, 73]\n",
    "Długość trasy: 130011.77708999392"
   ]
  },
  {
   "cell_type": "markdown",
   "metadata": {},
   "source": [
    "### Liczba wygenerowanych sąsiedztw"
   ]
  },
  {
   "cell_type": "code",
   "execution_count": 37,
   "metadata": {},
   "outputs": [
    {
     "name": "stdout",
     "output_type": "stream",
     "text": [
      "Rozmiar listy tabu: 10, maksymalna powtórzeń: 10000, funkcja sąsiedztwa: insert, liczba tworzonych sąsiadów: 5\n",
      "Najlepsze rozwiązanie spośród 5 prób: [15, 14, 12, 13, 11, 10, 16, 17, 36, 35, 34, 33, 39, 40, 59, 58, 57, 56, 62, 61, 60, 54, 55, 50, 65, 64, 49, 48, 51, 52, 53, 41, 42, 27, 28, 29, 30, 18, 19, 4, 5, 6, 7, 8, 9, 3, 2, 1, 0, 22, 21, 20, 24, 23, 45, 44, 43, 47, 46, 68, 67, 66, 69, 70, 71, 72, 63, 38, 37, 31, 32, 26, 25, 74, 75, 73]\n",
      "Długość trasy: 130011.77708999392\n"
     ]
    }
   ],
   "source": [
    "tabu_search_multiple_runs(TSP_76, NN_76, 10, 10000,'insert', 5, 5)"
   ]
  },
  {
   "cell_type": "markdown",
   "metadata": {},
   "source": [
    "Rozmiar listy tabu: 10, maksymalna powtórzeń: 10000, funkcja sąsiedztwa: insert, liczba tworzonych sąsiadów: 5\n",
    "Najlepsze rozwiązanie spośród 5 prób: [15, 14, 12, 13, 11, 10, 16, 17, 36, 35, 34, 33, 39, 40, 59, 58, 57, 56, 62, 61, 60, 54, 55, 50, 65, 64, 49, 48, 51, 52, 53, 41, 42, 27, 28, 29, 30, 18, 19, 4, 5, 6, 7, 8, 9, 3, 2, 1, 0, 22, 21, 20, 24, 23, 45, 44, 43, 47, 46, 68, 67, 66, 69, 70, 71, 72, 63, 38, 37, 31, 32, 26, 25, 74, 75, 73]\n",
    "Długość trasy: 130011.77708999392"
   ]
  },
  {
   "cell_type": "code",
   "execution_count": 38,
   "metadata": {},
   "outputs": [
    {
     "name": "stdout",
     "output_type": "stream",
     "text": [
      "Rozmiar listy tabu: 10, maksymalna powtórzeń: 10000, funkcja sąsiedztwa: insert, liczba tworzonych sąsiadów: 8\n",
      "Najlepsze rozwiązanie spośród 5 prób: [15, 14, 12, 13, 11, 10, 16, 17, 36, 35, 34, 33, 39, 40, 59, 58, 57, 56, 62, 61, 60, 54, 55, 50, 65, 64, 49, 48, 51, 52, 53, 41, 42, 27, 28, 29, 30, 18, 19, 4, 5, 6, 7, 8, 9, 3, 2, 1, 0, 22, 21, 20, 24, 23, 45, 44, 43, 47, 46, 68, 67, 66, 69, 70, 71, 72, 63, 38, 37, 31, 32, 26, 25, 74, 75, 73]\n",
      "Długość trasy: 130011.77708999392\n"
     ]
    }
   ],
   "source": [
    "tabu_search_multiple_runs(TSP_76, NN_76, 10, 10000,'insert', 8, 5)"
   ]
  },
  {
   "cell_type": "markdown",
   "metadata": {},
   "source": [
    "Rozmiar listy tabu: 10, maksymalna powtórzeń: 10000, funkcja sąsiedztwa: insert, liczba tworzonych sąsiadów: 8\n",
    "Najlepsze rozwiązanie spośród 5 prób: [15, 14, 12, 13, 11, 10, 16, 17, 36, 35, 34, 33, 39, 40, 59, 58, 57, 56, 62, 61, 60, 54, 55, 50, 65, 64, 49, 48, 51, 52, 53, 41, 42, 27, 28, 29, 30, 18, 19, 4, 5, 6, 7, 8, 9, 3, 2, 1, 0, 22, 21, 20, 24, 23, 45, 44, 43, 47, 46, 68, 67, 66, 69, 70, 71, 72, 63, 38, 37, 31, 32, 26, 25, 74, 75, 73]\n",
    "Długość trasy: 130011.77708999392"
   ]
  },
  {
   "cell_type": "code",
   "execution_count": 39,
   "metadata": {},
   "outputs": [
    {
     "name": "stdout",
     "output_type": "stream",
     "text": [
      "Rozmiar listy tabu: 10, maksymalna powtórzeń: 10000, funkcja sąsiedztwa: insert, liczba tworzonych sąsiadów: 15\n",
      "Najlepsze rozwiązanie spośród 5 prób: [15, 14, 12, 13, 11, 10, 16, 17, 36, 35, 34, 33, 39, 40, 59, 58, 57, 56, 62, 61, 60, 54, 55, 50, 65, 64, 49, 48, 51, 52, 53, 41, 42, 27, 28, 29, 30, 18, 19, 4, 5, 6, 7, 8, 9, 3, 2, 1, 0, 22, 21, 20, 24, 23, 45, 44, 43, 47, 46, 68, 67, 66, 69, 70, 71, 72, 63, 38, 37, 31, 32, 26, 25, 74, 75, 73]\n",
      "Długość trasy: 130011.77708999392\n"
     ]
    }
   ],
   "source": [
    "tabu_search_multiple_runs(TSP_76, NN_76, 10, 10000,'insert', 15, 5)"
   ]
  },
  {
   "cell_type": "markdown",
   "metadata": {},
   "source": [
    "Rozmiar listy tabu: 10, maksymalna powtórzeń: 10000, funkcja sąsiedztwa: insert, liczba tworzonych sąsiadów: 15\n",
    "Najlepsze rozwiązanie spośród 5 prób: [15, 14, 12, 13, 11, 10, 16, 17, 36, 35, 34, 33, 39, 40, 59, 58, 57, 56, 62, 61, 60, 54, 55, 50, 65, 64, 49, 48, 51, 52, 53, 41, 42, 27, 28, 29, 30, 18, 19, 4, 5, 6, 7, 8, 9, 3, 2, 1, 0, 22, 21, 20, 24, 23, 45, 44, 43, 47, 46, 68, 67, 66, 69, 70, 71, 72, 63, 38, 37, 31, 32, 26, 25, 74, 75, 73]\n",
    "Długość trasy: 130011.77708999392"
   ]
  },
  {
   "cell_type": "code",
   "execution_count": 40,
   "metadata": {},
   "outputs": [
    {
     "name": "stdout",
     "output_type": "stream",
     "text": [
      "Rozmiar listy tabu: 10, maksymalna powtórzeń: 10000, funkcja sąsiedztwa: insert, liczba tworzonych sąsiadów: 20\n",
      "Najlepsze rozwiązanie spośród 5 prób: [15, 14, 12, 13, 11, 10, 16, 17, 36, 35, 34, 33, 39, 40, 59, 58, 57, 56, 62, 61, 60, 54, 55, 50, 65, 64, 49, 48, 51, 52, 53, 41, 42, 27, 28, 29, 30, 18, 19, 4, 5, 6, 7, 8, 9, 3, 2, 1, 0, 22, 21, 20, 24, 23, 45, 44, 43, 47, 46, 68, 67, 66, 69, 70, 71, 72, 63, 38, 37, 31, 32, 26, 25, 74, 75, 73]\n",
      "Długość trasy: 130011.77708999392\n"
     ]
    }
   ],
   "source": [
    "tabu_search_multiple_runs(TSP_76, NN_76, 10, 10000,'insert', 20, 5)"
   ]
  },
  {
   "cell_type": "markdown",
   "metadata": {},
   "source": [
    "Rozmiar listy tabu: 10, maksymalna powtórzeń: 10000, funkcja sąsiedztwa: insert, liczba tworzonych sąsiadów: 20\n",
    "Najlepsze rozwiązanie spośród 5 prób: [15, 14, 12, 13, 11, 10, 16, 17, 36, 35, 34, 33, 39, 40, 59, 58, 57, 56, 62, 61, 60, 54, 55, 50, 65, 64, 49, 48, 51, 52, 53, 41, 42, 27, 28, 29, 30, 18, 19, 4, 5, 6, 7, 8, 9, 3, 2, 1, 0, 22, 21, 20, 24, 23, 45, 44, 43, 47, 46, 68, 67, 66, 69, 70, 71, 72, 63, 38, 37, 31, 32, 26, 25, 74, 75, 73]\n",
    "Długość trasy: 130011.77708999392"
   ]
  },
  {
   "cell_type": "markdown",
   "metadata": {},
   "source": [
    "### Wnioski po testach: \n",
    "Przeprowadzone testy wskazują, że poza sąsiedztwem lub bardzo małą ilością iteracji, dobór parametrów nie ma większego znaczenia, jeżeli mamy już rozwiązanie w okolicy optymalnego. W testach celowo została użyta funkcja insert doboru sąsiedztwa ze względu na jej przeciętne wyniki, co pozwala na zbadanie wpływu innych parametrów. "
   ]
  },
  {
   "cell_type": "markdown",
   "metadata": {},
   "source": [
    "### Poszukiwanie najlepszego rozwiązania dla TSP_76\n",
    "Do poszukania najlepszego rozwiązanie wykorzystamy trasę wyznaczoną przez algorytm NN oraz parametry, które najlepiej sprawdziły się w wyznaczaniu trasy w testach."
   ]
  },
  {
   "cell_type": "code",
   "execution_count": 11,
   "metadata": {},
   "outputs": [
    {
     "name": "stdout",
     "output_type": "stream",
     "text": [
      "Rozmiar listy tabu: 10, maksymalna powtórzeń: 10000, funkcja sąsiedztwa: reverse, liczba tworzonych sąsiadów: 40\n",
      "Najlepsze rozwiązanie spośród 5 prób: [15, 14, 12, 13, 11, 10, 16, 17, 36, 35, 34, 33, 39, 40, 59, 58, 57, 56, 62, 63, 61, 60, 38, 37, 31, 32, 26, 25, 2, 3, 9, 8, 7, 6, 5, 4, 19, 18, 30, 29, 28, 27, 42, 41, 53, 52, 51, 48, 49, 64, 65, 50, 55, 54, 72, 71, 70, 69, 66, 67, 68, 46, 47, 43, 44, 45, 23, 24, 20, 21, 22, 0, 1, 74, 75, 73]\n",
      "Długość trasy: 123955.82644412278\n"
     ]
    }
   ],
   "source": [
    "NN_improved = [15, 14, 12, 13, 11, 10, 16, 17, 36, 35, 34, 33, 39, 40, 59, 58, 57, 56, 62, 63, 61, 60, 54, 55, 50, 65, 64, 49, 48, 51, 52, 53, 41, 42, 27, 28, 29, 30, 18, 19, 4, 5, 6, 7, 8, 9, 3, 2, 25, 26, 32, 31, 37, 38, 72, 71, 70, 69, 66, 67, 68, 46, 47, 43, 44, 45, 23, 24, 20, 21, 22, 0, 1, 74, 75, 73]\n",
    "\n",
    "tabu_search_multiple_runs(TSP_76, NN_improved, 10, 10000, 'reverse', 40, 5)"
   ]
  },
  {
   "cell_type": "code",
   "execution_count": 12,
   "metadata": {},
   "outputs": [
    {
     "name": "stdout",
     "output_type": "stream",
     "text": [
      "Rozmiar listy tabu: 10, maksymalna powtórzeń: 10000, funkcja sąsiedztwa: reverse, liczba tworzonych sąsiadów: 40\n",
      "Najlepsze rozwiązanie spośród 10 prób: [15, 14, 12, 13, 11, 10, 16, 17, 36, 35, 34, 33, 39, 40, 59, 58, 57, 56, 54, 55, 50, 65, 64, 49, 48, 51, 52, 53, 41, 42, 27, 28, 29, 30, 18, 19, 4, 5, 6, 7, 8, 9, 3, 2, 25, 26, 32, 31, 37, 38, 60, 61, 63, 62, 72, 71, 70, 69, 66, 67, 68, 46, 47, 43, 44, 45, 23, 24, 20, 21, 22, 0, 1, 74, 75, 73]\n",
      "Długość trasy: 121688.30398853934\n"
     ]
    }
   ],
   "source": [
    "NN_improved_2 = [15, 14, 12, 13, 11, 10, 16, 17, 36, 35, 34, 33, 39, 40, 59, 58, 57, 56, 62, 63, 61, 60, 38, 37, 31, 32, 26, 25, 2, 3, 9, 8, 7, 6, 5, 4, 19, 18, 30, 29, 28, 27, 42, 41, 53, 52, 51, 48, 49, 64, 65, 50, 55, 54, 72, 71, 70, 69, 66, 67, 68, 46, 47, 43, 44, 45, 23, 24, 20, 21, 22, 0, 1, 74, 75, 73]\n",
    "# Długość trasy: 123955.82644412278\n",
    "\n",
    "tabu_search_multiple_runs(TSP_76, NN_improved_2, 10, 10000, 'reverse', 40, 10)"
   ]
  },
  {
   "cell_type": "code",
   "execution_count": 13,
   "metadata": {},
   "outputs": [
    {
     "name": "stdout",
     "output_type": "stream",
     "text": [
      "Rozmiar listy tabu: 10, maksymalny czas liczenia: 30, funkcja sąsiedztwa: reverse, liczba tworzonych sąsiadów: 40\n",
      "Najlepsze rozwiązanie spośród 10 prób: [13, 12, 14, 15, 11, 10, 16, 17, 36, 35, 34, 33, 39, 40, 59, 58, 57, 56, 54, 55, 50, 65, 64, 49, 48, 51, 52, 53, 41, 42, 27, 28, 29, 30, 18, 19, 4, 5, 6, 7, 8, 9, 3, 2, 25, 26, 32, 31, 37, 38, 60, 61, 63, 62, 72, 71, 70, 69, 66, 67, 68, 46, 47, 43, 44, 45, 23, 24, 20, 21, 22, 0, 1, 74, 75, 73]\n",
      "Długość trasy: 119798.65413878842\n"
     ]
    }
   ],
   "source": [
    "NN_improved_3 = [15, 14, 12, 13, 11, 10, 16, 17, 36, 35, 34, 33, 39, 40, 59, 58, 57, 56, 54, 55, 50, 65, 64, 49, 48, 51, 52, 53, 41, 42, 27, 28, 29, 30, 18, 19, 4, 5, 6, 7, 8, 9, 3, 2, 25, 26, 32, 31, 37, 38, 60, 61, 63, 62, 72, 71, 70, 69, 66, 67, 68, 46, 47, 43, 44, 45, 23, 24, 20, 21, 22, 0, 1, 74, 75, 73]\n",
    "# Długość trasy: 121688.30398853934\n",
    "\n",
    "tabu_search_with_time_limit_multiple_runs(TSP_76, NN_improved_3, 10, 30, 'reverse', 40, 10)"
   ]
  },
  {
   "cell_type": "code",
   "execution_count": 14,
   "metadata": {},
   "outputs": [
    {
     "name": "stdout",
     "output_type": "stream",
     "text": [
      "Rozmiar listy tabu: 10, maksymalny czas liczenia: 60, funkcja sąsiedztwa: reverse, liczba tworzonych sąsiadów: 40\n",
      "Najlepsze rozwiązanie spośród 10 prób: [13, 12, 14, 15, 11, 10, 16, 17, 36, 35, 34, 33, 39, 40, 59, 58, 57, 56, 54, 55, 50, 65, 64, 49, 48, 51, 52, 53, 41, 42, 27, 28, 29, 30, 18, 19, 4, 5, 6, 7, 8, 9, 3, 2, 25, 26, 32, 31, 37, 38, 60, 61, 62, 63, 72, 71, 70, 69, 66, 67, 68, 46, 47, 43, 44, 45, 23, 24, 20, 21, 22, 0, 1, 74, 75, 73]\n",
      "Długość trasy: 118626.14628956148\n"
     ]
    }
   ],
   "source": [
    "NN_improved_4 = [13, 12, 14, 15, 11, 10, 16, 17, 36, 35, 34, 33, 39, 40, 59, 58, 57, 56, 54, 55, 50, 65, 64, 49, 48, 51, 52, 53, 41, 42, 27, 28, 29, 30, 18, 19, 4, 5, 6, 7, 8, 9, 3, 2, 25, 26, 32, 31, 37, 38, 60, 61, 63, 62, 72, 71, 70, 69, 66, 67, 68, 46, 47, 43, 44, 45, 23, 24, 20, 21, 22, 0, 1, 74, 75, 73]\n",
    "# Długość trasy: 119798.65413878842\n",
    "\n",
    "tabu_search_with_time_limit_multiple_runs(TSP_76, NN_improved_4, 10, 60, 'reverse', 40, 10)"
   ]
  },
  {
   "cell_type": "code",
   "execution_count": 15,
   "metadata": {},
   "outputs": [
    {
     "name": "stdout",
     "output_type": "stream",
     "text": [
      "Rozmiar listy tabu: 10, maksymalny czas liczenia: 30, funkcja sąsiedztwa: reverse, liczba tworzonych sąsiadów: 40\n",
      "Najlepsze rozwiązanie spośród 5 prób: [13, 12, 14, 15, 11, 10, 16, 17, 36, 35, 34, 33, 39, 38, 37, 31, 32, 26, 25, 2, 3, 9, 8, 7, 6, 5, 4, 19, 18, 30, 29, 28, 27, 42, 41, 53, 52, 51, 48, 49, 64, 65, 50, 55, 54, 56, 57, 58, 59, 40, 60, 61, 62, 63, 72, 71, 70, 69, 66, 67, 68, 46, 47, 43, 44, 45, 23, 24, 20, 21, 22, 0, 1, 74, 75, 73]\n",
      "Długość trasy: 117681.76854305725\n"
     ]
    }
   ],
   "source": [
    "NN_improved_5 = [13, 12, 14, 15, 11, 10, 16, 17, 36, 35, 34, 33, 39, 40, 59, 58, 57, 56, 54, 55, 50, 65, 64, 49, 48, 51, 52, 53, 41, 42, 27, 28, 29, 30, 18, 19, 4, 5, 6, 7, 8, 9, 3, 2, 25, 26, 32, 31, 37, 38, 60, 61, 62, 63, 72, 71, 70, 69, 66, 67, 68, 46, 47, 43, 44, 45, 23, 24, 20, 21, 22, 0, 1, 74, 75, 73]\n",
    "# Długość trasy: 118626.14628956148\n",
    "\n",
    "tabu_search_with_time_limit_multiple_runs(TSP_76, NN_improved_5, 10, 30, 'reverse', 40, 5)"
   ]
  },
  {
   "cell_type": "code",
   "execution_count": 16,
   "metadata": {},
   "outputs": [
    {
     "name": "stdout",
     "output_type": "stream",
     "text": [
      "Rozmiar listy tabu: 10, maksymalny czas liczenia: 30, funkcja sąsiedztwa: reverse, liczba tworzonych sąsiadów: 40\n",
      "Najlepsze rozwiązanie spośród 10 prób: [13, 12, 14, 15, 11, 10, 16, 17, 36, 35, 37, 38, 39, 33, 34, 31, 32, 26, 25, 2, 3, 9, 8, 7, 6, 5, 4, 19, 18, 30, 29, 28, 27, 42, 41, 53, 52, 51, 48, 49, 64, 65, 50, 55, 54, 56, 57, 58, 59, 40, 60, 61, 62, 63, 72, 71, 70, 69, 66, 67, 68, 46, 47, 43, 44, 45, 23, 24, 20, 21, 22, 0, 1, 74, 75, 73]\n",
      "Długość trasy: 116323.24227533051\n"
     ]
    }
   ],
   "source": [
    "NN_improved_6 = [13, 12, 14, 15, 11, 10, 16, 17, 36, 35, 34, 33, 39, 38, 37, 31, 32, 26, 25, 2, 3, 9, 8, 7, 6, 5, 4, 19, 18, 30, 29, 28, 27, 42, 41, 53, 52, 51, 48, 49, 64, 65, 50, 55, 54, 56, 57, 58, 59, 40, 60, 61, 62, 63, 72, 71, 70, 69, 66, 67, 68, 46, 47, 43, 44, 45, 23, 24, 20, 21, 22, 0, 1, 74, 75, 73]\n",
    "# Długość trasy: 117681.76854305725\n",
    "\n",
    "tabu_search_with_time_limit_multiple_runs(TSP_76, NN_improved_6, 10, 30, 'reverse', 40, 10)"
   ]
  },
  {
   "cell_type": "code",
   "execution_count": 17,
   "metadata": {},
   "outputs": [
    {
     "name": "stdout",
     "output_type": "stream",
     "text": [
      "Rozmiar listy tabu: 10, maksymalny czas liczenia: 30, funkcja sąsiedztwa: reverse, liczba tworzonych sąsiadów: 40\n",
      "Najlepsze rozwiązanie spośród 10 prób: [13, 12, 14, 15, 11, 10, 16, 17, 36, 35, 37, 38, 39, 33, 34, 31, 32, 26, 25, 2, 3, 5, 6, 7, 8, 9, 4, 19, 18, 30, 29, 28, 27, 42, 41, 53, 52, 51, 48, 49, 64, 65, 50, 55, 54, 56, 57, 58, 59, 40, 60, 61, 62, 63, 72, 71, 70, 69, 66, 67, 68, 46, 47, 43, 44, 45, 23, 24, 20, 21, 22, 0, 1, 74, 75, 73]\n",
      "Długość trasy: 115499.25851336036\n"
     ]
    }
   ],
   "source": [
    "NN_improved_7 = [13, 12, 14, 15, 11, 10, 16, 17, 36, 35, 37, 38, 39, 33, 34, 31, 32, 26, 25, 2, 3, 9, 8, 7, 6, 5, 4, 19, 18, 30, 29, 28, 27, 42, 41, 53, 52, 51, 48, 49, 64, 65, 50, 55, 54, 56, 57, 58, 59, 40, 60, 61, 62, 63, 72, 71, 70, 69, 66, 67, 68, 46, 47, 43, 44, 45, 23, 24, 20, 21, 22, 0, 1, 74, 75, 73]\n",
    "# Długość trasy: 116323.24227533051\n",
    "\n",
    "tabu_search_with_time_limit_multiple_runs(TSP_76, NN_improved_7, 10, 30, 'reverse', 40, 10)"
   ]
  },
  {
   "cell_type": "code",
   "execution_count": 18,
   "metadata": {},
   "outputs": [
    {
     "name": "stdout",
     "output_type": "stream",
     "text": [
      "Rozmiar listy tabu: 10, maksymalny czas liczenia: 60, funkcja sąsiedztwa: reverse, liczba tworzonych sąsiadów: 40\n",
      "Najlepsze rozwiązanie spośród 10 prób: [13, 12, 14, 15, 11, 10, 16, 17, 36, 35, 37, 38, 39, 33, 34, 31, 32, 26, 25, 3, 2, 5, 6, 7, 8, 9, 4, 19, 18, 30, 29, 28, 27, 42, 41, 53, 52, 51, 48, 49, 64, 65, 50, 55, 54, 56, 57, 58, 59, 40, 60, 61, 62, 63, 72, 71, 70, 69, 66, 67, 68, 46, 47, 43, 44, 45, 23, 24, 20, 21, 22, 0, 1, 74, 75, 73]\n",
      "Długość trasy: 114538.96133948538\n"
     ]
    }
   ],
   "source": [
    "NN_improved_8 = [13, 12, 14, 15, 11, 10, 16, 17, 36, 35, 37, 38, 39, 33, 34, 31, 32, 26, 25, 2, 3, 5, 6, 7, 8, 9, 4, 19, 18, 30, 29, 28, 27, 42, 41, 53, 52, 51, 48, 49, 64, 65, 50, 55, 54, 56, 57, 58, 59, 40, 60, 61, 62, 63, 72, 71, 70, 69, 66, 67, 68, 46, 47, 43, 44, 45, 23, 24, 20, 21, 22, 0, 1, 74, 75, 73]\n",
    "# Długość trasy: 115499.25851336036\n",
    "\n",
    "tabu_search_with_time_limit_multiple_runs(TSP_76, NN_improved_8, 10, 60, 'reverse', 40, 10)"
   ]
  },
  {
   "cell_type": "code",
   "execution_count": 19,
   "metadata": {},
   "outputs": [
    {
     "name": "stdout",
     "output_type": "stream",
     "text": [
      "Rozmiar listy tabu: 10, maksymalny czas liczenia: 60, funkcja sąsiedztwa: reverse, liczba tworzonych sąsiadów: 40\n",
      "Najlepsze rozwiązanie spośród 10 prób: [13, 12, 14, 15, 11, 10, 16, 17, 36, 35, 37, 38, 39, 33, 34, 31, 32, 28, 29, 30, 18, 19, 4, 9, 8, 7, 6, 5, 2, 3, 25, 26, 27, 42, 41, 53, 52, 51, 48, 49, 64, 65, 50, 55, 54, 56, 57, 58, 59, 40, 60, 61, 62, 63, 72, 71, 70, 69, 66, 67, 68, 46, 47, 43, 44, 45, 23, 24, 20, 21, 22, 0, 1, 74, 75, 73]\n",
      "Długość trasy: 113717.58737089993\n"
     ]
    }
   ],
   "source": [
    "NN_improved_9 = [13, 12, 14, 15, 11, 10, 16, 17, 36, 35, 37, 38, 39, 33, 34, 31, 32, 26, 25, 3, 2, 5, 6, 7, 8, 9, 4, 19, 18, 30, 29, 28, 27, 42, 41, 53, 52, 51, 48, 49, 64, 65, 50, 55, 54, 56, 57, 58, 59, 40, 60, 61, 62, 63, 72, 71, 70, 69, 66, 67, 68, 46, 47, 43, 44, 45, 23, 24, 20, 21, 22, 0, 1, 74, 75, 73]\n",
    "# Długość trasy: 114538.96133948538\n",
    "\n",
    "tabu_search_with_time_limit_multiple_runs(TSP_76, NN_improved_9, 10, 60, 'reverse', 40, 10)"
   ]
  },
  {
   "cell_type": "markdown",
   "metadata": {},
   "source": [
    "Wnioski: Algorytm Tabu_Search ma problem ze znalezieniem optimum lokalnego dla dużych zbiorów danych. Wymaga wielokrotnego \"restartu\" z trasą lepszej jakości uzyskaną w poprzedniej iteracji. Po 9 iteracjach nadal jest w stanie poprawić swój wynik, jednak zysk z tej poprawy maleje, można to zobaczyć na wykresie poprawy wyniku w pliku głównym."
   ]
  },
  {
   "cell_type": "markdown",
   "metadata": {},
   "source": [
    "### Ostateczne poszukiwanie rozwiązania - funkcja rekurecnycjna"
   ]
  },
  {
   "cell_type": "code",
   "execution_count": 2,
   "metadata": {},
   "outputs": [],
   "source": [
    "# Funkcja rekurencyjnie wykorzystująca tabu search do znalezienia najlepszego rozwiązania\n",
    "def tabu_search_recursive(distance_matrix, initial_solution, tabu_list_size, max_iterations, neighbor_type='swap', gen_neighbor_size=10, num_runs=5):\n",
    "    best_overall_solution = initial_solution.copy()\n",
    "    best_overall_distance = calculate_total_distance(best_overall_solution, distance_matrix)\n",
    "    for _ in range(num_runs):\n",
    "        # Wywołaj funkcję tabu_search i zapisz wyniki\n",
    "        current_solution, current_distance = tabu_search(distance_matrix, initial_solution, tabu_list_size, max_iterations, neighbor_type, gen_neighbor_size)\n",
    "\n",
    "        # Sprawdź, czy bieżące rozwiązanie jest lepsze od najlepszego dotychczasowego\n",
    "        if current_distance < best_overall_distance:\n",
    "            best_overall_solution = current_solution\n",
    "            best_overall_distance = current_distance\n",
    "\n",
    "    # Wydrukuj informacje o najlepszym rozwiązaniu z wszystkich prób\n",
    "    print(\"Rozmiar listy tabu: {}, maksymalna powtórzeń: {}, funkcja sąsiedztwa: {}, liczba tworzonych sąsiadów: {}\".format(tabu_list_size, max_iterations, neighbor_type, gen_neighbor_size))\n",
    "    print(\"Najlepsze rozwiązanie spośród {} prób: {}\".format(num_runs, best_overall_solution))\n",
    "    print(\"Długość trasy: {}\".format(best_overall_distance))\n",
    "\n",
    "    # Jeśli znaleziono lepsze rozwiązanie, wywołaj funkcję rekurencyjnie\n",
    "    if best_overall_solution != initial_solution:\n",
    "        tabu_search_recursive(distance_matrix, best_overall_solution, tabu_list_size, max_iterations, neighbor_type, gen_neighbor_size, num_runs)"
   ]
  },
  {
   "cell_type": "code",
   "execution_count": 15,
   "metadata": {},
   "outputs": [
    {
     "name": "stdout",
     "output_type": "stream",
     "text": [
      "Rozmiar listy tabu: 10, maksymalna powtórzeń: 3000, funkcja sąsiedztwa: reverse, liczba tworzonych sąsiadów: 40\n",
      "Najlepsze rozwiązanie spośród 10 prób: [13, 12, 14, 15, 11, 10, 16, 17, 36, 35, 37, 38, 39, 33, 34, 31, 32, 28, 29, 30, 18, 19, 4, 9, 8, 7, 6, 5, 2, 3, 25, 26, 27, 42, 41, 53, 52, 51, 48, 49, 50, 65, 64, 55, 54, 56, 57, 58, 59, 40, 60, 61, 62, 63, 72, 71, 70, 69, 66, 67, 68, 46, 47, 43, 44, 45, 23, 24, 20, 21, 22, 0, 1, 74, 75, 73]\n",
      "Długość trasy: 113549.994215523\n",
      "Rozmiar listy tabu: 10, maksymalna powtórzeń: 3000, funkcja sąsiedztwa: reverse, liczba tworzonych sąsiadów: 40\n",
      "Najlepsze rozwiązanie spośród 10 prób: [13, 12, 14, 15, 11, 10, 16, 17, 36, 35, 37, 38, 39, 33, 34, 31, 32, 28, 29, 30, 18, 19, 4, 9, 8, 7, 6, 5, 2, 3, 25, 26, 27, 42, 41, 53, 52, 51, 48, 49, 50, 65, 64, 55, 54, 56, 57, 58, 59, 40, 60, 61, 62, 63, 72, 71, 70, 69, 66, 67, 68, 46, 47, 43, 44, 45, 23, 24, 20, 21, 22, 0, 1, 75, 74, 73]\n",
      "Długość trasy: 113438.77721469807\n",
      "Rozmiar listy tabu: 10, maksymalna powtórzeń: 3000, funkcja sąsiedztwa: reverse, liczba tworzonych sąsiadów: 40\n",
      "Najlepsze rozwiązanie spośród 10 prób: [13, 12, 14, 15, 11, 10, 16, 17, 36, 35, 37, 38, 39, 33, 34, 32, 31, 28, 29, 30, 18, 19, 4, 9, 8, 7, 6, 5, 2, 3, 25, 26, 27, 42, 41, 53, 52, 51, 48, 49, 50, 65, 64, 55, 54, 56, 57, 58, 59, 40, 60, 61, 62, 63, 72, 71, 70, 69, 66, 67, 68, 46, 47, 43, 44, 45, 23, 24, 20, 21, 22, 0, 1, 75, 74, 73]\n",
      "Długość trasy: 113403.83076095542\n",
      "Rozmiar listy tabu: 10, maksymalna powtórzeń: 3000, funkcja sąsiedztwa: reverse, liczba tworzonych sąsiadów: 40\n",
      "Najlepsze rozwiązanie spośród 10 prób: [13, 73, 74, 75, 1, 0, 22, 21, 20, 24, 23, 45, 44, 43, 47, 46, 68, 67, 66, 69, 70, 71, 72, 63, 62, 61, 60, 40, 59, 58, 57, 56, 54, 55, 64, 65, 50, 49, 48, 51, 52, 53, 41, 42, 27, 26, 25, 3, 2, 5, 6, 7, 8, 9, 4, 19, 18, 30, 29, 28, 31, 32, 34, 33, 39, 38, 37, 35, 36, 17, 16, 10, 11, 15, 14, 12]\n",
      "Długość trasy: 113403.8307609554\n",
      "Rozmiar listy tabu: 10, maksymalna powtórzeń: 3000, funkcja sąsiedztwa: reverse, liczba tworzonych sąsiadów: 40\n",
      "Najlepsze rozwiązanie spośród 10 prób: [13, 73, 74, 75, 1, 0, 22, 21, 20, 24, 23, 45, 44, 43, 47, 46, 68, 67, 66, 69, 70, 71, 72, 63, 62, 61, 60, 40, 59, 58, 57, 56, 54, 55, 64, 65, 50, 49, 48, 51, 52, 53, 41, 42, 27, 26, 25, 3, 2, 5, 6, 7, 8, 9, 4, 19, 18, 30, 29, 28, 31, 32, 34, 33, 39, 38, 37, 35, 36, 17, 16, 10, 11, 15, 14, 12]\n",
      "Długość trasy: 113403.8307609554\n"
     ]
    }
   ],
   "source": [
    "NN_improved_10 = [13, 12, 14, 15, 11, 10, 16, 17, 36, 35, 37, 38, 39, 33, 34, 31, 32, 28, 29, 30, 18, 19, 4, 9, 8, 7, 6, 5, 2, 3, 25, 26, 27, 42, 41, 53, 52, 51, 48, 49, 64, 65, 50, 55, 54, 56, 57, 58, 59, 40, 60, 61, 62, 63, 72, 71, 70, 69, 66, 67, 68, 46, 47, 43, 44, 45, 23, 24, 20, 21, 22, 0, 1, 74, 75, 73]\n",
    "# Długość trasy: 113717.58737089993\n",
    "\n",
    "tabu_search_recursive(TSP_76, NN_improved_10, 10, 3000, 'reverse', 40, 10)"
   ]
  },
  {
   "cell_type": "markdown",
   "metadata": {},
   "source": [
    "Wnioski: Funkcja rekurencyjna po dodatkowych 4 powtórzeniach znalazła optymalny wynik, oto on:\n",
    "\n",
    "Rozmiar listy tabu: 10, maksymalna powtórzeń: 3000, funkcja sąsiedztwa: reverse, liczba tworzonych sąsiadów: 40\n",
    "Najlepsze rozwiązanie spośród 10 prób: [13, 73, 74, 75, 1, 0, 22, 21, 20, 24, 23, 45, 44, 43, 47, 46, 68, 67, 66, 69, 70, 71, 72, 63, 62, 61, 60, 40, 59, 58, 57, 56, 54, 55, 64, 65, 50, 49, 48, 51, 52, 53, 41, 42, 27, 26, 25, 3, 2, 5, 6, 7, 8, 9, 4, 19, 18, 30, 29, 28, 31, 32, 34, 33, 39, 38, 37, 35, 36, 17, 16, 10, 11, 15, 14, 12]\n",
    "Długość trasy: 113403.8307609554"
   ]
  }
 ],
 "metadata": {
  "kernelspec": {
   "display_name": "base",
   "language": "python",
   "name": "python3"
  },
  "language_info": {
   "codemirror_mode": {
    "name": "ipython",
    "version": 3
   },
   "file_extension": ".py",
   "mimetype": "text/x-python",
   "name": "python",
   "nbconvert_exporter": "python",
   "pygments_lexer": "ipython3",
   "version": "3.11.5"
  }
 },
 "nbformat": 4,
 "nbformat_minor": 2
}
