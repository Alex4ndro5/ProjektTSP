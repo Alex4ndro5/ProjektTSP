{
 "cells": [
  {
   "cell_type": "code",
   "execution_count": 1,
   "metadata": {},
   "outputs": [],
   "source": [
    "import pandas as pd\n",
    "import numpy as np\n",
    "import random\n",
    "import time"
   ]
  },
  {
   "cell_type": "markdown",
   "metadata": {},
   "source": [
    "# Metody doboru sąsiedztwa"
   ]
  },
  {
   "cell_type": "code",
   "execution_count": 2,
   "metadata": {},
   "outputs": [],
   "source": [
    "def generate_neighbor(solution, neighbor_type='swap'):\n",
    "    i, j = np.random.choice(len(solution), size=2, replace=False)\n",
    "    neighbor = solution.copy()\n",
    "    city1, city2 = neighbor[i], neighbor[j]\n",
    "    city_pair = [city1, city2]\n",
    "    if neighbor_type == 'swap':\n",
    "        # Generuj sąsiada przez zamianę dwóch losowych miast\n",
    "        neighbor[i], neighbor[j] = neighbor[j], neighbor[i]\n",
    "    elif neighbor_type == 'insert':\n",
    "        # Generuj sąsiada przez wstawienie losowego miasta w inne miejsce\n",
    "        neighbor.insert(j, neighbor.pop(i))\n",
    "    elif neighbor_type == 'reverse':\n",
    "        # Generuj sąsiada przez odwrócenie kolejności miast pomiędzy dwoma losowymi indeksami\n",
    "        if i > j:\n",
    "            i, j = j, i\n",
    "        neighbor[i:j + 1] = reversed(neighbor[i:j + 1])\n",
    "    else:\n",
    "        raise ValueError(\"Nieznany rodzaj sąsiedztwa: {}\".format(neighbor_type))\n",
    "    return neighbor, city_pair"
   ]
  },
  {
   "cell_type": "markdown",
   "metadata": {},
   "source": [
    "# Funkcje trasy"
   ]
  },
  {
   "cell_type": "code",
   "execution_count": 3,
   "metadata": {},
   "outputs": [],
   "source": [
    "# Stworzenie funkcji ustalenia początkowej trasy\n",
    "def create_initial_route(distance_matrix):\n",
    "    route = list(range(len(distance_matrix)))\n",
    "    random.shuffle(route)\n",
    "    return route"
   ]
  },
  {
   "cell_type": "code",
   "execution_count": 4,
   "metadata": {},
   "outputs": [],
   "source": [
    "def calculate_total_distance(solution, distance_matrix):\n",
    "    total_distance = 0\n",
    "    num_cities = len(solution)\n",
    "\n",
    "    for i in range(num_cities - 1):\n",
    "        total_distance += distance_matrix.at[solution[i], solution[i + 1]]\n",
    "\n",
    "    # Dodaj odległość z ostatniego do pierwszego miasta\n",
    "    total_distance += distance_matrix.at[solution[num_cities - 1], solution[0]]\n",
    "\n",
    "    return total_distance"
   ]
  },
  {
   "cell_type": "markdown",
   "metadata": {},
   "source": [
    "# Tabu Search"
   ]
  },
  {
   "cell_type": "code",
   "execution_count": 5,
   "metadata": {},
   "outputs": [],
   "source": [
    "def tabu_search(distance_matrix, initial_solution, tabu_list_size, max_iterations, neighbor_type='swap', gen_neighbor_size=10):\n",
    "    # Inicjalizacja bieżącego rozwiązania, najlepszego rozwiązania, listy tabu i najlepszego dystansu\n",
    "    current_solution = initial_solution.copy()\n",
    "    best_solution = current_solution.copy()\n",
    "    tabu_list = []\n",
    "    best_distance = calculate_total_distance(best_solution, distance_matrix)\n",
    "\n",
    "    # Pętla główna algorytmu Tabu Search\n",
    "    for _ in range(max_iterations):\n",
    "        # Generowanie sąsiadów bieżącego rozwiązania\n",
    "        neighbors = [generate_neighbor(current_solution, neighbor_type) for _ in range(gen_neighbor_size)]\n",
    "\n",
    "        # Obliczanie dystansów dla kandydatów, którzy nie są na liście tabu\n",
    "        candidate_distances = [(neighbor, city_pair, calculate_total_distance(neighbor, distance_matrix)) for neighbor, city_pair in neighbors if city_pair not in tabu_list]\n",
    "\n",
    "        # Jeśli brak kandydatów spoza listy tabu, kontynuuj pętlę\n",
    "        if not candidate_distances:\n",
    "            continue\n",
    "\n",
    "        # Wybieranie najlepszego kandydata\n",
    "        candidate_solution, city_pair, candidate_distance = min(candidate_distances, key=lambda x: x[2])\n",
    "\n",
    "        # Aktualizacja najlepszego rozwiązania, jeśli znaleziono lepsze\n",
    "        if candidate_distance < best_distance:\n",
    "            best_solution = candidate_solution\n",
    "            best_distance = candidate_distance\n",
    "\n",
    "        # Dodanie ruchu do listy tabu\n",
    "        tabu_list.append(city_pair)\n",
    "        if len(tabu_list) > tabu_list_size:\n",
    "            tabu_list.pop(0)  # Usuwanie najstarszego ruchu z listy tabu\n",
    "\n",
    "    # Zwracanie najlepszego rozwiązania i odpowiadającego mu dystansu\n",
    "    return best_solution, best_distance\n"
   ]
  },
  {
   "cell_type": "code",
   "execution_count": 6,
   "metadata": {},
   "outputs": [],
   "source": [
    "def tabu_search_with_time_limit(distance_matrix, initial_solution, tabu_list_size, max_time_seconds, neighbor_type='swap', gen_neighbor_size=10):\n",
    "    # Inicjalizacja bieżącego rozwiązania, najlepszego rozwiązania, listy tabu i najlepszego dystansu\n",
    "    current_solution = initial_solution.copy()\n",
    "    best_solution = current_solution.copy()\n",
    "    tabu_list = []\n",
    "    best_distance = calculate_total_distance(best_solution, distance_matrix)\n",
    "\n",
    "    # Początkowy czas wykonania algorytmu\n",
    "    start_time = time.time()\n",
    "\n",
    "    # Pętla główna algorytmu Tabu Search z ograniczeniem czasowym\n",
    "    while (time.time() - start_time) < max_time_seconds:\n",
    "        # Generowanie sąsiadów bieżącego rozwiązania\n",
    "        neighbors = [generate_neighbor(current_solution, neighbor_type) for _ in range(gen_neighbor_size)]\n",
    "\n",
    "        # Obliczanie dystansów dla kandydatów, którzy nie są na liście tabu\n",
    "        candidate_distances = [(neighbor, city_pair, calculate_total_distance(neighbor, distance_matrix)) for neighbor, city_pair in neighbors if city_pair not in tabu_list]\n",
    "\n",
    "        # Jeśli brak kandydatów spoza listy tabu, kontynuuj pętlę\n",
    "        if not candidate_distances:\n",
    "            continue\n",
    "\n",
    "        # Wybieranie najlepszego kandydata\n",
    "        candidate_solution, city_pair, candidate_distance = min(candidate_distances, key=lambda x: x[2])\n",
    "\n",
    "        # Aktualizacja najlepszego rozwiązania, jeśli znaleziono lepsze\n",
    "        if candidate_distance < best_distance:\n",
    "            best_solution = candidate_solution\n",
    "            best_distance = candidate_distance\n",
    "\n",
    "        # Dodanie ruchu do listy tabu\n",
    "        tabu_list.append(city_pair)\n",
    "        if len(tabu_list) > tabu_list_size:\n",
    "            tabu_list.pop(0)  # Usuwanie najstarszego ruchu z listy tabu\n",
    "\n",
    "    # Zwracanie najlepszego rozwiązania i odpowiadającego mu dystansu\n",
    "    return best_solution, best_distance\n"
   ]
  },
  {
   "cell_type": "code",
   "execution_count": 7,
   "metadata": {},
   "outputs": [],
   "source": [
    "def tabu_search_multiple_runs(distance_matrix, initial_solution, tabu_list_size, max_iterations, neighbor_type='swap', gen_neighbor_size=10, num_runs=5):\n",
    "    best_overall_solution = initial_solution.copy()\n",
    "    best_overall_distance = calculate_total_distance(best_overall_solution, distance_matrix)\n",
    "    for _ in range(num_runs):\n",
    "        # Wywołaj funkcję tabu_search i zapisz wyniki\n",
    "        current_solution, current_distance = tabu_search(distance_matrix, initial_solution, tabu_list_size, max_iterations, neighbor_type, gen_neighbor_size)\n",
    "\n",
    "        # Sprawdź, czy bieżące rozwiązanie jest lepsze od najlepszego dotychczasowego\n",
    "        if current_distance < best_overall_distance:\n",
    "            best_overall_solution = current_solution\n",
    "            best_overall_distance = current_distance\n",
    "\n",
    "    # Wydrukuj informacje o najlepszym rozwiązaniu z wszystkich prób\n",
    "    print(\"Rozmiar listy tabu: {}, maksymalna powtórzeń: {}, funkcja sąsiedztwa: {}, liczba tworzonych sąsiadów: {}\".format(tabu_list_size, max_iterations, neighbor_type, gen_neighbor_size))\n",
    "    print(\"Najlepsze rozwiązanie spośród {} prób: {}\".format(num_runs, best_overall_solution))\n",
    "    print(\"Długość trasy: {}\".format(best_overall_distance))"
   ]
  },
  {
   "cell_type": "code",
   "execution_count": 8,
   "metadata": {},
   "outputs": [],
   "source": [
    "def tabu_search_with_time_limit_multiple_runs(distance_matrix, initial_solution, tabu_list_size, max_time_seconds, neighbor_type='swap', gen_neighbor_size=10, num_runs=5):\n",
    "    best_overall_solution = initial_solution.copy()\n",
    "    best_overall_distance = calculate_total_distance(best_overall_solution, distance_matrix)\n",
    "\n",
    "    for _ in range(num_runs):\n",
    "        # Wywołaj funkcję tabu_search_with_time_limit i zapisz wyniki\n",
    "        current_solution, current_distance = tabu_search_with_time_limit(distance_matrix, initial_solution, tabu_list_size, max_time_seconds, neighbor_type, gen_neighbor_size)\n",
    "\n",
    "        # Sprawdź, czy bieżące rozwiązanie jest lepsze od najlepszego dotychczasowego\n",
    "        if current_distance < best_overall_distance:\n",
    "            best_overall_solution = current_solution\n",
    "            best_overall_distance = current_distance\n",
    "\n",
    "    # Wydrukuj informacje o najlepszym rozwiązaniu z wszystkich prób\n",
    "    print(\"Rozmiar listy tabu: {}, maksymalny czas liczenia: {}, funkcja sąsiedztwa: {}, liczba tworzonych sąsiadów: {}\".format(tabu_list_size, max_time_seconds, neighbor_type, gen_neighbor_size))\n",
    "    print(\"Najlepsze rozwiązanie spośród {} prób: {}\".format(num_runs, best_overall_solution))\n",
    "    print(\"Długość trasy: {}\".format(best_overall_distance))\n"
   ]
  },
  {
   "cell_type": "markdown",
   "metadata": {},
   "source": [
    "## TSP_127"
   ]
  },
  {
   "cell_type": "code",
   "execution_count": 11,
   "metadata": {},
   "outputs": [],
   "source": [
    "TSP_127 = pd.read_excel('Dane_TSP_127.xlsx', header=None)\n",
    "# Rozwiazanie poczatkowe wygenerowane przez NN (Nearest Neighbor)\n",
    "NN_127 = [116, 83, 80, 125, 81, 82, 74, 75, 77, 79, 78, 76, 17, 20, 16, 21, 3, 22, 23, 5, 105, 14, 107, 19, 18, 71, 7, 8, 10, 113, 104, 6, 0, 15, 1, 50, 56, 53, 44, 102, 43, 34, 35, 36, 40, 13, 11, 30, 26, 29, 42, 33, 38, 37, 25, 24, 32, 121, 27, 28, 31, 41, 39, 120, 4, 55, 123, 51, 49, 12, 114, 9, 119, 2, 89, 115, 59, 61, 60, 90, 57, 63, 99, 112, 65, 54, 46, 48, 52, 117, 47, 45, 93, 111, 110, 106, 126, 92, 94, 122, 96, 97, 100, 101, 62, 118, 95, 108, 86, 85, 84, 87, 109, 70, 69, 68, 67, 72, 73, 66, 58, 124, 88, 91, 98, 64, 103]\n",
    "# Długość trasy:  133970.64577239772"
   ]
  },
  {
   "cell_type": "markdown",
   "metadata": {},
   "source": [
    "### Sąsiedztwo"
   ]
  },
  {
   "cell_type": "code",
   "execution_count": 10,
   "metadata": {},
   "outputs": [
    {
     "name": "stdout",
     "output_type": "stream",
     "text": [
      "Rozmiar listy tabu: 10, maksymalna powtórzeń: 10000, funkcja sąsiedztwa: swap, liczba tworzonych sąsiadów: 10\n",
      "Najlepsze rozwiązanie spośród 5 prób: [74, 83, 80, 125, 81, 82, 116, 75, 77, 79, 78, 76, 17, 20, 16, 21, 3, 22, 23, 5, 105, 14, 107, 19, 18, 71, 7, 8, 10, 113, 104, 6, 0, 15, 1, 50, 56, 53, 44, 102, 43, 34, 35, 36, 40, 13, 11, 30, 26, 29, 42, 33, 38, 37, 25, 24, 32, 121, 27, 28, 31, 41, 39, 120, 4, 55, 123, 51, 49, 12, 114, 9, 119, 2, 89, 115, 59, 61, 60, 90, 57, 63, 99, 112, 65, 54, 46, 48, 52, 117, 47, 45, 93, 111, 110, 106, 126, 92, 94, 122, 96, 97, 100, 101, 62, 118, 95, 108, 86, 85, 84, 87, 109, 70, 69, 68, 67, 72, 73, 66, 58, 124, 88, 91, 98, 64, 103]\n",
      "Długość trasy: 132981.67192517567\n"
     ]
    }
   ],
   "source": [
    "tabu_search_multiple_runs(TSP_127, NN_127, 10, 10000, 'swap', 10, 5)"
   ]
  },
  {
   "cell_type": "markdown",
   "metadata": {},
   "source": [
    "Rozmiar listy tabu: 10, maksymalna powtórzeń: 10000, funkcja sąsiedztwa: swap, liczba tworzonych sąsiadów: 10\n",
    "Najlepsze rozwiązanie spośród 5 prób: [74, 83, 80, 125, 81, 82, 116, 75, 77, 79, 78, 76, 17, 20, 16, 21, 3, 22, 23, 5, 105, 14, 107, 19, 18, 71, 7, 8, 10, 113, 104, 6, 0, 15, 1, 50, 56, 53, 44, 102, 43, 34, 35, 36, 40, 13, 11, 30, 26, 29, 42, 33, 38, 37, 25, 24, 32, 121, 27, 28, 31, 41, 39, 120, 4, 55, 123, 51, 49, 12, 114, 9, 119, 2, 89, 115, 59, 61, 60, 90, 57, 63, 99, 112, 65, 54, 46, 48, 52, 117, 47, 45, 93, 111, 110, 106, 126, 92, 94, 122, 96, 97, 100, 101, 62, 118, 95, 108, 86, 85, 84, 87, 109, 70, 69, 68, 67, 72, 73, 66, 58, 124, 88, 91, 98, 64, 103]\n",
    "Długość trasy: 132981.67192517567\n"
   ]
  },
  {
   "cell_type": "code",
   "execution_count": 11,
   "metadata": {},
   "outputs": [
    {
     "name": "stdout",
     "output_type": "stream",
     "text": [
      "Rozmiar listy tabu: 10, maksymalna powtórzeń: 10000, funkcja sąsiedztwa: insert, liczba tworzonych sąsiadów: 10\n",
      "Najlepsze rozwiązanie spośród 5 prób: [116, 83, 80, 125, 81, 82, 74, 75, 77, 79, 78, 76, 17, 20, 16, 21, 3, 22, 23, 5, 105, 14, 107, 19, 18, 71, 7, 8, 10, 113, 104, 6, 0, 15, 1, 50, 56, 53, 44, 102, 43, 34, 35, 36, 40, 13, 11, 30, 26, 29, 42, 33, 38, 37, 25, 24, 32, 121, 27, 28, 31, 41, 39, 120, 4, 55, 123, 51, 49, 12, 114, 9, 119, 2, 89, 115, 59, 61, 60, 90, 57, 63, 99, 112, 64, 65, 54, 46, 48, 52, 117, 47, 45, 93, 111, 110, 106, 126, 92, 94, 122, 96, 97, 100, 101, 62, 118, 95, 108, 86, 85, 84, 87, 109, 70, 69, 68, 67, 72, 73, 66, 58, 124, 88, 91, 98, 103]\n",
      "Długość trasy: 132806.68125180353\n"
     ]
    }
   ],
   "source": [
    "tabu_search_multiple_runs(TSP_127, NN_127, 10, 10000, 'insert', 10, 5)"
   ]
  },
  {
   "cell_type": "markdown",
   "metadata": {},
   "source": [
    "Rozmiar listy tabu: 10, maksymalna powtórzeń: 10000, funkcja sąsiedztwa: insert, liczba tworzonych sąsiadów: 10\n",
    "Najlepsze rozwiązanie spośród 5 prób: [116, 83, 80, 125, 81, 82, 74, 75, 77, 79, 78, 76, 17, 20, 16, 21, 3, 22, 23, 5, 105, 14, 107, 19, 18, 71, 7, 8, 10, 113, 104, 6, 0, 15, 1, 50, 56, 53, 44, 102, 43, 34, 35, 36, 40, 13, 11, 30, 26, 29, 42, 33, 38, 37, 25, 24, 32, 121, 27, 28, 31, 41, 39, 120, 4, 55, 123, 51, 49, 12, 114, 9, 119, 2, 89, 115, 59, 61, 60, 90, 57, 63, 99, 112, 64, 65, 54, 46, 48, 52, 117, 47, 45, 93, 111, 110, 106, 126, 92, 94, 122, 96, 97, 100, 101, 62, 118, 95, 108, 86, 85, 84, 87, 109, 70, 69, 68, 67, 72, 73, 66, 58, 124, 88, 91, 98, 103]\n",
    "Długość trasy: 132806.68125180353\n"
   ]
  },
  {
   "cell_type": "code",
   "execution_count": 12,
   "metadata": {},
   "outputs": [
    {
     "name": "stdout",
     "output_type": "stream",
     "text": [
      "Rozmiar listy tabu: 10, maksymalna powtórzeń: 10000, funkcja sąsiedztwa: reverse, liczba tworzonych sąsiadów: 10\n",
      "Najlepsze rozwiązanie spośród 5 prób: [116, 83, 80, 125, 81, 82, 74, 75, 77, 79, 78, 76, 17, 20, 16, 21, 3, 22, 23, 5, 105, 14, 107, 19, 18, 71, 7, 8, 10, 113, 104, 6, 0, 15, 1, 50, 56, 53, 44, 102, 43, 34, 35, 36, 40, 13, 11, 30, 26, 29, 42, 33, 38, 37, 25, 24, 32, 121, 27, 28, 31, 41, 39, 120, 4, 55, 123, 51, 49, 12, 114, 9, 119, 2, 89, 115, 59, 61, 60, 90, 57, 63, 99, 112, 65, 54, 46, 48, 52, 117, 47, 45, 93, 111, 110, 106, 126, 92, 94, 122, 96, 97, 100, 101, 62, 118, 95, 108, 86, 85, 84, 87, 109, 103, 64, 98, 91, 88, 124, 58, 66, 73, 72, 67, 68, 69, 70]\n",
      "Długość trasy: 131157.7299304231\n"
     ]
    }
   ],
   "source": [
    "tabu_search_multiple_runs(TSP_127, NN_127, 10, 10000, 'reverse', 10, 5)"
   ]
  },
  {
   "cell_type": "markdown",
   "metadata": {},
   "source": [
    "Rozmiar listy tabu: 10, maksymalna powtórzeń: 10000, funkcja sąsiedztwa: reverse, liczba tworzonych sąsiadów: 10\n",
    "Najlepsze rozwiązanie spośród 5 prób: [116, 83, 80, 125, 81, 82, 74, 75, 77, 79, 78, 76, 17, 20, 16, 21, 3, 22, 23, 5, 105, 14, 107, 19, 18, 71, 7, 8, 10, 113, 104, 6, 0, 15, 1, 50, 56, 53, 44, 102, 43, 34, 35, 36, 40, 13, 11, 30, 26, 29, 42, 33, 38, 37, 25, 24, 32, 121, 27, 28, 31, 41, 39, 120, 4, 55, 123, 51, 49, 12, 114, 9, 119, 2, 89, 115, 59, 61, 60, 90, 57, 63, 99, 112, 65, 54, 46, 48, 52, 117, 47, 45, 93, 111, 110, 106, 126, 92, 94, 122, 96, 97, 100, 101, 62, 118, 95, 108, 86, 85, 84, 87, 109, 103, 64, 98, 91, 88, 124, 58, 66, 73, 72, 67, 68, 69, 70]\n",
    "Długość trasy: 131157.7299304231"
   ]
  },
  {
   "cell_type": "markdown",
   "metadata": {},
   "source": [
    "### Długość listy tabu"
   ]
  },
  {
   "cell_type": "code",
   "execution_count": 13,
   "metadata": {},
   "outputs": [
    {
     "name": "stdout",
     "output_type": "stream",
     "text": [
      "Rozmiar listy tabu: 5, maksymalna powtórzeń: 10000, funkcja sąsiedztwa: insert, liczba tworzonych sąsiadów: 10\n",
      "Najlepsze rozwiązanie spośród 5 prób: [116, 83, 80, 125, 81, 82, 74, 75, 77, 79, 78, 76, 17, 20, 16, 21, 3, 22, 23, 5, 105, 14, 107, 19, 18, 71, 7, 8, 10, 113, 104, 6, 0, 15, 1, 50, 56, 53, 44, 102, 43, 34, 35, 36, 40, 13, 11, 30, 26, 29, 42, 33, 38, 37, 25, 24, 32, 121, 27, 28, 31, 41, 39, 120, 4, 55, 123, 51, 49, 12, 114, 9, 119, 2, 89, 115, 59, 61, 60, 90, 57, 63, 99, 112, 64, 65, 54, 46, 48, 52, 117, 47, 45, 93, 111, 110, 106, 126, 92, 94, 122, 96, 97, 100, 101, 62, 118, 95, 108, 86, 85, 84, 87, 109, 70, 69, 68, 67, 72, 73, 66, 58, 124, 88, 91, 98, 103]\n",
      "Długość trasy: 132806.68125180353\n"
     ]
    }
   ],
   "source": [
    "tabu_search_multiple_runs(TSP_127, NN_127, 5, 10000, 'insert', 10, 5)"
   ]
  },
  {
   "cell_type": "markdown",
   "metadata": {},
   "source": [
    "Rozmiar listy tabu: 5, maksymalna powtórzeń: 10000, funkcja sąsiedztwa: insert, liczba tworzonych sąsiadów: 10\n",
    "Najlepsze rozwiązanie spośród 5 prób: [116, 83, 80, 125, 81, 82, 74, 75, 77, 79, 78, 76, 17, 20, 16, 21, 3, 22, 23, 5, 105, 14, 107, 19, 18, 71, 7, 8, 10, 113, 104, 6, 0, 15, 1, 50, 56, 53, 44, 102, 43, 34, 35, 36, 40, 13, 11, 30, 26, 29, 42, 33, 38, 37, 25, 24, 32, 121, 27, 28, 31, 41, 39, 120, 4, 55, 123, 51, 49, 12, 114, 9, 119, 2, 89, 115, 59, 61, 60, 90, 57, 63, 99, 112, 64, 65, 54, 46, 48, 52, 117, 47, 45, 93, 111, 110, 106, 126, 92, 94, 122, 96, 97, 100, 101, 62, 118, 95, 108, 86, 85, 84, 87, 109, 70, 69, 68, 67, 72, 73, 66, 58, 124, 88, 91, 98, 103]\n",
    "Długość trasy: 132806.68125180353"
   ]
  },
  {
   "cell_type": "code",
   "execution_count": 14,
   "metadata": {},
   "outputs": [
    {
     "name": "stdout",
     "output_type": "stream",
     "text": [
      "Rozmiar listy tabu: 8, maksymalna powtórzeń: 10000, funkcja sąsiedztwa: insert, liczba tworzonych sąsiadów: 10\n",
      "Najlepsze rozwiązanie spośród 5 prób: [116, 83, 80, 125, 81, 82, 74, 75, 77, 79, 78, 76, 17, 20, 16, 21, 3, 22, 23, 5, 105, 14, 107, 19, 18, 71, 7, 8, 10, 113, 104, 6, 0, 15, 1, 50, 56, 53, 44, 102, 43, 34, 35, 36, 40, 13, 11, 30, 26, 29, 42, 33, 38, 37, 25, 24, 32, 121, 27, 28, 31, 41, 39, 120, 4, 55, 123, 51, 49, 12, 114, 9, 119, 2, 89, 115, 59, 61, 60, 90, 57, 63, 99, 112, 64, 65, 54, 46, 48, 52, 117, 47, 45, 93, 111, 110, 106, 126, 92, 94, 122, 96, 97, 100, 101, 62, 118, 95, 108, 86, 85, 84, 87, 109, 70, 69, 68, 67, 72, 73, 66, 58, 124, 88, 91, 98, 103]\n",
      "Długość trasy: 132806.68125180353\n"
     ]
    }
   ],
   "source": [
    "tabu_search_multiple_runs(TSP_127, NN_127, 8, 10000, 'insert', 10, 5)"
   ]
  },
  {
   "cell_type": "markdown",
   "metadata": {},
   "source": [
    "Rozmiar listy tabu: 8, maksymalna powtórzeń: 10000, funkcja sąsiedztwa: insert, liczba tworzonych sąsiadów: 10\n",
    "Najlepsze rozwiązanie spośród 5 prób: [116, 83, 80, 125, 81, 82, 74, 75, 77, 79, 78, 76, 17, 20, 16, 21, 3, 22, 23, 5, 105, 14, 107, 19, 18, 71, 7, 8, 10, 113, 104, 6, 0, 15, 1, 50, 56, 53, 44, 102, 43, 34, 35, 36, 40, 13, 11, 30, 26, 29, 42, 33, 38, 37, 25, 24, 32, 121, 27, 28, 31, 41, 39, 120, 4, 55, 123, 51, 49, 12, 114, 9, 119, 2, 89, 115, 59, 61, 60, 90, 57, 63, 99, 112, 64, 65, 54, 46, 48, 52, 117, 47, 45, 93, 111, 110, 106, 126, 92, 94, 122, 96, 97, 100, 101, 62, 118, 95, 108, 86, 85, 84, 87, 109, 70, 69, 68, 67, 72, 73, 66, 58, 124, 88, 91, 98, 103]\n",
    "Długość trasy: 132806.68125180353"
   ]
  },
  {
   "cell_type": "code",
   "execution_count": 15,
   "metadata": {},
   "outputs": [
    {
     "name": "stdout",
     "output_type": "stream",
     "text": [
      "Rozmiar listy tabu: 15, maksymalna powtórzeń: 10000, funkcja sąsiedztwa: insert, liczba tworzonych sąsiadów: 10\n",
      "Najlepsze rozwiązanie spośród 5 prób: [116, 83, 80, 125, 81, 82, 74, 75, 77, 79, 78, 76, 17, 20, 16, 21, 3, 22, 23, 5, 105, 14, 107, 19, 18, 71, 7, 8, 10, 113, 104, 6, 0, 15, 1, 50, 56, 53, 44, 102, 43, 34, 35, 36, 40, 13, 11, 30, 26, 29, 42, 33, 38, 37, 25, 24, 32, 121, 27, 28, 31, 41, 39, 120, 4, 55, 123, 51, 49, 12, 114, 9, 119, 2, 89, 115, 59, 61, 60, 90, 57, 63, 99, 112, 64, 65, 54, 46, 48, 52, 117, 47, 45, 93, 111, 110, 106, 126, 92, 94, 122, 96, 97, 100, 101, 62, 118, 95, 108, 86, 85, 84, 87, 109, 70, 69, 68, 67, 72, 73, 66, 58, 124, 88, 91, 98, 103]\n",
      "Długość trasy: 132806.68125180353\n"
     ]
    }
   ],
   "source": [
    "tabu_search_multiple_runs(TSP_127, NN_127, 15, 10000, 'insert', 10, 5)"
   ]
  },
  {
   "cell_type": "markdown",
   "metadata": {},
   "source": [
    "Rozmiar listy tabu: 15, maksymalna powtórzeń: 10000, funkcja sąsiedztwa: insert, liczba tworzonych sąsiadów: 10\n",
    "Najlepsze rozwiązanie spośród 5 prób: [116, 83, 80, 125, 81, 82, 74, 75, 77, 79, 78, 76, 17, 20, 16, 21, 3, 22, 23, 5, 105, 14, 107, 19, 18, 71, 7, 8, 10, 113, 104, 6, 0, 15, 1, 50, 56, 53, 44, 102, 43, 34, 35, 36, 40, 13, 11, 30, 26, 29, 42, 33, 38, 37, 25, 24, 32, 121, 27, 28, 31, 41, 39, 120, 4, 55, 123, 51, 49, 12, 114, 9, 119, 2, 89, 115, 59, 61, 60, 90, 57, 63, 99, 112, 64, 65, 54, 46, 48, 52, 117, 47, 45, 93, 111, 110, 106, 126, 92, 94, 122, 96, 97, 100, 101, 62, 118, 95, 108, 86, 85, 84, 87, 109, 70, 69, 68, 67, 72, 73, 66, 58, 124, 88, 91, 98, 103]\n",
    "Długość trasy: 132806.68125180353"
   ]
  },
  {
   "cell_type": "code",
   "execution_count": 16,
   "metadata": {},
   "outputs": [
    {
     "name": "stdout",
     "output_type": "stream",
     "text": [
      "Rozmiar listy tabu: 20, maksymalna powtórzeń: 10000, funkcja sąsiedztwa: insert, liczba tworzonych sąsiadów: 10\n",
      "Najlepsze rozwiązanie spośród 5 prób: [116, 83, 80, 125, 81, 82, 74, 75, 77, 79, 78, 76, 17, 20, 16, 21, 3, 22, 23, 5, 105, 14, 107, 19, 18, 71, 7, 8, 10, 113, 104, 6, 0, 15, 1, 50, 56, 53, 44, 102, 43, 34, 35, 36, 40, 13, 11, 30, 26, 29, 42, 33, 38, 37, 25, 24, 32, 121, 27, 28, 31, 41, 39, 120, 4, 55, 123, 51, 49, 12, 114, 9, 119, 2, 89, 115, 59, 61, 60, 90, 57, 63, 99, 112, 64, 65, 54, 46, 48, 52, 117, 47, 45, 93, 111, 110, 106, 126, 92, 94, 122, 96, 97, 100, 101, 62, 118, 95, 108, 86, 85, 84, 87, 109, 70, 69, 68, 67, 72, 73, 66, 58, 124, 88, 91, 98, 103]\n",
      "Długość trasy: 132806.68125180353\n"
     ]
    }
   ],
   "source": [
    "tabu_search_multiple_runs(TSP_127, NN_127, 20, 10000, 'insert', 10, 5)"
   ]
  },
  {
   "cell_type": "markdown",
   "metadata": {},
   "source": [
    "Rozmiar listy tabu: 20, maksymalna powtórzeń: 10000, funkcja sąsiedztwa: insert, liczba tworzonych sąsiadów: 10\n",
    "Najlepsze rozwiązanie spośród 5 prób: [116, 83, 80, 125, 81, 82, 74, 75, 77, 79, 78, 76, 17, 20, 16, 21, 3, 22, 23, 5, 105, 14, 107, 19, 18, 71, 7, 8, 10, 113, 104, 6, 0, 15, 1, 50, 56, 53, 44, 102, 43, 34, 35, 36, 40, 13, 11, 30, 26, 29, 42, 33, 38, 37, 25, 24, 32, 121, 27, 28, 31, 41, 39, 120, 4, 55, 123, 51, 49, 12, 114, 9, 119, 2, 89, 115, 59, 61, 60, 90, 57, 63, 99, 112, 64, 65, 54, 46, 48, 52, 117, 47, 45, 93, 111, 110, 106, 126, 92, 94, 122, 96, 97, 100, 101, 62, 118, 95, 108, 86, 85, 84, 87, 109, 70, 69, 68, 67, 72, 73, 66, 58, 124, 88, 91, 98, 103]\n",
    "Długość trasy: 132806.68125180353"
   ]
  },
  {
   "cell_type": "markdown",
   "metadata": {},
   "source": [
    "### Liczba iteracji"
   ]
  },
  {
   "cell_type": "code",
   "execution_count": 17,
   "metadata": {},
   "outputs": [
    {
     "name": "stdout",
     "output_type": "stream",
     "text": [
      "Rozmiar listy tabu: 10, maksymalna powtórzeń: 100, funkcja sąsiedztwa: insert, liczba tworzonych sąsiadów: 10\n",
      "Najlepsze rozwiązanie spośród 5 prób: [116, 83, 80, 125, 81, 82, 74, 75, 77, 79, 78, 76, 17, 20, 16, 21, 3, 22, 23, 5, 105, 14, 107, 19, 18, 71, 7, 8, 10, 113, 104, 6, 0, 15, 1, 50, 56, 53, 44, 102, 43, 34, 35, 36, 40, 13, 11, 30, 26, 29, 42, 33, 38, 37, 25, 24, 32, 121, 27, 28, 31, 41, 39, 120, 4, 55, 123, 51, 49, 12, 114, 9, 119, 2, 89, 115, 59, 61, 60, 90, 57, 63, 99, 112, 65, 54, 46, 48, 52, 117, 47, 45, 93, 111, 110, 106, 126, 92, 94, 122, 96, 97, 100, 101, 62, 118, 95, 108, 87, 86, 85, 84, 109, 70, 69, 68, 67, 72, 73, 66, 58, 124, 88, 91, 98, 64, 103]\n",
      "Długość trasy: 133297.45765344126\n"
     ]
    }
   ],
   "source": [
    "tabu_search_multiple_runs(TSP_127, NN_127, 10, 100, 'insert', 10, 5)"
   ]
  },
  {
   "cell_type": "markdown",
   "metadata": {},
   "source": [
    "Rozmiar listy tabu: 10, maksymalna powtórzeń: 100, funkcja sąsiedztwa: insert, liczba tworzonych sąsiadów: 10\n",
    "Najlepsze rozwiązanie spośród 5 prób: [116, 83, 80, 125, 81, 82, 74, 75, 77, 79, 78, 76, 17, 20, 16, 21, 3, 22, 23, 5, 105, 14, 107, 19, 18, 71, 7, 8, 10, 113, 104, 6, 0, 15, 1, 50, 56, 53, 44, 102, 43, 34, 35, 36, 40, 13, 11, 30, 26, 29, 42, 33, 38, 37, 25, 24, 32, 121, 27, 28, 31, 41, 39, 120, 4, 55, 123, 51, 49, 12, 114, 9, 119, 2, 89, 115, 59, 61, 60, 90, 57, 63, 99, 112, 65, 54, 46, 48, 52, 117, 47, 45, 93, 111, 110, 106, 126, 92, 94, 122, 96, 97, 100, 101, 62, 118, 95, 108, 87, 86, 85, 84, 109, 70, 69, 68, 67, 72, 73, 66, 58, 124, 88, 91, 98, 64, 103]\n",
    "Długość trasy: 133297.45765344126"
   ]
  },
  {
   "cell_type": "code",
   "execution_count": 18,
   "metadata": {},
   "outputs": [
    {
     "name": "stdout",
     "output_type": "stream",
     "text": [
      "Rozmiar listy tabu: 10, maksymalna powtórzeń: 1000, funkcja sąsiedztwa: insert, liczba tworzonych sąsiadów: 10\n",
      "Najlepsze rozwiązanie spośród 5 prób: [116, 83, 80, 125, 81, 82, 74, 75, 77, 79, 78, 76, 17, 20, 16, 21, 3, 22, 23, 5, 105, 14, 107, 19, 18, 71, 7, 8, 10, 113, 104, 6, 0, 15, 1, 50, 56, 53, 44, 102, 43, 34, 35, 36, 40, 13, 11, 30, 26, 29, 42, 33, 38, 37, 25, 24, 32, 121, 27, 28, 31, 41, 39, 120, 4, 55, 123, 51, 49, 12, 114, 9, 119, 2, 89, 115, 59, 61, 60, 90, 57, 63, 99, 112, 64, 65, 54, 46, 48, 52, 117, 47, 45, 93, 111, 110, 106, 126, 92, 94, 122, 96, 97, 100, 101, 62, 118, 95, 108, 86, 85, 84, 87, 109, 70, 69, 68, 67, 72, 73, 66, 58, 124, 88, 91, 98, 103]\n",
      "Długość trasy: 132806.68125180353\n"
     ]
    }
   ],
   "source": [
    "tabu_search_multiple_runs(TSP_127, NN_127, 10, 1000, 'insert', 10, 5)"
   ]
  },
  {
   "cell_type": "markdown",
   "metadata": {},
   "source": [
    "Rozmiar listy tabu: 10, maksymalna powtórzeń: 1000, funkcja sąsiedztwa: insert, liczba tworzonych sąsiadów: 10\n",
    "Najlepsze rozwiązanie spośród 5 prób: [116, 83, 80, 125, 81, 82, 74, 75, 77, 79, 78, 76, 17, 20, 16, 21, 3, 22, 23, 5, 105, 14, 107, 19, 18, 71, 7, 8, 10, 113, 104, 6, 0, 15, 1, 50, 56, 53, 44, 102, 43, 34, 35, 36, 40, 13, 11, 30, 26, 29, 42, 33, 38, 37, 25, 24, 32, 121, 27, 28, 31, 41, 39, 120, 4, 55, 123, 51, 49, 12, 114, 9, 119, 2, 89, 115, 59, 61, 60, 90, 57, 63, 99, 112, 64, 65, 54, 46, 48, 52, 117, 47, 45, 93, 111, 110, 106, 126, 92, 94, 122, 96, 97, 100, 101, 62, 118, 95, 108, 86, 85, 84, 87, 109, 70, 69, 68, 67, 72, 73, 66, 58, 124, 88, 91, 98, 103]\n",
    "Długość trasy: 132806.68125180353"
   ]
  },
  {
   "cell_type": "code",
   "execution_count": 19,
   "metadata": {},
   "outputs": [
    {
     "name": "stdout",
     "output_type": "stream",
     "text": [
      "Rozmiar listy tabu: 10, maksymalna powtórzeń: 10000, funkcja sąsiedztwa: insert, liczba tworzonych sąsiadów: 10\n",
      "Najlepsze rozwiązanie spośród 5 prób: [116, 83, 80, 125, 81, 82, 74, 75, 77, 79, 78, 76, 17, 20, 16, 21, 3, 22, 23, 5, 105, 14, 107, 19, 18, 71, 7, 8, 10, 113, 104, 6, 0, 15, 1, 50, 56, 53, 44, 102, 43, 34, 35, 36, 40, 13, 11, 30, 26, 29, 42, 33, 38, 37, 25, 24, 32, 121, 27, 28, 31, 41, 39, 120, 4, 55, 123, 51, 49, 12, 114, 9, 119, 2, 89, 115, 59, 61, 60, 90, 57, 63, 99, 112, 64, 65, 54, 46, 48, 52, 117, 47, 45, 93, 111, 110, 106, 126, 92, 94, 122, 96, 97, 100, 101, 62, 118, 95, 108, 86, 85, 84, 87, 109, 70, 69, 68, 67, 72, 73, 66, 58, 124, 88, 91, 98, 103]\n",
      "Długość trasy: 132806.68125180353\n"
     ]
    }
   ],
   "source": [
    "tabu_search_multiple_runs(TSP_127, NN_127, 10, 10000,'insert', 10, 5)"
   ]
  },
  {
   "cell_type": "markdown",
   "metadata": {},
   "source": [
    "Rozmiar listy tabu: 10, maksymalna powtórzeń: 10000, funkcja sąsiedztwa: insert, liczba tworzonych sąsiadów: 10\n",
    "Najlepsze rozwiązanie spośród 5 prób: [116, 83, 80, 125, 81, 82, 74, 75, 77, 79, 78, 76, 17, 20, 16, 21, 3, 22, 23, 5, 105, 14, 107, 19, 18, 71, 7, 8, 10, 113, 104, 6, 0, 15, 1, 50, 56, 53, 44, 102, 43, 34, 35, 36, 40, 13, 11, 30, 26, 29, 42, 33, 38, 37, 25, 24, 32, 121, 27, 28, 31, 41, 39, 120, 4, 55, 123, 51, 49, 12, 114, 9, 119, 2, 89, 115, 59, 61, 60, 90, 57, 63, 99, 112, 64, 65, 54, 46, 48, 52, 117, 47, 45, 93, 111, 110, 106, 126, 92, 94, 122, 96, 97, 100, 101, 62, 118, 95, 108, 86, 85, 84, 87, 109, 70, 69, 68, 67, 72, 73, 66, 58, 124, 88, 91, 98, 103]\n",
    "Długość trasy: 132806.68125180353\n"
   ]
  },
  {
   "cell_type": "code",
   "execution_count": 20,
   "metadata": {},
   "outputs": [
    {
     "name": "stdout",
     "output_type": "stream",
     "text": [
      "Rozmiar listy tabu: 10, maksymalna powtórzeń: 100000, funkcja sąsiedztwa: insert, liczba tworzonych sąsiadów: 10\n",
      "Najlepsze rozwiązanie spośród 5 prób: [116, 83, 80, 125, 81, 82, 74, 75, 77, 79, 78, 76, 17, 20, 16, 21, 3, 22, 23, 5, 105, 14, 107, 19, 18, 71, 7, 8, 10, 113, 104, 6, 0, 15, 1, 50, 56, 53, 44, 102, 43, 34, 35, 36, 40, 13, 11, 30, 26, 29, 42, 33, 38, 37, 25, 24, 32, 121, 27, 28, 31, 41, 39, 120, 4, 55, 123, 51, 49, 12, 114, 9, 119, 2, 89, 115, 59, 61, 60, 90, 57, 63, 99, 112, 64, 65, 54, 46, 48, 52, 117, 47, 45, 93, 111, 110, 106, 126, 92, 94, 122, 96, 97, 100, 101, 62, 118, 95, 108, 86, 85, 84, 87, 109, 70, 69, 68, 67, 72, 73, 66, 58, 124, 88, 91, 98, 103]\n",
      "Długość trasy: 132806.68125180353\n"
     ]
    }
   ],
   "source": [
    "tabu_search_multiple_runs(TSP_127, NN_127, 10, 100000, 'insert', 10, 5)"
   ]
  },
  {
   "cell_type": "markdown",
   "metadata": {},
   "source": [
    "Rozmiar listy tabu: 10, maksymalna powtórzeń: 100000, funkcja sąsiedztwa: insert, liczba tworzonych sąsiadów: 10\n",
    "Najlepsze rozwiązanie spośród 5 prób: [116, 83, 80, 125, 81, 82, 74, 75, 77, 79, 78, 76, 17, 20, 16, 21, 3, 22, 23, 5, 105, 14, 107, 19, 18, 71, 7, 8, 10, 113, 104, 6, 0, 15, 1, 50, 56, 53, 44, 102, 43, 34, 35, 36, 40, 13, 11, 30, 26, 29, 42, 33, 38, 37, 25, 24, 32, 121, 27, 28, 31, 41, 39, 120, 4, 55, 123, 51, 49, 12, 114, 9, 119, 2, 89, 115, 59, 61, 60, 90, 57, 63, 99, 112, 64, 65, 54, 46, 48, 52, 117, 47, 45, 93, 111, 110, 106, 126, 92, 94, 122, 96, 97, 100, 101, 62, 118, 95, 108, 86, 85, 84, 87, 109, 70, 69, 68, 67, 72, 73, 66, 58, 124, 88, 91, 98, 103]\n",
    "Długość trasy: 132806.68125180353"
   ]
  },
  {
   "cell_type": "markdown",
   "metadata": {},
   "source": [
    "### Czas liczenia"
   ]
  },
  {
   "cell_type": "code",
   "execution_count": 21,
   "metadata": {},
   "outputs": [
    {
     "name": "stdout",
     "output_type": "stream",
     "text": [
      "Rozmiar listy tabu: 10, maksymalny czas liczenia: 10, funkcja sąsiedztwa: insert, liczba tworzonych sąsiadów: 10\n",
      "Najlepsze rozwiązanie spośród 5 prób: [116, 83, 80, 125, 81, 82, 74, 75, 77, 79, 78, 76, 17, 20, 16, 21, 3, 22, 23, 5, 105, 14, 107, 19, 18, 71, 7, 8, 10, 113, 104, 6, 0, 15, 1, 50, 56, 53, 44, 102, 43, 34, 35, 36, 40, 13, 11, 30, 26, 29, 42, 33, 38, 37, 25, 24, 32, 121, 27, 28, 31, 41, 39, 120, 4, 55, 123, 51, 49, 12, 114, 9, 119, 2, 89, 115, 59, 61, 60, 90, 57, 63, 99, 112, 64, 65, 54, 46, 48, 52, 117, 47, 45, 93, 111, 110, 106, 126, 92, 94, 122, 96, 97, 100, 101, 62, 118, 95, 108, 86, 85, 84, 87, 109, 70, 69, 68, 67, 72, 73, 66, 58, 124, 88, 91, 98, 103]\n",
      "Długość trasy: 132806.68125180353\n"
     ]
    }
   ],
   "source": [
    "tabu_search_with_time_limit_multiple_runs(TSP_127, NN_127, 10, 10, 'insert', 10, 5)"
   ]
  },
  {
   "cell_type": "markdown",
   "metadata": {},
   "source": [
    "Rozmiar listy tabu: 10, maksymalny czas liczenia: 10, funkcja sąsiedztwa: insert, liczba tworzonych sąsiadów: 10\n",
    "Najlepsze rozwiązanie spośród 5 prób: [116, 83, 80, 125, 81, 82, 74, 75, 77, 79, 78, 76, 17, 20, 16, 21, 3, 22, 23, 5, 105, 14, 107, 19, 18, 71, 7, 8, 10, 113, 104, 6, 0, 15, 1, 50, 56, 53, 44, 102, 43, 34, 35, 36, 40, 13, 11, 30, 26, 29, 42, 33, 38, 37, 25, 24, 32, 121, 27, 28, 31, 41, 39, 120, 4, 55, 123, 51, 49, 12, 114, 9, 119, 2, 89, 115, 59, 61, 60, 90, 57, 63, 99, 112, 64, 65, 54, 46, 48, 52, 117, 47, 45, 93, 111, 110, 106, 126, 92, 94, 122, 96, 97, 100, 101, 62, 118, 95, 108, 86, 85, 84, 87, 109, 70, 69, 68, 67, 72, 73, 66, 58, 124, 88, 91, 98, 103]\n",
    "Długość trasy: 132806.68125180353\n"
   ]
  },
  {
   "cell_type": "code",
   "execution_count": 22,
   "metadata": {},
   "outputs": [
    {
     "name": "stdout",
     "output_type": "stream",
     "text": [
      "Rozmiar listy tabu: 10, maksymalny czas liczenia: 30, funkcja sąsiedztwa: insert, liczba tworzonych sąsiadów: 10\n",
      "Najlepsze rozwiązanie spośród 5 prób: [116, 83, 80, 125, 81, 82, 74, 75, 77, 79, 78, 76, 17, 20, 16, 21, 3, 22, 23, 5, 105, 14, 107, 19, 18, 71, 7, 8, 10, 113, 104, 6, 0, 15, 1, 50, 56, 53, 44, 102, 43, 34, 35, 36, 40, 13, 11, 30, 26, 29, 42, 33, 38, 37, 25, 24, 32, 121, 27, 28, 31, 41, 39, 120, 4, 55, 123, 51, 49, 12, 114, 9, 119, 2, 89, 115, 59, 61, 60, 90, 57, 63, 99, 112, 64, 65, 54, 46, 48, 52, 117, 47, 45, 93, 111, 110, 106, 126, 92, 94, 122, 96, 97, 100, 101, 62, 118, 95, 108, 86, 85, 84, 87, 109, 70, 69, 68, 67, 72, 73, 66, 58, 124, 88, 91, 98, 103]\n",
      "Długość trasy: 132806.68125180353\n"
     ]
    }
   ],
   "source": [
    "tabu_search_with_time_limit_multiple_runs(TSP_127, NN_127, 10, 30, 'insert', 10, 5)"
   ]
  },
  {
   "cell_type": "markdown",
   "metadata": {},
   "source": [
    "Rozmiar listy tabu: 10, maksymalny czas liczenia: 30, funkcja sąsiedztwa: insert, liczba tworzonych sąsiadów: 10\n",
    "Najlepsze rozwiązanie spośród 5 prób: [116, 83, 80, 125, 81, 82, 74, 75, 77, 79, 78, 76, 17, 20, 16, 21, 3, 22, 23, 5, 105, 14, 107, 19, 18, 71, 7, 8, 10, 113, 104, 6, 0, 15, 1, 50, 56, 53, 44, 102, 43, 34, 35, 36, 40, 13, 11, 30, 26, 29, 42, 33, 38, 37, 25, 24, 32, 121, 27, 28, 31, 41, 39, 120, 4, 55, 123, 51, 49, 12, 114, 9, 119, 2, 89, 115, 59, 61, 60, 90, 57, 63, 99, 112, 64, 65, 54, 46, 48, 52, 117, 47, 45, 93, 111, 110, 106, 126, 92, 94, 122, 96, 97, 100, 101, 62, 118, 95, 108, 86, 85, 84, 87, 109, 70, 69, 68, 67, 72, 73, 66, 58, 124, 88, 91, 98, 103]\n",
    "Długość trasy: 132806.68125180353"
   ]
  },
  {
   "cell_type": "code",
   "execution_count": 23,
   "metadata": {},
   "outputs": [
    {
     "name": "stdout",
     "output_type": "stream",
     "text": [
      "Rozmiar listy tabu: 10, maksymalny czas liczenia: 60, funkcja sąsiedztwa: insert, liczba tworzonych sąsiadów: 10\n",
      "Najlepsze rozwiązanie spośród 5 prób: [116, 83, 80, 125, 81, 82, 74, 75, 77, 79, 78, 76, 17, 20, 16, 21, 3, 22, 23, 5, 105, 14, 107, 19, 18, 71, 7, 8, 10, 113, 104, 6, 0, 15, 1, 50, 56, 53, 44, 102, 43, 34, 35, 36, 40, 13, 11, 30, 26, 29, 42, 33, 38, 37, 25, 24, 32, 121, 27, 28, 31, 41, 39, 120, 4, 55, 123, 51, 49, 12, 114, 9, 119, 2, 89, 115, 59, 61, 60, 90, 57, 63, 99, 112, 64, 65, 54, 46, 48, 52, 117, 47, 45, 93, 111, 110, 106, 126, 92, 94, 122, 96, 97, 100, 101, 62, 118, 95, 108, 86, 85, 84, 87, 109, 70, 69, 68, 67, 72, 73, 66, 58, 124, 88, 91, 98, 103]\n",
      "Długość trasy: 132806.68125180353\n"
     ]
    }
   ],
   "source": [
    "tabu_search_with_time_limit_multiple_runs(TSP_127, NN_127, 10, 60, 'insert', 10, 5)"
   ]
  },
  {
   "cell_type": "markdown",
   "metadata": {},
   "source": [
    "Rozmiar listy tabu: 10, maksymalny czas liczenia: 60, funkcja sąsiedztwa: insert, liczba tworzonych sąsiadów: 10\n",
    "Najlepsze rozwiązanie spośród 5 prób: [116, 83, 80, 125, 81, 82, 74, 75, 77, 79, 78, 76, 17, 20, 16, 21, 3, 22, 23, 5, 105, 14, 107, 19, 18, 71, 7, 8, 10, 113, 104, 6, 0, 15, 1, 50, 56, 53, 44, 102, 43, 34, 35, 36, 40, 13, 11, 30, 26, 29, 42, 33, 38, 37, 25, 24, 32, 121, 27, 28, 31, 41, 39, 120, 4, 55, 123, 51, 49, 12, 114, 9, 119, 2, 89, 115, 59, 61, 60, 90, 57, 63, 99, 112, 64, 65, 54, 46, 48, 52, 117, 47, 45, 93, 111, 110, 106, 126, 92, 94, 122, 96, 97, 100, 101, 62, 118, 95, 108, 86, 85, 84, 87, 109, 70, 69, 68, 67, 72, 73, 66, 58, 124, 88, 91, 98, 103]\n",
    "Długość trasy: 132806.68125180353"
   ]
  },
  {
   "cell_type": "code",
   "execution_count": 24,
   "metadata": {},
   "outputs": [
    {
     "name": "stdout",
     "output_type": "stream",
     "text": [
      "Rozmiar listy tabu: 10, maksymalny czas liczenia: 90, funkcja sąsiedztwa: insert, liczba tworzonych sąsiadów: 10\n",
      "Najlepsze rozwiązanie spośród 5 prób: [116, 83, 80, 125, 81, 82, 74, 75, 77, 79, 78, 76, 17, 20, 16, 21, 3, 22, 23, 5, 105, 14, 107, 19, 18, 71, 7, 8, 10, 113, 104, 6, 0, 15, 1, 50, 56, 53, 44, 102, 43, 34, 35, 36, 40, 13, 11, 30, 26, 29, 42, 33, 38, 37, 25, 24, 32, 121, 27, 28, 31, 41, 39, 120, 4, 55, 123, 51, 49, 12, 114, 9, 119, 2, 89, 115, 59, 61, 60, 90, 57, 63, 99, 112, 64, 65, 54, 46, 48, 52, 117, 47, 45, 93, 111, 110, 106, 126, 92, 94, 122, 96, 97, 100, 101, 62, 118, 95, 108, 86, 85, 84, 87, 109, 70, 69, 68, 67, 72, 73, 66, 58, 124, 88, 91, 98, 103]\n",
      "Długość trasy: 132806.68125180353\n"
     ]
    }
   ],
   "source": [
    "tabu_search_with_time_limit_multiple_runs(TSP_127, NN_127, 10, 90, 'insert', 10, 5)"
   ]
  },
  {
   "cell_type": "markdown",
   "metadata": {},
   "source": [
    "Rozmiar listy tabu: 10, maksymalny czas liczenia: 90, funkcja sąsiedztwa: insert, liczba tworzonych sąsiadów: 10\n",
    "Najlepsze rozwiązanie spośród 5 prób: [116, 83, 80, 125, 81, 82, 74, 75, 77, 79, 78, 76, 17, 20, 16, 21, 3, 22, 23, 5, 105, 14, 107, 19, 18, 71, 7, 8, 10, 113, 104, 6, 0, 15, 1, 50, 56, 53, 44, 102, 43, 34, 35, 36, 40, 13, 11, 30, 26, 29, 42, 33, 38, 37, 25, 24, 32, 121, 27, 28, 31, 41, 39, 120, 4, 55, 123, 51, 49, 12, 114, 9, 119, 2, 89, 115, 59, 61, 60, 90, 57, 63, 99, 112, 64, 65, 54, 46, 48, 52, 117, 47, 45, 93, 111, 110, 106, 126, 92, 94, 122, 96, 97, 100, 101, 62, 118, 95, 108, 86, 85, 84, 87, 109, 70, 69, 68, 67, 72, 73, 66, 58, 124, 88, 91, 98, 103]\n",
    "Długość trasy: 132806.68125180353"
   ]
  },
  {
   "cell_type": "markdown",
   "metadata": {},
   "source": [
    "### Liczba wygenerowanych sąsiedztw"
   ]
  },
  {
   "cell_type": "code",
   "execution_count": 25,
   "metadata": {},
   "outputs": [
    {
     "name": "stdout",
     "output_type": "stream",
     "text": [
      "Rozmiar listy tabu: 10, maksymalna powtórzeń: 10000, funkcja sąsiedztwa: insert, liczba tworzonych sąsiadów: 5\n",
      "Najlepsze rozwiązanie spośród 5 prób: [116, 83, 80, 125, 81, 82, 74, 75, 77, 79, 78, 76, 17, 20, 16, 21, 3, 22, 23, 5, 105, 14, 107, 19, 18, 71, 7, 8, 10, 113, 104, 6, 0, 15, 1, 50, 56, 53, 44, 102, 43, 34, 35, 36, 40, 13, 11, 30, 26, 29, 42, 33, 38, 37, 25, 24, 32, 121, 27, 28, 31, 41, 39, 120, 4, 55, 123, 51, 49, 12, 114, 9, 119, 2, 89, 115, 59, 61, 60, 90, 57, 63, 99, 112, 64, 65, 54, 46, 48, 52, 117, 47, 45, 93, 111, 110, 106, 126, 92, 94, 122, 96, 97, 100, 101, 62, 118, 95, 108, 86, 85, 84, 87, 109, 70, 69, 68, 67, 72, 73, 66, 58, 124, 88, 91, 98, 103]\n",
      "Długość trasy: 132806.68125180353\n"
     ]
    }
   ],
   "source": [
    "tabu_search_multiple_runs(TSP_127, NN_127, 10, 10000,'insert', 5, 5)"
   ]
  },
  {
   "cell_type": "markdown",
   "metadata": {},
   "source": [
    "Rozmiar listy tabu: 10, maksymalna powtórzeń: 10000, funkcja sąsiedztwa: insert, liczba tworzonych sąsiadów: 5\n",
    "Najlepsze rozwiązanie spośród 5 prób: [116, 83, 80, 125, 81, 82, 74, 75, 77, 79, 78, 76, 17, 20, 16, 21, 3, 22, 23, 5, 105, 14, 107, 19, 18, 71, 7, 8, 10, 113, 104, 6, 0, 15, 1, 50, 56, 53, 44, 102, 43, 34, 35, 36, 40, 13, 11, 30, 26, 29, 42, 33, 38, 37, 25, 24, 32, 121, 27, 28, 31, 41, 39, 120, 4, 55, 123, 51, 49, 12, 114, 9, 119, 2, 89, 115, 59, 61, 60, 90, 57, 63, 99, 112, 64, 65, 54, 46, 48, 52, 117, 47, 45, 93, 111, 110, 106, 126, 92, 94, 122, 96, 97, 100, 101, 62, 118, 95, 108, 86, 85, 84, 87, 109, 70, 69, 68, 67, 72, 73, 66, 58, 124, 88, 91, 98, 103]\n",
    "Długość trasy: 132806.68125180353"
   ]
  },
  {
   "cell_type": "code",
   "execution_count": 26,
   "metadata": {},
   "outputs": [
    {
     "name": "stdout",
     "output_type": "stream",
     "text": [
      "Rozmiar listy tabu: 10, maksymalna powtórzeń: 10000, funkcja sąsiedztwa: insert, liczba tworzonych sąsiadów: 8\n",
      "Najlepsze rozwiązanie spośród 5 prób: [116, 83, 80, 125, 81, 82, 74, 75, 77, 79, 78, 76, 17, 20, 16, 21, 3, 22, 23, 5, 105, 14, 107, 19, 18, 71, 7, 8, 10, 113, 104, 6, 0, 15, 1, 50, 56, 53, 44, 102, 43, 34, 35, 36, 40, 13, 11, 30, 26, 29, 42, 33, 38, 37, 25, 24, 32, 121, 27, 28, 31, 41, 39, 120, 4, 55, 123, 51, 49, 12, 114, 9, 119, 2, 89, 115, 59, 61, 60, 90, 57, 63, 99, 112, 64, 65, 54, 46, 48, 52, 117, 47, 45, 93, 111, 110, 106, 126, 92, 94, 122, 96, 97, 100, 101, 62, 118, 95, 108, 86, 85, 84, 87, 109, 70, 69, 68, 67, 72, 73, 66, 58, 124, 88, 91, 98, 103]\n",
      "Długość trasy: 132806.68125180353\n"
     ]
    }
   ],
   "source": [
    "tabu_search_multiple_runs(TSP_127, NN_127, 10, 10000,'insert', 8, 5)"
   ]
  },
  {
   "cell_type": "markdown",
   "metadata": {},
   "source": [
    "Rozmiar listy tabu: 10, maksymalna powtórzeń: 10000, funkcja sąsiedztwa: insert, liczba tworzonych sąsiadów: 8\n",
    "Najlepsze rozwiązanie spośród 5 prób: [116, 83, 80, 125, 81, 82, 74, 75, 77, 79, 78, 76, 17, 20, 16, 21, 3, 22, 23, 5, 105, 14, 107, 19, 18, 71, 7, 8, 10, 113, 104, 6, 0, 15, 1, 50, 56, 53, 44, 102, 43, 34, 35, 36, 40, 13, 11, 30, 26, 29, 42, 33, 38, 37, 25, 24, 32, 121, 27, 28, 31, 41, 39, 120, 4, 55, 123, 51, 49, 12, 114, 9, 119, 2, 89, 115, 59, 61, 60, 90, 57, 63, 99, 112, 64, 65, 54, 46, 48, 52, 117, 47, 45, 93, 111, 110, 106, 126, 92, 94, 122, 96, 97, 100, 101, 62, 118, 95, 108, 86, 85, 84, 87, 109, 70, 69, 68, 67, 72, 73, 66, 58, 124, 88, 91, 98, 103]\n",
    "Długość trasy: 132806.68125180353"
   ]
  },
  {
   "cell_type": "code",
   "execution_count": 27,
   "metadata": {},
   "outputs": [
    {
     "name": "stdout",
     "output_type": "stream",
     "text": [
      "Rozmiar listy tabu: 10, maksymalna powtórzeń: 10000, funkcja sąsiedztwa: insert, liczba tworzonych sąsiadów: 15\n",
      "Najlepsze rozwiązanie spośród 5 prób: [116, 83, 80, 125, 81, 82, 74, 75, 77, 79, 78, 76, 17, 20, 16, 21, 3, 22, 23, 5, 105, 14, 107, 19, 18, 71, 7, 8, 10, 113, 104, 6, 0, 15, 1, 50, 56, 53, 44, 102, 43, 34, 35, 36, 40, 13, 11, 30, 26, 29, 42, 33, 38, 37, 25, 24, 32, 121, 27, 28, 31, 41, 39, 120, 4, 55, 123, 51, 49, 12, 114, 9, 119, 2, 89, 115, 59, 61, 60, 90, 57, 63, 99, 112, 64, 65, 54, 46, 48, 52, 117, 47, 45, 93, 111, 110, 106, 126, 92, 94, 122, 96, 97, 100, 101, 62, 118, 95, 108, 86, 85, 84, 87, 109, 70, 69, 68, 67, 72, 73, 66, 58, 124, 88, 91, 98, 103]\n",
      "Długość trasy: 132806.68125180353\n"
     ]
    }
   ],
   "source": [
    "tabu_search_multiple_runs(TSP_127, NN_127, 10, 10000,'insert', 15, 5)"
   ]
  },
  {
   "cell_type": "markdown",
   "metadata": {},
   "source": [
    "Rozmiar listy tabu: 10, maksymalna powtórzeń: 10000, funkcja sąsiedztwa: insert, liczba tworzonych sąsiadów: 15\n",
    "Najlepsze rozwiązanie spośród 5 prób: [116, 83, 80, 125, 81, 82, 74, 75, 77, 79, 78, 76, 17, 20, 16, 21, 3, 22, 23, 5, 105, 14, 107, 19, 18, 71, 7, 8, 10, 113, 104, 6, 0, 15, 1, 50, 56, 53, 44, 102, 43, 34, 35, 36, 40, 13, 11, 30, 26, 29, 42, 33, 38, 37, 25, 24, 32, 121, 27, 28, 31, 41, 39, 120, 4, 55, 123, 51, 49, 12, 114, 9, 119, 2, 89, 115, 59, 61, 60, 90, 57, 63, 99, 112, 64, 65, 54, 46, 48, 52, 117, 47, 45, 93, 111, 110, 106, 126, 92, 94, 122, 96, 97, 100, 101, 62, 118, 95, 108, 86, 85, 84, 87, 109, 70, 69, 68, 67, 72, 73, 66, 58, 124, 88, 91, 98, 103]\n",
    "Długość trasy: 132806.68125180353\n"
   ]
  },
  {
   "cell_type": "code",
   "execution_count": 28,
   "metadata": {},
   "outputs": [
    {
     "name": "stdout",
     "output_type": "stream",
     "text": [
      "Rozmiar listy tabu: 10, maksymalna powtórzeń: 10000, funkcja sąsiedztwa: insert, liczba tworzonych sąsiadów: 20\n",
      "Najlepsze rozwiązanie spośród 5 prób: [116, 83, 80, 125, 81, 82, 74, 75, 77, 79, 78, 76, 17, 20, 16, 21, 3, 22, 23, 5, 105, 14, 107, 19, 18, 71, 7, 8, 10, 113, 104, 6, 0, 15, 1, 50, 56, 53, 44, 102, 43, 34, 35, 36, 40, 13, 11, 30, 26, 29, 42, 33, 38, 37, 25, 24, 32, 121, 27, 28, 31, 41, 39, 120, 4, 55, 123, 51, 49, 12, 114, 9, 119, 2, 89, 115, 59, 61, 60, 90, 57, 63, 99, 112, 64, 65, 54, 46, 48, 52, 117, 47, 45, 93, 111, 110, 106, 126, 92, 94, 122, 96, 97, 100, 101, 62, 118, 95, 108, 86, 85, 84, 87, 109, 70, 69, 68, 67, 72, 73, 66, 58, 124, 88, 91, 98, 103]\n",
      "Długość trasy: 132806.68125180353\n"
     ]
    }
   ],
   "source": [
    "tabu_search_multiple_runs(TSP_127, NN_127, 10, 10000,'insert', 20, 5)"
   ]
  },
  {
   "cell_type": "markdown",
   "metadata": {},
   "source": [
    "Rozmiar listy tabu: 10, maksymalna powtórzeń: 10000, funkcja sąsiedztwa: insert, liczba tworzonych sąsiadów: 20\n",
    "Najlepsze rozwiązanie spośród 5 prób: [116, 83, 80, 125, 81, 82, 74, 75, 77, 79, 78, 76, 17, 20, 16, 21, 3, 22, 23, 5, 105, 14, 107, 19, 18, 71, 7, 8, 10, 113, 104, 6, 0, 15, 1, 50, 56, 53, 44, 102, 43, 34, 35, 36, 40, 13, 11, 30, 26, 29, 42, 33, 38, 37, 25, 24, 32, 121, 27, 28, 31, 41, 39, 120, 4, 55, 123, 51, 49, 12, 114, 9, 119, 2, 89, 115, 59, 61, 60, 90, 57, 63, 99, 112, 64, 65, 54, 46, 48, 52, 117, 47, 45, 93, 111, 110, 106, 126, 92, 94, 122, 96, 97, 100, 101, 62, 118, 95, 108, 86, 85, 84, 87, 109, 70, 69, 68, 67, 72, 73, 66, 58, 124, 88, 91, 98, 103]\n",
    "Długość trasy: 132806.68125180353"
   ]
  },
  {
   "cell_type": "markdown",
   "metadata": {},
   "source": [
    "### Wnioski po testach: \n",
    "Przeprowadzone testy wskazują, że poza sąsiedztwem lub bardzo małą ilością iteracji, dobór parametrów nie ma większego znaczenia, jeżeli mamy już rozwiązanie w okolicy optymalnego. W testach celowo została użyta funkcja insert doboru sąsiedztwa ze względu na jej przeciętne wyniki, co pozwala na zbadanie wpływu innych parametrów. "
   ]
  },
  {
   "cell_type": "markdown",
   "metadata": {},
   "source": [
    "### Poszukiwanie najlepszego rozwiązania dla TSP_127\n",
    "Do poszukania najlepszego rozwiązanie wykorzystamy trasę wyznaczoną przez algorytm NN oraz parametry, które najlepiej sprawdziły się w wyznaczaniu trasy bazującącej na losowym roziązaniu."
   ]
  },
  {
   "cell_type": "code",
   "execution_count": 12,
   "metadata": {},
   "outputs": [
    {
     "name": "stdout",
     "output_type": "stream",
     "text": [
      "Rozmiar listy tabu: 15, maksymalny czas liczenia: 45, funkcja sąsiedztwa: insert, liczba tworzonych sąsiadów: 30\n",
      "Najlepsze rozwiązanie spośród 5 prób: [116, 83, 80, 125, 81, 82, 74, 75, 77, 79, 78, 76, 17, 20, 16, 21, 3, 22, 23, 5, 105, 14, 107, 19, 18, 71, 7, 8, 10, 113, 104, 6, 0, 15, 1, 50, 56, 53, 44, 102, 43, 34, 35, 36, 40, 13, 11, 30, 26, 29, 42, 33, 38, 37, 25, 24, 32, 121, 27, 28, 31, 41, 39, 120, 4, 55, 123, 51, 49, 12, 114, 9, 119, 2, 89, 115, 59, 61, 60, 90, 57, 63, 99, 112, 64, 65, 54, 46, 48, 52, 117, 47, 45, 93, 111, 110, 106, 126, 92, 94, 122, 96, 97, 100, 101, 62, 118, 95, 108, 86, 85, 84, 87, 109, 103, 98, 91, 88, 124, 58, 66, 73, 72, 67, 68, 69, 70]\n",
      "Długość trasy: 129993.76540982892\n"
     ]
    }
   ],
   "source": [
    "NN_improved = [116, 83, 80, 125, 81, 82, 74, 75, 77, 79, 78, 76, 17, 20, 16, 21, 3, 22, 23, 5, 105, 14, 107, 19, 18, 71, 7, 8, 10, 113, 104, 6, 0, 15, 1, 50, 56, 53, 44, 102, 43, 34, 35, 36, 40, 13, 11, 30, 26, 29, 42, 33, 38, 37, 25, 24, 32, 121, 27, 28, 31, 41, 39, 120, 4, 55, 123, 51, 49, 12, 114, 9, 119, 2, 89, 115, 59, 61, 60, 90, 57, 63, 99, 112, 65, 54, 46, 48, 52, 117, 47, 45, 93, 111, 110, 106, 126, 92, 94, 122, 96, 97, 100, 101, 62, 118, 95, 108, 86, 85, 84, 87, 109, 103, 64, 98, 91, 88, 124, 58, 66, 73, 72, 67, 68, 69, 70]\n",
    "# Długość trasy: 131157.7299304231\n",
    "tabu_search_with_time_limit_multiple_runs(TSP_127, NN_improved, 15, 45,'insert', 30, 5)"
   ]
  },
  {
   "cell_type": "code",
   "execution_count": 13,
   "metadata": {},
   "outputs": [
    {
     "name": "stdout",
     "output_type": "stream",
     "text": [
      "Rozmiar listy tabu: 15, maksymalny czas liczenia: 30, funkcja sąsiedztwa: insert, liczba tworzonych sąsiadów: 30\n",
      "Najlepsze rozwiązanie spośród 5 prób: [116, 83, 80, 125, 81, 82, 74, 75, 77, 79, 78, 76, 17, 20, 16, 21, 3, 22, 23, 5, 105, 14, 107, 19, 18, 71, 7, 8, 10, 113, 104, 6, 0, 15, 1, 50, 56, 53, 44, 102, 43, 34, 35, 36, 40, 13, 11, 30, 26, 29, 42, 33, 38, 37, 25, 24, 32, 121, 27, 28, 31, 41, 39, 120, 4, 55, 123, 51, 49, 12, 114, 9, 119, 2, 89, 115, 59, 61, 60, 90, 57, 63, 99, 112, 64, 65, 54, 46, 48, 52, 117, 47, 45, 93, 111, 110, 106, 126, 92, 94, 122, 96, 97, 100, 101, 62, 118, 95, 108, 87, 86, 85, 84, 109, 103, 98, 91, 88, 124, 58, 66, 73, 72, 67, 68, 69, 70]\n",
      "Długość trasy: 129320.57729087246\n"
     ]
    }
   ],
   "source": [
    "NN_improved_2 = [116, 83, 80, 125, 81, 82, 74, 75, 77, 79, 78, 76, 17, 20, 16, 21, 3, 22, 23, 5, 105, 14, 107, 19, 18, 71, 7, 8, 10, 113, 104, 6, 0, 15, 1, 50, 56, 53, 44, 102, 43, 34, 35, 36, 40, 13, 11, 30, 26, 29, 42, 33, 38, 37, 25, 24, 32, 121, 27, 28, 31, 41, 39, 120, 4, 55, 123, 51, 49, 12, 114, 9, 119, 2, 89, 115, 59, 61, 60, 90, 57, 63, 99, 112, 64, 65, 54, 46, 48, 52, 117, 47, 45, 93, 111, 110, 106, 126, 92, 94, 122, 96, 97, 100, 101, 62, 118, 95, 108, 86, 85, 84, 87, 109, 103, 98, 91, 88, 124, 58, 66, 73, 72, 67, 68, 69, 70]\n",
    "# Długość trasy: 129993.76540982892\n",
    "tabu_search_with_time_limit_multiple_runs(TSP_127, NN_improved_2, 15, 30,'insert', 30, 5)"
   ]
  },
  {
   "cell_type": "code",
   "execution_count": 14,
   "metadata": {},
   "outputs": [
    {
     "name": "stdout",
     "output_type": "stream",
     "text": [
      "Rozmiar listy tabu: 15, maksymalny czas liczenia: 30, funkcja sąsiedztwa: reverse, liczba tworzonych sąsiadów: 30\n",
      "Najlepsze rozwiązanie spośród 10 prób: [116, 83, 80, 125, 81, 82, 74, 75, 77, 79, 78, 76, 17, 20, 16, 21, 3, 22, 23, 5, 105, 14, 107, 19, 18, 71, 7, 8, 10, 113, 104, 6, 0, 15, 1, 50, 56, 53, 44, 102, 43, 34, 35, 36, 40, 13, 11, 30, 26, 29, 42, 33, 38, 37, 25, 24, 32, 121, 27, 28, 31, 41, 39, 120, 4, 55, 123, 51, 49, 12, 114, 9, 119, 2, 89, 115, 59, 61, 60, 90, 57, 63, 99, 112, 64, 65, 54, 46, 48, 52, 117, 47, 45, 93, 111, 110, 106, 126, 92, 94, 122, 96, 97, 100, 101, 62, 118, 95, 108, 87, 86, 85, 84, 109, 103, 98, 91, 88, 124, 58, 66, 73, 72, 67, 70, 69, 68]\n",
      "Długość trasy: 127913.21838455701\n"
     ]
    }
   ],
   "source": [
    "NN_improved_3 = [116, 83, 80, 125, 81, 82, 74, 75, 77, 79, 78, 76, 17, 20, 16, 21, 3, 22, 23, 5, 105, 14, 107, 19, 18, 71, 7, 8, 10, 113, 104, 6, 0, 15, 1, 50, 56, 53, 44, 102, 43, 34, 35, 36, 40, 13, 11, 30, 26, 29, 42, 33, 38, 37, 25, 24, 32, 121, 27, 28, 31, 41, 39, 120, 4, 55, 123, 51, 49, 12, 114, 9, 119, 2, 89, 115, 59, 61, 60, 90, 57, 63, 99, 112, 64, 65, 54, 46, 48, 52, 117, 47, 45, 93, 111, 110, 106, 126, 92, 94, 122, 96, 97, 100, 101, 62, 118, 95, 108, 87, 86, 85, 84, 109, 103, 98, 91, 88, 124, 58, 66, 73, 72, 67, 68, 69, 70]\n",
    "# Długość trasy: 129320.57729087246\n",
    "tabu_search_with_time_limit_multiple_runs(TSP_127, NN_improved_3, 15, 30,'reverse', 30, 10)"
   ]
  },
  {
   "cell_type": "code",
   "execution_count": 15,
   "metadata": {},
   "outputs": [
    {
     "name": "stdout",
     "output_type": "stream",
     "text": [
      "Rozmiar listy tabu: 15, maksymalny czas liczenia: 30, funkcja sąsiedztwa: reverse, liczba tworzonych sąsiadów: 30\n",
      "Najlepsze rozwiązanie spośród 10 prób: [74, 82, 81, 125, 80, 83, 116, 75, 77, 79, 78, 76, 17, 20, 16, 21, 3, 22, 23, 5, 105, 14, 107, 19, 18, 71, 7, 8, 10, 113, 104, 6, 0, 15, 1, 50, 56, 53, 44, 102, 43, 34, 35, 36, 40, 13, 11, 30, 26, 29, 42, 33, 38, 37, 25, 24, 32, 121, 27, 28, 31, 41, 39, 120, 4, 55, 123, 51, 49, 12, 114, 9, 119, 2, 89, 115, 59, 61, 60, 90, 57, 63, 99, 112, 64, 65, 54, 46, 48, 52, 117, 47, 45, 93, 111, 110, 106, 126, 92, 94, 122, 96, 97, 100, 101, 62, 118, 95, 108, 87, 86, 85, 84, 109, 103, 98, 91, 88, 124, 58, 66, 73, 72, 67, 70, 69, 68]\n",
      "Długość trasy: 126509.53882319551\n"
     ]
    }
   ],
   "source": [
    "NN_improved_4 = [116, 83, 80, 125, 81, 82, 74, 75, 77, 79, 78, 76, 17, 20, 16, 21, 3, 22, 23, 5, 105, 14, 107, 19, 18, 71, 7, 8, 10, 113, 104, 6, 0, 15, 1, 50, 56, 53, 44, 102, 43, 34, 35, 36, 40, 13, 11, 30, 26, 29, 42, 33, 38, 37, 25, 24, 32, 121, 27, 28, 31, 41, 39, 120, 4, 55, 123, 51, 49, 12, 114, 9, 119, 2, 89, 115, 59, 61, 60, 90, 57, 63, 99, 112, 64, 65, 54, 46, 48, 52, 117, 47, 45, 93, 111, 110, 106, 126, 92, 94, 122, 96, 97, 100, 101, 62, 118, 95, 108, 87, 86, 85, 84, 109, 103, 98, 91, 88, 124, 58, 66, 73, 72, 67, 70, 69, 68]\n",
    "# Długość trasy: 127913.21838455701\n",
    "tabu_search_with_time_limit_multiple_runs(TSP_127, NN_improved_4, 15, 30,'reverse', 30, 10)"
   ]
  },
  {
   "cell_type": "code",
   "execution_count": 16,
   "metadata": {},
   "outputs": [
    {
     "name": "stdout",
     "output_type": "stream",
     "text": [
      "Rozmiar listy tabu: 15, maksymalny czas liczenia: 30, funkcja sąsiedztwa: reverse, liczba tworzonych sąsiadów: 30\n",
      "Najlepsze rozwiązanie spośród 10 prób: [74, 82, 81, 125, 80, 83, 116, 75, 77, 79, 78, 76, 17, 20, 16, 21, 3, 22, 23, 5, 105, 14, 107, 19, 18, 71, 7, 8, 10, 113, 104, 6, 0, 15, 1, 50, 39, 41, 31, 28, 27, 121, 32, 24, 25, 37, 38, 33, 42, 29, 26, 30, 11, 13, 40, 36, 35, 34, 43, 102, 44, 53, 56, 120, 4, 55, 123, 51, 49, 12, 114, 9, 119, 2, 89, 115, 59, 61, 60, 90, 57, 63, 99, 112, 64, 65, 54, 46, 48, 52, 117, 47, 45, 93, 111, 110, 106, 126, 92, 94, 122, 96, 97, 100, 101, 62, 118, 95, 108, 87, 86, 85, 84, 109, 103, 98, 91, 88, 124, 58, 66, 73, 72, 67, 70, 69, 68]\n",
      "Długość trasy: 125941.84025533627\n"
     ]
    }
   ],
   "source": [
    "NN_improved_5 = [74, 82, 81, 125, 80, 83, 116, 75, 77, 79, 78, 76, 17, 20, 16, 21, 3, 22, 23, 5, 105, 14, 107, 19, 18, 71, 7, 8, 10, 113, 104, 6, 0, 15, 1, 50, 56, 53, 44, 102, 43, 34, 35, 36, 40, 13, 11, 30, 26, 29, 42, 33, 38, 37, 25, 24, 32, 121, 27, 28, 31, 41, 39, 120, 4, 55, 123, 51, 49, 12, 114, 9, 119, 2, 89, 115, 59, 61, 60, 90, 57, 63, 99, 112, 64, 65, 54, 46, 48, 52, 117, 47, 45, 93, 111, 110, 106, 126, 92, 94, 122, 96, 97, 100, 101, 62, 118, 95, 108, 87, 86, 85, 84, 109, 103, 98, 91, 88, 124, 58, 66, 73, 72, 67, 70, 69, 68]\n",
    "# Długość trasy: 126509.53882319551\n",
    "tabu_search_with_time_limit_multiple_runs(TSP_127, NN_improved_5, 15, 30,'reverse', 30, 10)"
   ]
  },
  {
   "cell_type": "code",
   "execution_count": 17,
   "metadata": {},
   "outputs": [
    {
     "name": "stdout",
     "output_type": "stream",
     "text": [
      "Rozmiar listy tabu: 15, maksymalny czas liczenia: 30, funkcja sąsiedztwa: reverse, liczba tworzonych sąsiadów: 30\n",
      "Najlepsze rozwiązanie spośród 10 prób: [74, 82, 81, 125, 80, 83, 116, 75, 77, 79, 78, 76, 17, 20, 16, 21, 3, 22, 23, 5, 105, 14, 107, 19, 18, 71, 7, 8, 10, 113, 104, 6, 0, 15, 1, 50, 34, 35, 36, 40, 13, 11, 30, 26, 29, 42, 33, 38, 37, 25, 24, 32, 121, 27, 28, 31, 41, 39, 43, 102, 44, 53, 56, 120, 4, 55, 123, 51, 49, 12, 114, 9, 119, 2, 89, 115, 59, 61, 60, 90, 57, 63, 99, 112, 64, 65, 54, 46, 48, 52, 117, 47, 45, 93, 111, 110, 106, 126, 92, 94, 122, 96, 97, 100, 101, 62, 118, 95, 108, 87, 86, 85, 84, 109, 103, 98, 91, 88, 124, 58, 66, 73, 72, 67, 70, 69, 68]\n",
      "Długość trasy: 125395.7582403361\n"
     ]
    }
   ],
   "source": [
    "NN_improved_6 = [74, 82, 81, 125, 80, 83, 116, 75, 77, 79, 78, 76, 17, 20, 16, 21, 3, 22, 23, 5, 105, 14, 107, 19, 18, 71, 7, 8, 10, 113, 104, 6, 0, 15, 1, 50, 39, 41, 31, 28, 27, 121, 32, 24, 25, 37, 38, 33, 42, 29, 26, 30, 11, 13, 40, 36, 35, 34, 43, 102, 44, 53, 56, 120, 4, 55, 123, 51, 49, 12, 114, 9, 119, 2, 89, 115, 59, 61, 60, 90, 57, 63, 99, 112, 64, 65, 54, 46, 48, 52, 117, 47, 45, 93, 111, 110, 106, 126, 92, 94, 122, 96, 97, 100, 101, 62, 118, 95, 108, 87, 86, 85, 84, 109, 103, 98, 91, 88, 124, 58, 66, 73, 72, 67, 70, 69, 68]\n",
    "# Długość trasy: 125941.84025533627\n",
    "tabu_search_with_time_limit_multiple_runs(TSP_127, NN_improved_6, 15, 30,'reverse', 30, 10)"
   ]
  },
  {
   "cell_type": "code",
   "execution_count": 18,
   "metadata": {},
   "outputs": [
    {
     "name": "stdout",
     "output_type": "stream",
     "text": [
      "Rozmiar listy tabu: 15, maksymalny czas liczenia: 60, funkcja sąsiedztwa: reverse, liczba tworzonych sąsiadów: 60\n",
      "Najlepsze rozwiązanie spośród 10 prób: [74, 82, 81, 125, 80, 83, 116, 75, 77, 79, 78, 76, 17, 20, 16, 19, 107, 14, 105, 5, 23, 22, 3, 21, 18, 71, 7, 8, 10, 113, 104, 6, 0, 15, 1, 50, 34, 35, 36, 40, 13, 11, 30, 26, 29, 42, 33, 38, 37, 25, 24, 32, 121, 27, 28, 31, 41, 39, 43, 102, 44, 53, 56, 120, 4, 55, 123, 51, 49, 12, 114, 9, 119, 2, 89, 115, 59, 61, 60, 90, 57, 63, 99, 112, 64, 65, 54, 46, 48, 52, 117, 47, 45, 93, 111, 110, 106, 126, 92, 94, 122, 96, 97, 100, 101, 62, 118, 95, 108, 87, 86, 85, 84, 109, 103, 98, 91, 88, 124, 58, 66, 73, 72, 67, 70, 69, 68]\n",
      "Długość trasy: 125116.47190141668\n"
     ]
    }
   ],
   "source": [
    "NN_improved_7 = [74, 82, 81, 125, 80, 83, 116, 75, 77, 79, 78, 76, 17, 20, 16, 21, 3, 22, 23, 5, 105, 14, 107, 19, 18, 71, 7, 8, 10, 113, 104, 6, 0, 15, 1, 50, 34, 35, 36, 40, 13, 11, 30, 26, 29, 42, 33, 38, 37, 25, 24, 32, 121, 27, 28, 31, 41, 39, 43, 102, 44, 53, 56, 120, 4, 55, 123, 51, 49, 12, 114, 9, 119, 2, 89, 115, 59, 61, 60, 90, 57, 63, 99, 112, 64, 65, 54, 46, 48, 52, 117, 47, 45, 93, 111, 110, 106, 126, 92, 94, 122, 96, 97, 100, 101, 62, 118, 95, 108, 87, 86, 85, 84, 109, 103, 98, 91, 88, 124, 58, 66, 73, 72, 67, 70, 69, 68]\n",
    "# Długość trasy: 125395.7582403361\n",
    "tabu_search_with_time_limit_multiple_runs(TSP_127, NN_improved_7, 15, 60,'reverse', 60, 10)"
   ]
  },
  {
   "cell_type": "code",
   "execution_count": 19,
   "metadata": {},
   "outputs": [
    {
     "name": "stdout",
     "output_type": "stream",
     "text": [
      "Rozmiar listy tabu: 15, maksymalny czas liczenia: 60, funkcja sąsiedztwa: reverse, liczba tworzonych sąsiadów: 60\n",
      "Najlepsze rozwiązanie spośród 10 prób: [74, 82, 81, 125, 80, 83, 116, 75, 77, 79, 78, 76, 17, 20, 16, 19, 107, 14, 105, 5, 23, 22, 3, 21, 18, 71, 7, 8, 10, 113, 104, 6, 0, 15, 1, 50, 34, 35, 36, 40, 13, 11, 30, 26, 29, 42, 33, 38, 37, 25, 24, 32, 31, 28, 27, 121, 41, 39, 43, 102, 44, 53, 56, 120, 4, 55, 123, 51, 49, 12, 114, 9, 119, 2, 89, 115, 59, 61, 60, 90, 57, 63, 99, 112, 64, 65, 54, 46, 48, 52, 117, 47, 45, 93, 111, 110, 106, 126, 92, 94, 122, 96, 97, 100, 101, 62, 118, 95, 108, 87, 86, 85, 84, 109, 103, 98, 91, 88, 124, 58, 66, 73, 72, 67, 70, 69, 68]\n",
      "Długość trasy: 124869.34075640207\n"
     ]
    }
   ],
   "source": [
    "NN_improved_8 = [74, 82, 81, 125, 80, 83, 116, 75, 77, 79, 78, 76, 17, 20, 16, 19, 107, 14, 105, 5, 23, 22, 3, 21, 18, 71, 7, 8, 10, 113, 104, 6, 0, 15, 1, 50, 34, 35, 36, 40, 13, 11, 30, 26, 29, 42, 33, 38, 37, 25, 24, 32, 121, 27, 28, 31, 41, 39, 43, 102, 44, 53, 56, 120, 4, 55, 123, 51, 49, 12, 114, 9, 119, 2, 89, 115, 59, 61, 60, 90, 57, 63, 99, 112, 64, 65, 54, 46, 48, 52, 117, 47, 45, 93, 111, 110, 106, 126, 92, 94, 122, 96, 97, 100, 101, 62, 118, 95, 108, 87, 86, 85, 84, 109, 103, 98, 91, 88, 124, 58, 66, 73, 72, 67, 70, 69, 68]\n",
    "# Długość trasy: 125116.47190141668\n",
    "tabu_search_with_time_limit_multiple_runs(TSP_127, NN_improved_8, 15, 60,'reverse', 60, 10)"
   ]
  },
  {
   "cell_type": "code",
   "execution_count": 20,
   "metadata": {},
   "outputs": [
    {
     "name": "stdout",
     "output_type": "stream",
     "text": [
      "Rozmiar listy tabu: 15, maksymalny czas liczenia: 30, funkcja sąsiedztwa: reverse, liczba tworzonych sąsiadów: 60\n",
      "Najlepsze rozwiązanie spośród 5 prób: [74, 82, 81, 125, 80, 83, 116, 75, 77, 79, 78, 76, 17, 20, 16, 19, 107, 14, 105, 5, 23, 22, 3, 21, 18, 71, 7, 8, 10, 113, 104, 6, 0, 15, 1, 50, 34, 35, 36, 40, 13, 11, 30, 26, 29, 42, 33, 38, 37, 25, 24, 32, 31, 28, 27, 121, 41, 39, 43, 102, 44, 53, 56, 120, 4, 55, 123, 51, 49, 12, 114, 9, 119, 2, 89, 115, 59, 61, 60, 90, 57, 63, 99, 112, 64, 65, 54, 46, 48, 52, 117, 47, 45, 93, 111, 110, 106, 126, 92, 94, 122, 96, 97, 100, 101, 62, 118, 95, 108, 87, 86, 85, 84, 109, 103, 98, 91, 88, 124, 58, 66, 72, 73, 67, 70, 69, 68]\n",
      "Długość trasy: 124640.58315380245\n"
     ]
    }
   ],
   "source": [
    "\n",
    "NN_improved_9 = [74, 82, 81, 125, 80, 83, 116, 75, 77, 79, 78, 76, 17, 20, 16, 19, 107, 14, 105, 5, 23, 22, 3, 21, 18, 71, 7, 8, 10, 113, 104, 6, 0, 15, 1, 50, 34, 35, 36, 40, 13, 11, 30, 26, 29, 42, 33, 38, 37, 25, 24, 32, 31, 28, 27, 121, 41, 39, 43, 102, 44, 53, 56, 120, 4, 55, 123, 51, 49, 12, 114, 9, 119, 2, 89, 115, 59, 61, 60, 90, 57, 63, 99, 112, 64, 65, 54, 46, 48, 52, 117, 47, 45, 93, 111, 110, 106, 126, 92, 94, 122, 96, 97, 100, 101, 62, 118, 95, 108, 87, 86, 85, 84, 109, 103, 98, 91, 88, 124, 58, 66, 73, 72, 67, 70, 69, 68]\n",
    "# Długość trasy: 124869.34075640207\n",
    "tabu_search_with_time_limit_multiple_runs(TSP_127, NN_improved_9, 15, 30,'reverse', 60, 5)"
   ]
  },
  {
   "cell_type": "code",
   "execution_count": 21,
   "metadata": {},
   "outputs": [
    {
     "name": "stdout",
     "output_type": "stream",
     "text": [
      "Rozmiar listy tabu: 15, maksymalny czas liczenia: 30, funkcja sąsiedztwa: reverse, liczba tworzonych sąsiadów: 60\n",
      "Najlepsze rozwiązanie spośród 10 prób: [74, 82, 81, 125, 80, 83, 116, 75, 77, 79, 78, 76, 17, 20, 16, 19, 107, 14, 105, 5, 23, 22, 3, 21, 18, 71, 7, 8, 10, 113, 104, 6, 0, 15, 1, 50, 34, 35, 36, 40, 13, 11, 30, 26, 29, 42, 33, 38, 37, 25, 24, 32, 31, 28, 121, 27, 41, 39, 43, 102, 44, 53, 56, 120, 4, 55, 123, 51, 49, 12, 114, 9, 119, 2, 89, 115, 59, 61, 60, 90, 57, 63, 99, 112, 64, 65, 54, 46, 48, 52, 117, 47, 45, 93, 111, 110, 106, 126, 92, 94, 122, 96, 97, 100, 101, 62, 118, 95, 108, 87, 86, 85, 84, 109, 103, 98, 91, 88, 124, 58, 66, 72, 73, 67, 70, 69, 68]\n",
      "Długość trasy: 124471.73758395515\n"
     ]
    }
   ],
   "source": [
    "NN_improved_10 = [74, 82, 81, 125, 80, 83, 116, 75, 77, 79, 78, 76, 17, 20, 16, 19, 107, 14, 105, 5, 23, 22, 3, 21, 18, 71, 7, 8, 10, 113, 104, 6, 0, 15, 1, 50, 34, 35, 36, 40, 13, 11, 30, 26, 29, 42, 33, 38, 37, 25, 24, 32, 31, 28, 27, 121, 41, 39, 43, 102, 44, 53, 56, 120, 4, 55, 123, 51, 49, 12, 114, 9, 119, 2, 89, 115, 59, 61, 60, 90, 57, 63, 99, 112, 64, 65, 54, 46, 48, 52, 117, 47, 45, 93, 111, 110, 106, 126, 92, 94, 122, 96, 97, 100, 101, 62, 118, 95, 108, 87, 86, 85, 84, 109, 103, 98, 91, 88, 124, 58, 66, 72, 73, 67, 70, 69, 68]\n",
    "# Długość trasy: 124640.58315380245\n",
    "tabu_search_with_time_limit_multiple_runs(TSP_127, NN_improved_10, 15, 30,'reverse', 60, 10)"
   ]
  },
  {
   "cell_type": "code",
   "execution_count": 22,
   "metadata": {},
   "outputs": [
    {
     "name": "stdout",
     "output_type": "stream",
     "text": [
      "Rozmiar listy tabu: 15, maksymalny czas liczenia: 30, funkcja sąsiedztwa: reverse, liczba tworzonych sąsiadów: 60\n",
      "Najlepsze rozwiązanie spośród 10 prób: [74, 82, 81, 125, 80, 83, 116, 75, 77, 79, 78, 76, 17, 20, 16, 19, 107, 14, 105, 5, 23, 22, 3, 21, 18, 71, 7, 8, 10, 113, 104, 6, 0, 15, 1, 50, 34, 35, 36, 40, 13, 11, 30, 26, 29, 42, 33, 38, 37, 25, 24, 32, 31, 28, 121, 27, 41, 39, 43, 102, 44, 53, 56, 120, 4, 55, 123, 51, 49, 12, 114, 119, 9, 2, 89, 115, 59, 61, 60, 90, 57, 63, 99, 112, 64, 65, 54, 46, 48, 52, 117, 47, 45, 93, 111, 110, 106, 126, 92, 94, 122, 96, 97, 100, 101, 62, 118, 95, 108, 87, 86, 85, 84, 109, 103, 98, 91, 88, 124, 58, 66, 72, 73, 67, 70, 69, 68]\n",
      "Długość trasy: 124316.66035361464\n"
     ]
    }
   ],
   "source": [
    "NN_improved_11 = [74, 82, 81, 125, 80, 83, 116, 75, 77, 79, 78, 76, 17, 20, 16, 19, 107, 14, 105, 5, 23, 22, 3, 21, 18, 71, 7, 8, 10, 113, 104, 6, 0, 15, 1, 50, 34, 35, 36, 40, 13, 11, 30, 26, 29, 42, 33, 38, 37, 25, 24, 32, 31, 28, 121, 27, 41, 39, 43, 102, 44, 53, 56, 120, 4, 55, 123, 51, 49, 12, 114, 9, 119, 2, 89, 115, 59, 61, 60, 90, 57, 63, 99, 112, 64, 65, 54, 46, 48, 52, 117, 47, 45, 93, 111, 110, 106, 126, 92, 94, 122, 96, 97, 100, 101, 62, 118, 95, 108, 87, 86, 85, 84, 109, 103, 98, 91, 88, 124, 58, 66, 72, 73, 67, 70, 69, 68]\n",
    "# Długość trasy: 124471.73758395515\n",
    "tabu_search_with_time_limit_multiple_runs(TSP_127, NN_improved_11, 15, 30,'reverse', 60, 10)"
   ]
  },
  {
   "cell_type": "code",
   "execution_count": 23,
   "metadata": {},
   "outputs": [
    {
     "name": "stdout",
     "output_type": "stream",
     "text": [
      "Rozmiar listy tabu: 15, maksymalny czas liczenia: 60, funkcja sąsiedztwa: reverse, liczba tworzonych sąsiadów: 60\n",
      "Najlepsze rozwiązanie spośród 10 prób: [74, 81, 82, 125, 80, 83, 116, 75, 77, 79, 78, 76, 17, 20, 16, 19, 107, 14, 105, 5, 23, 22, 3, 21, 18, 71, 7, 8, 10, 113, 104, 6, 0, 15, 1, 50, 34, 35, 36, 40, 13, 11, 30, 26, 29, 42, 33, 38, 37, 25, 24, 32, 31, 28, 121, 27, 41, 39, 43, 102, 44, 53, 56, 120, 4, 55, 123, 51, 49, 12, 114, 119, 9, 2, 89, 115, 59, 61, 60, 90, 57, 63, 99, 112, 64, 65, 54, 46, 48, 52, 117, 47, 45, 93, 111, 110, 106, 126, 92, 94, 122, 96, 97, 100, 101, 62, 118, 95, 108, 87, 86, 85, 84, 109, 103, 98, 91, 88, 124, 58, 66, 72, 73, 67, 70, 69, 68]\n",
      "Długość trasy: 124234.51167135675\n"
     ]
    }
   ],
   "source": [
    "NN_improved_12 = [74, 82, 81, 125, 80, 83, 116, 75, 77, 79, 78, 76, 17, 20, 16, 19, 107, 14, 105, 5, 23, 22, 3, 21, 18, 71, 7, 8, 10, 113, 104, 6, 0, 15, 1, 50, 34, 35, 36, 40, 13, 11, 30, 26, 29, 42, 33, 38, 37, 25, 24, 32, 31, 28, 121, 27, 41, 39, 43, 102, 44, 53, 56, 120, 4, 55, 123, 51, 49, 12, 114, 119, 9, 2, 89, 115, 59, 61, 60, 90, 57, 63, 99, 112, 64, 65, 54, 46, 48, 52, 117, 47, 45, 93, 111, 110, 106, 126, 92, 94, 122, 96, 97, 100, 101, 62, 118, 95, 108, 87, 86, 85, 84, 109, 103, 98, 91, 88, 124, 58, 66, 72, 73, 67, 70, 69, 68]\n",
    "# Długość trasy: 124316.66035361464\n",
    "\n",
    "tabu_search_with_time_limit_multiple_runs(TSP_127, NN_improved_12, 15, 60,'reverse', 60, 10)"
   ]
  },
  {
   "cell_type": "code",
   "execution_count": 24,
   "metadata": {},
   "outputs": [
    {
     "name": "stdout",
     "output_type": "stream",
     "text": [
      "Rozmiar listy tabu: 15, maksymalny czas liczenia: 60, funkcja sąsiedztwa: reverse, liczba tworzonych sąsiadów: 60\n",
      "Najlepsze rozwiązanie spośród 10 prób: [74, 81, 82, 125, 80, 83, 116, 75, 77, 79, 78, 76, 17, 20, 16, 19, 107, 14, 105, 5, 23, 22, 3, 21, 18, 71, 7, 8, 10, 113, 104, 6, 0, 15, 1, 50, 34, 35, 36, 40, 13, 11, 30, 26, 29, 42, 33, 38, 37, 25, 24, 32, 31, 28, 121, 27, 41, 39, 43, 102, 44, 53, 56, 120, 4, 55, 123, 51, 49, 12, 114, 119, 9, 2, 89, 115, 59, 61, 60, 90, 57, 63, 99, 112, 64, 65, 54, 46, 48, 52, 47, 117, 45, 93, 111, 110, 106, 126, 92, 94, 122, 96, 97, 100, 101, 62, 118, 95, 108, 87, 86, 85, 84, 109, 103, 98, 91, 88, 124, 58, 66, 72, 73, 67, 70, 69, 68]\n",
      "Długość trasy: 124155.11931181168\n"
     ]
    }
   ],
   "source": [
    "NN_improved_13 = [74, 81, 82, 125, 80, 83, 116, 75, 77, 79, 78, 76, 17, 20, 16, 19, 107, 14, 105, 5, 23, 22, 3, 21, 18, 71, 7, 8, 10, 113, 104, 6, 0, 15, 1, 50, 34, 35, 36, 40, 13, 11, 30, 26, 29, 42, 33, 38, 37, 25, 24, 32, 31, 28, 121, 27, 41, 39, 43, 102, 44, 53, 56, 120, 4, 55, 123, 51, 49, 12, 114, 119, 9, 2, 89, 115, 59, 61, 60, 90, 57, 63, 99, 112, 64, 65, 54, 46, 48, 52, 117, 47, 45, 93, 111, 110, 106, 126, 92, 94, 122, 96, 97, 100, 101, 62, 118, 95, 108, 87, 86, 85, 84, 109, 103, 98, 91, 88, 124, 58, 66, 72, 73, 67, 70, 69, 68]\n",
    "# Długość trasy: 124234.51167135675\n",
    "tabu_search_with_time_limit_multiple_runs(TSP_127, NN_improved_13, 15, 60,'reverse', 60, 10)"
   ]
  },
  {
   "cell_type": "markdown",
   "metadata": {},
   "source": [
    "Wnioski: Algorytm Tabu_Search ma problem ze znalezieniem optimum lokalnego dla dużych zbiorów danych. Wymaga wielokrotnego \"restartu\" z trasą lepszej jakości uzyskaną w poprzedniej iteracji. Po 13 iteracjach nadal jest w stanie poprawić swój wynik, jednak zysk z tej poprawy maleje, można to zobaczyć na wykresie poprawy wyniku w pliku głównym."
   ]
  },
  {
   "cell_type": "markdown",
   "metadata": {},
   "source": [
    "### Ostateczne poszukiwanie rozwiązania - funkcja rekurecnycjna"
   ]
  },
  {
   "cell_type": "code",
   "execution_count": 10,
   "metadata": {},
   "outputs": [],
   "source": [
    "# Funkcja rekurencyjnie wykorzystująca tabu search do znalezienia najlepszego rozwiązania\n",
    "def tabu_search_recursive(distance_matrix, initial_solution, tabu_list_size, max_iterations, neighbor_type='swap', gen_neighbor_size=10, num_runs=5):\n",
    "    best_overall_solution = initial_solution.copy()\n",
    "    best_overall_distance = calculate_total_distance(best_overall_solution, distance_matrix)\n",
    "    for _ in range(num_runs):\n",
    "        # Wywołaj funkcję tabu_search i zapisz wyniki\n",
    "        current_solution, current_distance = tabu_search(distance_matrix, initial_solution, tabu_list_size, max_iterations, neighbor_type, gen_neighbor_size)\n",
    "\n",
    "        # Sprawdź, czy bieżące rozwiązanie jest lepsze od najlepszego dotychczasowego\n",
    "        if current_distance < best_overall_distance:\n",
    "            best_overall_solution = current_solution\n",
    "            best_overall_distance = current_distance\n",
    "\n",
    "    # Wydrukuj informacje o najlepszym rozwiązaniu z wszystkich prób\n",
    "    print(\"Rozmiar listy tabu: {}, maksymalna powtórzeń: {}, funkcja sąsiedztwa: {}, liczba tworzonych sąsiadów: {}\".format(tabu_list_size, max_iterations, neighbor_type, gen_neighbor_size))\n",
    "    print(\"Najlepsze rozwiązanie spośród {} prób: {}\".format(num_runs, best_overall_solution))\n",
    "    print(\"Długość trasy: {}\".format(best_overall_distance))\n",
    "\n",
    "    # Jeśli znaleziono lepsze rozwiązanie, wywołaj funkcję rekurencyjnie\n",
    "    if best_overall_solution != initial_solution:\n",
    "        tabu_search_recursive(distance_matrix, best_overall_solution, tabu_list_size, max_iterations, neighbor_type, gen_neighbor_size, num_runs)"
   ]
  },
  {
   "cell_type": "code",
   "execution_count": 12,
   "metadata": {},
   "outputs": [
    {
     "name": "stdout",
     "output_type": "stream",
     "text": [
      "Rozmiar listy tabu: 15, maksymalna powtórzeń: 3000, funkcja sąsiedztwa: reverse, liczba tworzonych sąsiadów: 60\n",
      "Najlepsze rozwiązanie spośród 10 prób: [74, 81, 82, 125, 80, 83, 116, 75, 77, 79, 78, 76, 17, 20, 16, 19, 107, 14, 105, 5, 23, 22, 3, 21, 18, 71, 7, 8, 10, 113, 104, 6, 0, 15, 1, 50, 34, 36, 35, 40, 13, 11, 30, 26, 29, 42, 33, 38, 37, 25, 24, 32, 31, 28, 121, 27, 41, 39, 43, 102, 44, 53, 56, 120, 4, 55, 123, 51, 49, 12, 114, 119, 9, 2, 89, 115, 59, 61, 60, 90, 57, 63, 99, 112, 64, 65, 54, 46, 48, 52, 47, 117, 45, 93, 111, 110, 106, 126, 92, 94, 122, 96, 97, 100, 101, 62, 118, 95, 108, 87, 86, 85, 84, 109, 103, 98, 91, 88, 124, 58, 66, 72, 73, 67, 70, 69, 68]\n",
      "Długość trasy: 124095.08300719385\n",
      "Rozmiar listy tabu: 15, maksymalna powtórzeń: 3000, funkcja sąsiedztwa: reverse, liczba tworzonych sąsiadów: 60\n",
      "Najlepsze rozwiązanie spośród 10 prób: [74, 81, 82, 125, 80, 83, 116, 75, 77, 79, 78, 76, 17, 20, 16, 19, 107, 14, 105, 5, 23, 22, 3, 21, 18, 71, 7, 8, 10, 113, 104, 6, 0, 15, 1, 50, 34, 36, 35, 40, 13, 11, 30, 26, 29, 42, 33, 38, 37, 25, 24, 32, 31, 28, 121, 27, 41, 39, 43, 102, 44, 53, 56, 120, 4, 55, 123, 51, 49, 114, 12, 119, 9, 2, 89, 115, 59, 61, 60, 90, 57, 63, 99, 112, 64, 65, 54, 46, 48, 52, 47, 117, 45, 93, 111, 110, 106, 126, 92, 94, 122, 96, 97, 100, 101, 62, 118, 95, 108, 87, 86, 85, 84, 109, 103, 98, 91, 88, 124, 58, 66, 72, 73, 67, 70, 69, 68]\n",
      "Długość trasy: 124040.3152364139\n",
      "Rozmiar listy tabu: 15, maksymalna powtórzeń: 3000, funkcja sąsiedztwa: reverse, liczba tworzonych sąsiadów: 60\n",
      "Najlepsze rozwiązanie spośród 10 prób: [74, 81, 82, 125, 80, 83, 116, 75, 77, 79, 78, 76, 17, 20, 16, 19, 107, 14, 105, 5, 23, 22, 3, 21, 18, 71, 7, 8, 10, 113, 104, 6, 0, 15, 1, 50, 34, 36, 35, 40, 13, 11, 30, 26, 29, 42, 33, 38, 37, 25, 24, 32, 28, 31, 121, 27, 41, 39, 43, 102, 44, 53, 56, 120, 4, 55, 123, 51, 49, 114, 12, 119, 9, 2, 89, 115, 59, 61, 60, 90, 57, 63, 99, 112, 64, 65, 54, 46, 48, 52, 47, 117, 45, 93, 111, 110, 106, 126, 92, 94, 122, 96, 97, 100, 101, 62, 118, 95, 108, 87, 86, 85, 84, 109, 103, 98, 91, 88, 124, 58, 66, 72, 73, 67, 70, 69, 68]\n",
      "Długość trasy: 123987.54432794293\n",
      "Rozmiar listy tabu: 15, maksymalna powtórzeń: 3000, funkcja sąsiedztwa: reverse, liczba tworzonych sąsiadów: 60\n",
      "Najlepsze rozwiązanie spośród 10 prób: [74, 81, 82, 125, 80, 83, 116, 75, 77, 79, 78, 76, 17, 20, 16, 19, 107, 14, 105, 5, 23, 22, 3, 21, 18, 71, 7, 8, 10, 113, 104, 6, 0, 15, 1, 50, 34, 36, 35, 40, 13, 11, 30, 26, 29, 42, 33, 38, 37, 25, 24, 32, 28, 31, 121, 27, 41, 39, 43, 102, 44, 53, 56, 120, 4, 55, 123, 51, 49, 114, 12, 119, 9, 2, 89, 115, 59, 61, 60, 90, 57, 99, 63, 112, 64, 65, 54, 46, 48, 52, 47, 117, 45, 93, 111, 110, 106, 126, 92, 94, 122, 96, 97, 100, 101, 62, 118, 95, 108, 87, 86, 85, 84, 109, 103, 98, 91, 88, 124, 58, 66, 72, 73, 67, 70, 69, 68]\n",
      "Długość trasy: 123953.01602696512\n",
      "Rozmiar listy tabu: 15, maksymalna powtórzeń: 3000, funkcja sąsiedztwa: reverse, liczba tworzonych sąsiadów: 60\n",
      "Najlepsze rozwiązanie spośród 10 prób: [74, 81, 82, 125, 80, 83, 116, 75, 77, 79, 78, 76, 17, 20, 16, 19, 107, 14, 105, 5, 23, 22, 3, 21, 18, 71, 7, 8, 10, 113, 104, 6, 0, 15, 1, 50, 34, 36, 35, 40, 13, 11, 30, 26, 29, 42, 33, 38, 37, 25, 24, 32, 28, 31, 121, 27, 41, 39, 43, 102, 44, 53, 56, 120, 4, 55, 123, 51, 49, 114, 12, 119, 9, 2, 89, 115, 59, 61, 60, 90, 99, 57, 63, 112, 64, 65, 54, 46, 48, 52, 47, 117, 45, 93, 111, 110, 106, 126, 92, 94, 122, 96, 97, 100, 101, 62, 118, 95, 108, 87, 86, 85, 84, 109, 103, 98, 91, 88, 124, 58, 66, 72, 73, 67, 70, 69, 68]\n",
      "Długość trasy: 123789.3814391673\n",
      "Rozmiar listy tabu: 15, maksymalna powtórzeń: 3000, funkcja sąsiedztwa: reverse, liczba tworzonych sąsiadów: 60\n",
      "Najlepsze rozwiązanie spośród 10 prób: [74, 81, 82, 125, 80, 83, 116, 75, 77, 79, 78, 76, 17, 20, 16, 19, 107, 14, 105, 5, 23, 22, 3, 21, 18, 71, 7, 8, 10, 113, 104, 6, 0, 15, 1, 50, 34, 36, 35, 40, 13, 11, 30, 26, 29, 42, 33, 38, 37, 25, 24, 32, 28, 31, 121, 27, 41, 39, 43, 102, 44, 53, 56, 120, 4, 55, 123, 51, 49, 114, 12, 119, 9, 2, 89, 115, 59, 61, 60, 90, 99, 57, 63, 112, 64, 65, 54, 46, 48, 52, 47, 117, 45, 93, 111, 110, 106, 126, 92, 94, 122, 96, 97, 100, 101, 62, 118, 95, 108, 87, 86, 85, 84, 109, 103, 98, 91, 88, 124, 58, 66, 72, 73, 67, 70, 69, 68]\n",
      "Długość trasy: 123789.3814391673\n"
     ]
    }
   ],
   "source": [
    "NN_improved_14 = [74, 81, 82, 125, 80, 83, 116, 75, 77, 79, 78, 76, 17, 20, 16, 19, 107, 14, 105, 5, 23, 22, 3, 21, 18, 71, 7, 8, 10, 113, 104, 6, 0, 15, 1, 50, 34, 35, 36, 40, 13, 11, 30, 26, 29, 42, 33, 38, 37, 25, 24, 32, 31, 28, 121, 27, 41, 39, 43, 102, 44, 53, 56, 120, 4, 55, 123, 51, 49, 12, 114, 119, 9, 2, 89, 115, 59, 61, 60, 90, 57, 63, 99, 112, 64, 65, 54, 46, 48, 52, 47, 117, 45, 93, 111, 110, 106, 126, 92, 94, 122, 96, 97, 100, 101, 62, 118, 95, 108, 87, 86, 85, 84, 109, 103, 98, 91, 88, 124, 58, 66, 72, 73, 67, 70, 69, 68]\n",
    "# Długość trasy: 124155.11931181168\n",
    "tabu_search_recursive(TSP_127, NN_improved_14, 15, 3000, 'reverse', 60, 10)"
   ]
  },
  {
   "cell_type": "markdown",
   "metadata": {},
   "source": [
    "Wnioski: Funkcja rekurencyjna po dodatkowych 5 powtórzeniach znalazła optymalny wynik, oto on:\n",
    "\n",
    "Rozmiar listy tabu: 15, maksymalna powtórzeń: 3000, funkcja sąsiedztwa: reverse, liczba tworzonych sąsiadów: 60\n",
    "Najlepsze rozwiązanie spośród 10 prób: [74, 81, 82, 125, 80, 83, 116, 75, 77, 79, 78, 76, 17, 20, 16, 19, 107, 14, 105, 5, 23, 22, 3, 21, 18, 71, 7, 8, 10, 113, 104, 6, 0, 15, 1, 50, 34, 36, 35, 40, 13, 11, 30, 26, 29, 42, 33, 38, 37, 25, 24, 32, 28, 31, 121, 27, 41, 39, 43, 102, 44, 53, 56, 120, 4, 55, 123, 51, 49, 114, 12, 119, 9, 2, 89, 115, 59, 61, 60, 90, 99, 57, 63, 112, 64, 65, 54, 46, 48, 52, 47, 117, 45, 93, 111, 110, 106, 126, 92, 94, 122, 96, 97, 100, 101, 62, 118, 95, 108, 87, 86, 85, 84, 109, 103, 98, 91, 88, 124, 58, 66, 72, 73, 67, 70, 69, 68]\n",
    "Długość trasy: 123789.3814391673"
   ]
  }
 ],
 "metadata": {
  "kernelspec": {
   "display_name": "base",
   "language": "python",
   "name": "python3"
  },
  "language_info": {
   "codemirror_mode": {
    "name": "ipython",
    "version": 3
   },
   "file_extension": ".py",
   "mimetype": "text/x-python",
   "name": "python",
   "nbconvert_exporter": "python",
   "pygments_lexer": "ipython3",
   "version": "3.11.5"
  }
 },
 "nbformat": 4,
 "nbformat_minor": 2
}
