{
 "cells": [
  {
   "cell_type": "markdown",
   "metadata": {},
   "source": [
    "# Metody doboru sąsiedztwa"
   ]
  },
  {
   "cell_type": "code",
   "execution_count": null,
   "metadata": {},
   "outputs": [],
   "source": [
    "# Swap dwóch pozycji\n",
    "def Swap(route, pos1, pos2): \n",
    "    route[pos1], route[pos2] = route[pos2], route[pos1]\n",
    "    return route\n",
    "\n",
    "# Insercja elementu na pozycję\n",
    "def Insert(route, pos, elem):\n",
    "    route.insert(pos, elem)\n",
    "    return route\n",
    "    \n",
    "# Odwrócenie kolejności elementów pomiędzy pozycjami\n",
    "def Reverse(route, pos1, pos2):\n",
    "    route[pos1:pos2+1] = reversed(route[pos1:pos2+1])\n",
    "    return route\n",
    "    "
   ]
  },
  {
   "cell_type": "markdown",
   "metadata": {},
   "source": [
    "# Funkcje trasy"
   ]
  },
  {
   "cell_type": "code",
   "execution_count": null,
   "metadata": {},
   "outputs": [],
   "source": [
    "# Funkcja obliczania długości trasy\n",
    "def route_length(route, distance_matrix):\n",
    "    route_length = 0\n",
    "    for i in range(len(route)):\n",
    "        route_length += distance_matrix[route[i-1]][route[i]]\n",
    "    return route_length"
   ]
  },
  {
   "cell_type": "code",
   "execution_count": 1,
   "metadata": {},
   "outputs": [],
   "source": [
    "import random\n",
    "# Stworzenie funkcji ustalenia początkowej trasy\n",
    "def create_initial_route(distance_matrix):\n",
    "    route = list(range(len(distance_matrix)))\n",
    "    random.shuffle(route)\n",
    "    return route"
   ]
  },
  {
   "cell_type": "markdown",
   "metadata": {},
   "source": [
    "# Tabu Search"
   ]
  },
  {
   "cell_type": "code",
   "execution_count": null,
   "metadata": {},
   "outputs": [],
   "source": [
    "# Główna funkcja\n",
    "def tabu_search():\n",
    "     \n",
    "    "
   ]
  }
 ],
 "metadata": {
  "kernelspec": {
   "display_name": "base",
   "language": "python",
   "name": "python3"
  },
  "language_info": {
   "codemirror_mode": {
    "name": "ipython",
    "version": 3
   },
   "file_extension": ".py",
   "mimetype": "text/x-python",
   "name": "python",
   "nbconvert_exporter": "python",
   "pygments_lexer": "ipython3",
   "version": "3.11.5"
  }
 },
 "nbformat": 4,
 "nbformat_minor": 2
}
