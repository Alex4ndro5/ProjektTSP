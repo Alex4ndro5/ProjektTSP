{
 "cells": [
  {
   "cell_type": "code",
   "execution_count": 292,
   "metadata": {},
   "outputs": [],
   "source": [
    "import numpy as np\n",
    "import pandas as pd\n",
    "import random\n",
    "import math\n",
    "import time"
   ]
  },
  {
   "cell_type": "code",
   "execution_count": 293,
   "metadata": {},
   "outputs": [],
   "source": [
    "# Wczytanie danych z pliku Excela\n",
    "TSP_48 = pd.read_excel('Dane_TSP_48.xlsx', header=None).values"
   ]
  },
  {
   "cell_type": "markdown",
   "metadata": {},
   "source": [
    "# Metody doboru sąsiedztwa"
   ]
  },
  {
   "cell_type": "code",
   "execution_count": 294,
   "metadata": {},
   "outputs": [],
   "source": [
    "# Swap \n",
    "def Swap(route, city1, city2):\n",
    "    route[city1], route[city2] = route[city2], route[city1]\n",
    "    return route\n",
    "\n",
    "# Insercja \n",
    "def Insert(route, pos, elem):\n",
    "    route.insert(pos, elem)\n",
    "    return route\n",
    "\n",
    "# Reverse\n",
    "def Reverse(route, city1, city2):\n",
    "    route[city1:city2 + 1] = reversed(route[city1:city2 + 1])\n",
    "    return route"
   ]
  },
  {
   "cell_type": "markdown",
   "metadata": {},
   "source": [
    "# Obliczanie długości trasy"
   ]
  },
  {
   "cell_type": "code",
   "execution_count": 295,
   "metadata": {},
   "outputs": [],
   "source": [
    "def calculate_total_distance(solution, distance_matrix):\n",
    "    total_distance = 0\n",
    "    num_cities = len(solution)\n",
    "\n",
    "    for i in range(num_cities - 1):\n",
    "        total_distance += distance_matrix[solution[i], solution[i + 1]]\n",
    "\n",
    "    # Dodawanie odległości z ostatniego do pierwszego miasta\n",
    "    total_distance += distance_matrix[solution[num_cities - 1], solution[0]]\n",
    "\n",
    "    return total_distance"
   ]
  },
  {
   "cell_type": "markdown",
   "metadata": {},
   "source": [
    "# Algorytm symulowanego wyżarzania"
   ]
  },
  {
   "cell_type": "code",
   "execution_count": 296,
   "metadata": {},
   "outputs": [],
   "source": [
    "def simulated_annealing(distance_matrix, initial_solution, initial_temperature, cooling_rate, iterations, neighbor_method, iterations_without_improvement):\n",
    "    current_solution = initial_solution\n",
    "    best_solution = current_solution.copy()\n",
    "    temperature = initial_temperature\n",
    "    iterations_without_change = 0\n",
    "\n",
    "    for i in range(iterations):\n",
    "        new_solution = current_solution.copy()\n",
    "\n",
    "        # Generowanie sąsiada\n",
    "        if neighbor_method == 'swap':\n",
    "            city1 = random.randint(0, len(new_solution) - 1)\n",
    "            city2 = random.randint(0, len(new_solution) - 1)\n",
    "            Swap(new_solution, city1, city2)\n",
    "        elif neighbor_method == 'insert':\n",
    "            pos = random.randint(0, len(new_solution) - 1)\n",
    "            elem = new_solution.pop(random.randint(0, len(new_solution) - 1))\n",
    "            Insert(new_solution, pos, elem)\n",
    "        elif neighbor_method == 'reverse':\n",
    "            city1 = random.randint(0, len(new_solution) - 1)\n",
    "            city2 = random.randint(0, len(new_solution) - 1)\n",
    "            Reverse(new_solution, city1, city2)\n",
    "\n",
    "        current_length = calculate_total_distance(current_solution, distance_matrix)\n",
    "        neighbor_length = calculate_total_distance(new_solution, distance_matrix)\n",
    "\n",
    "        # Warunek akceptacji sąsiada\n",
    "        if neighbor_length < current_length or random.random() < math.exp((current_length - neighbor_length) / temperature):\n",
    "            current_solution = new_solution.copy()\n",
    "            #licznik iteracji bez poprawy\n",
    "            iterations_without_change = 0  \n",
    "        else:\n",
    "            iterations_without_change += 1 \n",
    "\n",
    "        # Aktualizacja najlepszego rozwiązania\n",
    "        if calculate_total_distance(current_solution, distance_matrix) < calculate_total_distance(best_solution, distance_matrix):\n",
    "            best_solution = current_solution.copy()\n",
    "\n",
    "        # Warunek stopu na podstawie liczby iteracji bez poprawy\n",
    "        if iterations_without_change > iterations_without_improvement:\n",
    "            break \n",
    "\n",
    "        temperature *= cooling_rate\n",
    "\n",
    "    return best_solution, calculate_total_distance(best_solution, distance_matrix)\n"
   ]
  },
  {
   "cell_type": "markdown",
   "metadata": {},
   "source": [
    "# Temperatura początkowa"
   ]
  },
  {
   "cell_type": "code",
   "execution_count": 297,
   "metadata": {},
   "outputs": [
    {
     "name": "stdout",
     "output_type": "stream",
     "text": [
      "Najlepsza trasa: [9, 23, 41, 4, 47, 38, 31, 20, 46, 10, 22, 13, 24, 12, 11, 14, 32, 45, 43, 17, 6, 27, 35, 29, 5, 36, 18, 26, 42, 16, 19, 39, 8, 0, 7, 37, 30, 21, 15, 2, 33, 40, 28, 1, 25, 3, 34, 44]\n",
      "Długość najlepszej trasy: 12012\n"
     ]
    }
   ],
   "source": [
    "NN_48 = [9, 23, 41, 4, 47, 38, 31, 20, 46, 10, 22, 13, 24, 12, 11, 14, 32, 45, 43, 17, 6, 27, 35, 29, 5, 36, 18, 26, 42, 16, 19, 39, 8, 0, 7, 37, 30, 21, 15, 2, 33, 40, 28, 1, 25, 3, 34, 44] \n",
    "\n",
    "\n",
    "best_route, best_length =simulated_annealing(TSP_48, NN_48, 1000, 0.999, 10000, 'swap', 10000)\n",
    "print(\"Najlepsza trasa:\", best_route)\n",
    "print(\"Długość najlepszej trasy:\", best_length)\n"
   ]
  },
  {
   "cell_type": "markdown",
   "metadata": {},
   "source": [
    "Najlepsza trasa: [9, 23, 41, 4, 47, 38, 31, 20, 46, 10, 22, 13, 24, 12, 11, 14, 32, 45, 43, 17, 6, 27, 35, 29, 5, 36, 18, 26, 42, 16, 19, 39, 8, 0, 7, 37, 30, 21, 15, 2, 33, 40, 28, 1, 25, 3, 34, 44]\n",
    "Długość najlepszej trasy: 12012"
   ]
  },
  {
   "cell_type": "code",
   "execution_count": 298,
   "metadata": {},
   "outputs": [
    {
     "name": "stdout",
     "output_type": "stream",
     "text": [
      "Najlepsza trasa: [9, 23, 41, 4, 47, 38, 31, 20, 19, 46, 12, 24, 13, 22, 10, 11, 32, 35, 6, 27, 29, 42, 16, 26, 18, 36, 5, 17, 43, 30, 45, 14, 39, 8, 37, 7, 0, 15, 21, 2, 33, 40, 28, 1, 25, 3, 34, 44]\n",
      "Długość najlepszej trasy: 11245\n"
     ]
    }
   ],
   "source": [
    "best_route, best_length =simulated_annealing(TSP_48, NN_48, 300, 0.999, 10000, 'swap', 10000)\n",
    "print(\"Najlepsza trasa:\", best_route)\n",
    "print(\"Długość najlepszej trasy:\", best_length)"
   ]
  },
  {
   "cell_type": "markdown",
   "metadata": {},
   "source": [
    "Najlepsza trasa: [9, 23, 41, 4, 47, 38, 31, 20, 46, 10, 22, 13, 24, 12, 11, 19, 32, 37, 30, 43, 17, 6, 27, 5, 36, 18, 26, 16, 42, 29, 35, 45, 14, 39, 8, 7, 0, 15, 21, 2, 33, 40, 28, 1, 25, 3, 34, 44]\n",
    "Długość najlepszej trasy: 11170"
   ]
  },
  {
   "cell_type": "code",
   "execution_count": 299,
   "metadata": {},
   "outputs": [
    {
     "name": "stdout",
     "output_type": "stream",
     "text": [
      "Najlepsza trasa: [9, 23, 41, 4, 47, 31, 38, 24, 13, 22, 10, 12, 20, 46, 19, 11, 32, 45, 43, 17, 6, 35, 27, 5, 36, 18, 26, 16, 42, 29, 14, 39, 0, 8, 30, 37, 7, 15, 21, 2, 33, 40, 28, 1, 25, 3, 34, 44]\n",
      "Długość najlepszej trasy: 11532\n"
     ]
    }
   ],
   "source": [
    "best_route, best_length =simulated_annealing(TSP_48, NN_48, 200, 0.999, 10000, 'swap',10000)\n",
    "print(\"Najlepsza trasa:\", best_route)\n",
    "print(\"Długość najlepszej trasy:\", best_length)"
   ]
  },
  {
   "cell_type": "markdown",
   "metadata": {},
   "source": [
    "Najlepsza trasa: [9, 23, 41, 4, 47, 38, 31, 20, 12, 24, 13, 22, 10, 46, 19, 11, 14, 32, 45, 17, 6, 35, 27, 5, 36, 18, 26, 16, 42, 29, 43, 30, 37, 8, 7, 0, 39, 21, 15, 2, 33, 40, 28, 1, 25, 3, 34, 44]\n",
    "Długość najlepszej trasy: 10982"
   ]
  },
  {
   "cell_type": "code",
   "execution_count": 300,
   "metadata": {},
   "outputs": [
    {
     "name": "stdout",
     "output_type": "stream",
     "text": [
      "Najlepsza trasa: [9, 23, 41, 4, 47, 38, 31, 20, 46, 10, 22, 13, 24, 12, 19, 11, 14, 39, 43, 17, 6, 35, 27, 29, 5, 36, 18, 26, 16, 42, 32, 45, 30, 37, 8, 7, 0, 15, 21, 2, 33, 40, 28, 1, 25, 3, 34, 44]\n",
      "Długość najlepszej trasy: 11497\n"
     ]
    }
   ],
   "source": [
    "best_route, best_length =simulated_annealing(TSP_48, NN_48, 100, 0.999, 10000, 'swap',10000)\n",
    "print(\"Najlepsza trasa:\", best_route)\n",
    "print(\"Długość najlepszej trasy:\", best_length)"
   ]
  },
  {
   "cell_type": "markdown",
   "metadata": {},
   "source": [
    "Najlepsza trasa: [9, 23, 41, 4, 47, 38, 31, 20, 46, 10, 22, 13, 24, 12, 19, 11, 14, 32, 45, 43, 17, 6, 27, 5, 36, 18, 26, 16, 42, 29, 35, 30, 37, 7, 0, 8, 39, 21, 15, 2, 33, 40, 28, 1, 25, 3, 34, 44]\n",
    "Długość najlepszej trasy: 11139"
   ]
  },
  {
   "cell_type": "markdown",
   "metadata": {},
   "source": [
    "# Współczynnik redukcji temperatury"
   ]
  },
  {
   "cell_type": "code",
   "execution_count": 301,
   "metadata": {},
   "outputs": [
    {
     "name": "stdout",
     "output_type": "stream",
     "text": [
      "Najlepsza trasa: [9, 23, 41, 4, 47, 38, 31, 20, 46, 10, 22, 13, 24, 12, 11, 14, 32, 45, 43, 17, 6, 27, 35, 29, 5, 36, 18, 26, 42, 16, 19, 39, 8, 0, 7, 37, 30, 21, 15, 2, 33, 40, 28, 1, 25, 3, 34, 44]\n",
      "Długość najlepszej trasy: 12012\n"
     ]
    }
   ],
   "source": [
    "best_route, best_length =simulated_annealing(TSP_48, NN_48, 200, 0.9999, 10000, 'swap', 10000)\n",
    "print(\"Najlepsza trasa:\", best_route)\n",
    "print(\"Długość najlepszej trasy:\", best_length)"
   ]
  },
  {
   "cell_type": "markdown",
   "metadata": {},
   "source": [
    "Najlepsza trasa: [9, 41, 4, 47, 23, 38, 31, 20, 46, 12, 24, 13, 22, 10, 39, 14, 11, 19, 32, 45, 35, 29, 5, 36, 18, 16, 42, 26, 27, 17, 6, 30, 43, 37, 8, 0, 7, 15, 21, 2, 40, 33, 28, 1, 25, 3, 34, 44]\n",
    "Długość najlepszej trasy: 11609"
   ]
  },
  {
   "cell_type": "code",
   "execution_count": 302,
   "metadata": {},
   "outputs": [
    {
     "name": "stdout",
     "output_type": "stream",
     "text": [
      "Najlepsza trasa: [9, 23, 41, 4, 47, 38, 31, 20, 19, 46, 12, 24, 13, 22, 10, 39, 14, 11, 32, 45, 17, 6, 27, 5, 36, 18, 26, 16, 42, 29, 35, 43, 30, 37, 8, 7, 0, 15, 21, 2, 33, 40, 28, 1, 25, 3, 34, 44]\n",
      "Długość najlepszej trasy: 10999\n"
     ]
    }
   ],
   "source": [
    "best_route, best_length =simulated_annealing(TSP_48, NN_48, 200, 0.999, 10000, 'swap', 10000)\n",
    "print(\"Najlepsza trasa:\", best_route)\n",
    "print(\"Długość najlepszej trasy:\", best_length)"
   ]
  },
  {
   "cell_type": "markdown",
   "metadata": {},
   "source": [
    "Najlepsza trasa: [9, 23, 41, 4, 47, 38, 31, 20, 10, 39, 22, 13, 24, 12, 46, 19, 11, 14, 32, 45, 35, 27, 29, 42, 16, 26, 18, 36, 5, 6, 17, 43, 30, 37, 8, 7, 0, 15, 21, 2, 33, 40, 28, 1, 25, 3, 34, 44]\n",
    "Długość najlepszej trasy: 11137"
   ]
  },
  {
   "cell_type": "code",
   "execution_count": 303,
   "metadata": {},
   "outputs": [
    {
     "name": "stdout",
     "output_type": "stream",
     "text": [
      "Najlepsza trasa: [9, 23, 41, 4, 47, 38, 31, 20, 46, 12, 24, 13, 22, 10, 11, 14, 37, 30, 43, 17, 6, 35, 27, 29, 5, 36, 18, 26, 16, 42, 19, 32, 45, 39, 8, 7, 0, 15, 21, 2, 33, 40, 28, 1, 25, 3, 34, 44]\n",
      "Długość najlepszej trasy: 11108\n"
     ]
    }
   ],
   "source": [
    "best_route, best_length =simulated_annealing(TSP_48, NN_48, 200, 0.99, 10000, 'swap', 10000)\n",
    "print(\"Najlepsza trasa:\", best_route)\n",
    "print(\"Długość najlepszej trasy:\", best_length)"
   ]
  },
  {
   "cell_type": "markdown",
   "metadata": {},
   "source": [
    "Najlepsza trasa: [9, 23, 41, 4, 47, 38, 31, 20, 46, 12, 24, 13, 22, 10, 11, 45, 37, 30, 43, 17, 6, 35, 27, 29, 5, 36, 18, 26, 16, 42, 19, 32, 14, 39, 8, 7, 0, 15, 21, 2, 33, 40, 28, 1, 25, 3, 34, 44]\n",
    "Długość najlepszej trasy: 11061"
   ]
  },
  {
   "cell_type": "code",
   "execution_count": 304,
   "metadata": {},
   "outputs": [
    {
     "name": "stdout",
     "output_type": "stream",
     "text": [
      "Najlepsza trasa: [9, 23, 41, 4, 47, 38, 31, 20, 46, 10, 22, 13, 24, 12, 11, 14, 32, 45, 43, 17, 6, 35, 27, 29, 5, 36, 18, 26, 16, 42, 19, 39, 0, 8, 30, 37, 7, 15, 21, 2, 33, 40, 28, 1, 25, 3, 34, 44]\n",
      "Długość najlepszej trasy: 11703\n"
     ]
    }
   ],
   "source": [
    "best_route, best_length =simulated_annealing(TSP_48, NN_48, 200, 0.95, 10000, 'swap', 10000)\n",
    "print(\"Najlepsza trasa:\", best_route)\n",
    "print(\"Długość najlepszej trasy:\", best_length)"
   ]
  },
  {
   "cell_type": "markdown",
   "metadata": {},
   "source": [
    "Najlepsza trasa: [9, 23, 41, 4, 47, 38, 31, 20, 46, 10, 22, 13, 24, 12, 11, 45, 37, 30, 43, 17, 6, 35, 27, 29, 5, 36, 18, 26, 16, 42, 19, 32, 14, 39, 8, 7, 0, 15, 21, 2, 33, 40, 28, 1, 25, 3, 34, 44]\n",
    "Długość najlepszej trasy: 11272"
   ]
  },
  {
   "cell_type": "markdown",
   "metadata": {},
   "source": [
    "# Liczba iteracji"
   ]
  },
  {
   "cell_type": "code",
   "execution_count": 305,
   "metadata": {},
   "outputs": [
    {
     "name": "stderr",
     "output_type": "stream",
     "text": [
      "C:\\Users\\zosia\\AppData\\Local\\Temp\\ipykernel_22196\\1688441894.py:28: RuntimeWarning: overflow encountered in divide\n",
      "  if neighbor_length < current_length or random.random() < math.exp((current_length - neighbor_length) / temperature):\n"
     ]
    },
    {
     "name": "stdout",
     "output_type": "stream",
     "text": [
      "Najlepsza trasa: [9, 23, 41, 4, 47, 38, 31, 20, 46, 10, 22, 13, 24, 12, 11, 45, 37, 30, 43, 17, 6, 35, 27, 29, 5, 36, 18, 26, 16, 42, 19, 32, 14, 39, 8, 7, 0, 15, 21, 2, 33, 40, 28, 1, 25, 3, 34, 44]\n",
      "Długość najlepszej trasy: 11272\n"
     ]
    }
   ],
   "source": [
    "best_route, best_length =simulated_annealing(TSP_48, NN_48, 200, 0.95, 1000000, 'swap', 10000)\n",
    "print(\"Najlepsza trasa:\", best_route)\n",
    "print(\"Długość najlepszej trasy:\", best_length)"
   ]
  },
  {
   "cell_type": "markdown",
   "metadata": {},
   "source": [
    "Najlepsza trasa: [9, 23, 41, 4, 47, 38, 31, 20, 46, 10, 22, 13, 24, 12, 11, 14, 32, 45, 43, 17, 6, 35, 27, 29, 5, 36, 18, 26, 16, 42, 19, 39, 8, 30, 37, 7, 0, 15, 21, 2, 33, 40, 28, 1, 25, 3, 34, 44]\n",
    "Długość najlepszej trasy: 11592"
   ]
  },
  {
   "cell_type": "code",
   "execution_count": 306,
   "metadata": {},
   "outputs": [
    {
     "name": "stderr",
     "output_type": "stream",
     "text": [
      "C:\\Users\\zosia\\AppData\\Local\\Temp\\ipykernel_22196\\1688441894.py:28: RuntimeWarning: overflow encountered in divide\n",
      "  if neighbor_length < current_length or random.random() < math.exp((current_length - neighbor_length) / temperature):\n"
     ]
    },
    {
     "name": "stdout",
     "output_type": "stream",
     "text": [
      "Najlepsza trasa: [9, 23, 41, 4, 47, 38, 31, 20, 46, 10, 22, 13, 24, 12, 11, 45, 37, 30, 43, 17, 6, 35, 27, 29, 5, 36, 18, 26, 16, 42, 19, 32, 14, 39, 8, 7, 0, 15, 21, 2, 33, 40, 28, 1, 25, 3, 34, 44]\n",
      "Długość najlepszej trasy: 11272\n"
     ]
    }
   ],
   "source": [
    "best_route, best_length =simulated_annealing(TSP_48, NN_48, 200, 0.95, 100000, 'swap', 10000)\n",
    "print(\"Najlepsza trasa:\", best_route)\n",
    "print(\"Długość najlepszej trasy:\", best_length)"
   ]
  },
  {
   "cell_type": "markdown",
   "metadata": {},
   "source": [
    "Najlepsza trasa: [9, 23, 41, 4, 47, 38, 31, 20, 46, 10, 22, 13, 24, 12, 11, 14, 32, 45, 43, 17, 6, 35, 27, 29, 5, 36, 18, 26, 16, 42, 19, 39, 8, 30, 37, 7, 0, 15, 21, 2, 33, 40, 28, 1, 25, 3, 34, 44]\n",
    "Długość najlepszej trasy: 11592"
   ]
  },
  {
   "cell_type": "code",
   "execution_count": 307,
   "metadata": {},
   "outputs": [
    {
     "name": "stderr",
     "output_type": "stream",
     "text": [
      "C:\\Users\\zosia\\AppData\\Local\\Temp\\ipykernel_22196\\1688441894.py:28: RuntimeWarning: overflow encountered in divide\n",
      "  if neighbor_length < current_length or random.random() < math.exp((current_length - neighbor_length) / temperature):\n"
     ]
    },
    {
     "name": "stdout",
     "output_type": "stream",
     "text": [
      "Najlepsza trasa: [9, 23, 41, 4, 47, 38, 31, 20, 46, 10, 22, 13, 24, 12, 11, 45, 37, 30, 43, 17, 6, 35, 27, 29, 5, 36, 18, 26, 16, 42, 19, 32, 14, 39, 8, 7, 0, 15, 21, 2, 33, 40, 28, 1, 25, 3, 34, 44]\n",
      "Długość najlepszej trasy: 11272\n"
     ]
    }
   ],
   "source": [
    "best_route, best_length =simulated_annealing(TSP_48, NN_48, 200, 0.95, 50000, 'swap', 10000)\n",
    "print(\"Najlepsza trasa:\", best_route)\n",
    "print(\"Długość najlepszej trasy:\", best_length)"
   ]
  },
  {
   "cell_type": "markdown",
   "metadata": {},
   "source": [
    "Najlepsza trasa: [9, 23, 41, 4, 47, 38, 31, 20, 46, 10, 22, 13, 24, 12, 11, 14, 32, 45, 43, 17, 6, 35, 27, 29, 5, 36, 18, 26, 16, 42, 19, 39, 8, 30, 37, 7, 0, 15, 21, 2, 33, 40, 28, 1, 25, 3, 34, 44]\n",
    "Długość najlepszej trasy: 11592"
   ]
  },
  {
   "cell_type": "code",
   "execution_count": 308,
   "metadata": {},
   "outputs": [
    {
     "name": "stdout",
     "output_type": "stream",
     "text": [
      "Najlepsza trasa: [9, 23, 41, 4, 47, 38, 31, 20, 46, 10, 22, 13, 24, 12, 11, 14, 32, 45, 43, 17, 6, 35, 27, 29, 5, 36, 18, 26, 16, 42, 19, 39, 0, 8, 30, 37, 7, 15, 21, 2, 33, 40, 28, 1, 25, 3, 34, 44]\n",
      "Długość najlepszej trasy: 11703\n"
     ]
    }
   ],
   "source": [
    "best_route, best_length =simulated_annealing(TSP_48, NN_48, 200, 0.95, 10000, 'swap', 10000)\n",
    "print(\"Najlepsza trasa:\", best_route)\n",
    "print(\"Długość najlepszej trasy:\", best_length)"
   ]
  },
  {
   "cell_type": "markdown",
   "metadata": {},
   "source": [
    "Najlepsza trasa: [9, 23, 41, 4, 47, 38, 31, 20, 46, 10, 22, 13, 24, 12, 11, 14, 32, 45, 43, 17, 6, 35, 27, 29, 5, 36, 18, 26, 16, 42, 19, 39, 0, 8, 30, 37, 7, 15, 21, 2, 33, 40, 28, 1, 25, 3, 34, 44]\n",
    "Długość najlepszej trasy: 11703"
   ]
  },
  {
   "cell_type": "markdown",
   "metadata": {},
   "source": [
    "# Metoda generowania sąsiada"
   ]
  },
  {
   "cell_type": "code",
   "execution_count": 309,
   "metadata": {},
   "outputs": [
    {
     "name": "stderr",
     "output_type": "stream",
     "text": [
      "C:\\Users\\zosia\\AppData\\Local\\Temp\\ipykernel_22196\\1688441894.py:28: RuntimeWarning: overflow encountered in divide\n",
      "  if neighbor_length < current_length or random.random() < math.exp((current_length - neighbor_length) / temperature):\n"
     ]
    },
    {
     "name": "stdout",
     "output_type": "stream",
     "text": [
      "Najlepsza trasa: [9, 23, 41, 4, 47, 38, 31, 20, 46, 10, 22, 13, 24, 12, 11, 14, 32, 45, 43, 17, 6, 35, 27, 29, 5, 36, 18, 26, 16, 42, 19, 39, 0, 8, 30, 37, 7, 15, 21, 2, 33, 40, 28, 1, 25, 3, 34, 44]\n",
      "Długość najlepszej trasy: 11703\n"
     ]
    }
   ],
   "source": [
    "best_route, best_length =simulated_annealing(TSP_48, NN_48, 200, 0.95, 100000, 'swap', 10000)\n",
    "print(\"Najlepsza trasa:\", best_route)\n",
    "print(\"Długość najlepszej trasy:\", best_length)"
   ]
  },
  {
   "cell_type": "markdown",
   "metadata": {},
   "source": [
    "Najlepsza trasa: [9, 23, 41, 4, 47, 38, 31, 20, 46, 10, 22, 13, 24, 12, 11, 45, 37, 30, 43, 17, 6, 35, 27, 29, 5, 36, 18, 26, 16, 42, 19, 32, 14, 39, 8, 7, 0, 15, 21, 2, 33, 40, 28, 1, 25, 3, 34, 44]\n",
    "Długość najlepszej trasy: 11272"
   ]
  },
  {
   "cell_type": "code",
   "execution_count": 310,
   "metadata": {},
   "outputs": [
    {
     "name": "stderr",
     "output_type": "stream",
     "text": [
      "C:\\Users\\zosia\\AppData\\Local\\Temp\\ipykernel_22196\\1688441894.py:28: RuntimeWarning: overflow encountered in divide\n",
      "  if neighbor_length < current_length or random.random() < math.exp((current_length - neighbor_length) / temperature):\n"
     ]
    },
    {
     "name": "stdout",
     "output_type": "stream",
     "text": [
      "Najlepsza trasa: [44, 9, 23, 41, 4, 47, 38, 31, 20, 46, 22, 13, 24, 12, 10, 11, 19, 32, 45, 37, 30, 43, 17, 6, 27, 5, 36, 18, 26, 16, 42, 29, 35, 14, 39, 8, 7, 0, 15, 21, 2, 33, 40, 28, 1, 25, 3, 34]\n",
      "Długość najlepszej trasy: 11142\n"
     ]
    }
   ],
   "source": [
    "best_route, best_length =simulated_annealing(TSP_48, NN_48, 200, 0.95, 100000, 'insert', 10000)\n",
    "print(\"Najlepsza trasa:\", best_route)\n",
    "print(\"Długość najlepszej trasy:\", best_length)"
   ]
  },
  {
   "cell_type": "markdown",
   "metadata": {},
   "source": [
    "Najlepsza trasa: [4, 47, 38, 31, 20, 46, 22, 13, 24, 12, 10, 14, 37, 30, 43, 17, 6, 27, 5, 36, 18, 26, 16, 42, 29, 35, 45, 32, 19, 11, 39, 8, 7, 0, 15, 21, 2, 33, 40, 28, 1, 25, 3, 34, 44, 9, 23, 41]\n",
    "Długość najlepszej trasy: 11206"
   ]
  },
  {
   "cell_type": "code",
   "execution_count": 311,
   "metadata": {},
   "outputs": [
    {
     "name": "stderr",
     "output_type": "stream",
     "text": [
      "C:\\Users\\zosia\\AppData\\Local\\Temp\\ipykernel_22196\\1688441894.py:28: RuntimeWarning: overflow encountered in divide\n",
      "  if neighbor_length < current_length or random.random() < math.exp((current_length - neighbor_length) / temperature):\n"
     ]
    },
    {
     "name": "stdout",
     "output_type": "stream",
     "text": [
      "Najlepsza trasa: [41, 23, 9, 44, 34, 3, 25, 1, 28, 40, 33, 2, 21, 15, 0, 7, 8, 37, 30, 43, 17, 6, 27, 5, 36, 18, 26, 16, 42, 29, 35, 45, 32, 19, 14, 39, 11, 10, 22, 13, 24, 12, 46, 20, 31, 38, 47, 4]\n",
      "Długość najlepszej trasy: 10815\n"
     ]
    }
   ],
   "source": [
    "best_route, best_length =simulated_annealing(TSP_48, NN_48, 200, 0.95, 100000, 'reverse', 10000)\n",
    "print(\"Najlepsza trasa:\", best_route)\n",
    "print(\"Długość najlepszej trasy:\", best_length)"
   ]
  },
  {
   "cell_type": "markdown",
   "metadata": {},
   "source": [
    "Najlepsza trasa: [9, 44, 34, 3, 25, 1, 28, 40, 33, 2, 15, 21, 39, 8, 0, 7, 37, 30, 43, 17, 6, 27, 5, 36, 18, 26, 16, 42, 29, 35, 45, 32, 14, 11, 19, 46, 10, 22, 13, 24, 12, 20, 31, 38, 47, 4, 41, 23]\n",
    "Długość najlepszej trasy: 10785"
   ]
  },
  {
   "cell_type": "markdown",
   "metadata": {},
   "source": [
    "# Iteracje bez poprawy"
   ]
  },
  {
   "cell_type": "code",
   "execution_count": 312,
   "metadata": {},
   "outputs": [
    {
     "name": "stderr",
     "output_type": "stream",
     "text": [
      "C:\\Users\\zosia\\AppData\\Local\\Temp\\ipykernel_22196\\1688441894.py:28: RuntimeWarning: overflow encountered in divide\n",
      "  if neighbor_length < current_length or random.random() < math.exp((current_length - neighbor_length) / temperature):\n"
     ]
    },
    {
     "name": "stdout",
     "output_type": "stream",
     "text": [
      "Najlepsza trasa: [9, 23, 41, 4, 47, 38, 31, 20, 46, 10, 22, 13, 24, 12, 11, 14, 32, 45, 43, 17, 6, 35, 27, 29, 5, 36, 18, 26, 16, 42, 19, 39, 0, 8, 30, 37, 7, 15, 21, 2, 33, 40, 28, 1, 25, 3, 34, 44]\n",
      "Długość najlepszej trasy: 11703\n"
     ]
    }
   ],
   "source": [
    "best_route, best_length =simulated_annealing(TSP_48, NN_48, 200, 0.95, 100000, 'swap', 10000)\n",
    "print(\"Najlepsza trasa:\", best_route)\n",
    "print(\"Długość najlepszej trasy:\", best_length)"
   ]
  },
  {
   "cell_type": "markdown",
   "metadata": {},
   "source": [
    "Najlepsza trasa: [9, 23, 41, 4, 47, 38, 31, 20, 46, 10, 22, 13, 24, 12, 11, 45, 37, 30, 43, 17, 6, 35, 27, 29, 5, 36, 18, 26, 16, 42, 19, 32, 14, 39, 8, 7, 0, 15, 21, 2, 33, 40, 28, 1, 25, 3, 34, 44]\n",
    "Długość najlepszej trasy: 11272"
   ]
  },
  {
   "cell_type": "code",
   "execution_count": 313,
   "metadata": {},
   "outputs": [
    {
     "name": "stderr",
     "output_type": "stream",
     "text": [
      "C:\\Users\\zosia\\AppData\\Local\\Temp\\ipykernel_22196\\1688441894.py:28: RuntimeWarning: overflow encountered in divide\n",
      "  if neighbor_length < current_length or random.random() < math.exp((current_length - neighbor_length) / temperature):\n"
     ]
    },
    {
     "name": "stdout",
     "output_type": "stream",
     "text": [
      "Najlepsza trasa: [9, 23, 41, 4, 47, 38, 31, 20, 46, 10, 22, 13, 24, 12, 11, 14, 32, 45, 43, 17, 6, 35, 27, 29, 5, 36, 18, 26, 16, 42, 19, 39, 8, 30, 37, 7, 0, 15, 21, 2, 33, 40, 28, 1, 25, 3, 34, 44]\n",
      "Długość najlepszej trasy: 11592\n"
     ]
    }
   ],
   "source": [
    "best_route, best_length =simulated_annealing(TSP_48, NN_48, 200, 0.95, 100000, 'swap', 1000)\n",
    "print(\"Najlepsza trasa:\", best_route)\n",
    "print(\"Długość najlepszej trasy:\", best_length)"
   ]
  },
  {
   "cell_type": "markdown",
   "metadata": {},
   "source": [
    "Najlepsza trasa: [9, 23, 41, 4, 47, 38, 31, 20, 46, 10, 22, 13, 24, 12, 11, 45, 37, 30, 43, 17, 6, 35, 27, 29, 5, 36, 18, 26, 16, 42, 19, 32, 14, 39, 8, 7, 0, 15, 21, 2, 33, 40, 28, 1, 25, 3, 34, 44]\n",
    "Długość najlepszej trasy: 11272"
   ]
  },
  {
   "cell_type": "code",
   "execution_count": 314,
   "metadata": {},
   "outputs": [
    {
     "name": "stdout",
     "output_type": "stream",
     "text": [
      "Najlepsza trasa: [9, 23, 41, 4, 47, 38, 31, 20, 46, 10, 22, 13, 24, 12, 11, 14, 32, 45, 43, 17, 6, 35, 27, 29, 5, 36, 18, 16, 26, 42, 19, 39, 8, 0, 7, 37, 30, 21, 15, 2, 33, 40, 28, 1, 25, 3, 34, 44]\n",
      "Długość najlepszej trasy: 11903\n"
     ]
    }
   ],
   "source": [
    "best_route, best_length =simulated_annealing(TSP_48, NN_48, 200, 0.95, 100000, 'swap', 100)\n",
    "print(\"Najlepsza trasa:\", best_route)\n",
    "print(\"Długość najlepszej trasy:\", best_length)"
   ]
  },
  {
   "cell_type": "markdown",
   "metadata": {},
   "source": [
    "Najlepsza trasa: [9, 23, 41, 4, 47, 38, 31, 20, 46, 10, 22, 13, 24, 12, 11, 14, 32, 45, 43, 17, 35, 6, 27, 29, 5, 36, 18, 26, 16, 42, 19, 39, 8, 0, 7, 37, 30, 21, 15, 2, 33, 40, 28, 1, 25, 3, 34, 44]\n",
    "Długość najlepszej trasy: 11873"
   ]
  },
  {
   "cell_type": "code",
   "execution_count": 315,
   "metadata": {},
   "outputs": [
    {
     "name": "stdout",
     "output_type": "stream",
     "text": [
      "Najlepsza trasa: [9, 23, 41, 4, 47, 38, 31, 20, 46, 10, 22, 13, 24, 12, 11, 14, 32, 45, 43, 17, 6, 27, 35, 29, 5, 36, 18, 26, 42, 16, 19, 39, 8, 0, 7, 37, 30, 21, 15, 2, 33, 40, 28, 1, 25, 3, 34, 44]\n",
      "Długość najlepszej trasy: 12012\n"
     ]
    }
   ],
   "source": [
    "best_route, best_length =simulated_annealing(TSP_48, NN_48, 200, 0.95, 100000, 'swap', 20)\n",
    "print(\"Najlepsza trasa:\", best_route)\n",
    "print(\"Długość najlepszej trasy:\", best_length)"
   ]
  },
  {
   "cell_type": "markdown",
   "metadata": {},
   "source": [
    "Najlepsza trasa: [9, 23, 41, 4, 47, 38, 31, 20, 46, 10, 22, 13, 24, 12, 11, 14, 32, 45, 43, 17, 6, 27, 35, 29, 5, 36, 18, 26, 42, 16, 19, 39, 8, 0, 7, 37, 30, 21, 15, 2, 33, 40, 28, 1, 25, 3, 34, 44]\n",
    "Długość najlepszej trasy: 12012"
   ]
  },
  {
   "cell_type": "markdown",
   "metadata": {},
   "source": [
    "# Wnioski\n",
    "Na długość generowanej trasy zdecydowanie wpływa metoda generowania sąsiedztwa. Wynik nie jest proporcjonalnie zależny od pozostałych parametrów. Liczba iteracji, jak i maksymalna liczba iteracji bez poprawy, musi być odpowiednio duża."
   ]
  },
  {
   "cell_type": "markdown",
   "metadata": {},
   "source": [
    "# Poszukiwanie najlepszego rozwiązania"
   ]
  },
  {
   "cell_type": "code",
   "execution_count": 316,
   "metadata": {},
   "outputs": [
    {
     "name": "stderr",
     "output_type": "stream",
     "text": [
      "C:\\Users\\zosia\\AppData\\Local\\Temp\\ipykernel_22196\\1688441894.py:28: RuntimeWarning: overflow encountered in divide\n",
      "  if neighbor_length < current_length or random.random() < math.exp((current_length - neighbor_length) / temperature):\n"
     ]
    },
    {
     "name": "stdout",
     "output_type": "stream",
     "text": [
      "Najlepsza trasa: [34, 3, 25, 1, 28, 4, 33, 40, 2, 21, 15, 0, 7, 37, 30, 43, 17, 6, 27, 5, 36, 18, 26, 16, 42, 29, 35, 45, 32, 19, 11, 14, 8, 39, 10, 22, 13, 24, 12, 46, 20, 31, 38, 47, 41, 23, 9, 44]\n",
      "Długość najlepszej trasy: 11172\n"
     ]
    }
   ],
   "source": [
    "best_route, best_length =simulated_annealing(TSP_48, NN_48, 200, 0.99, 100000, 'reverse', 10000)\n",
    "print(\"Najlepsza trasa:\", best_route)\n",
    "print(\"Długość najlepszej trasy:\", best_length)"
   ]
  },
  {
   "cell_type": "markdown",
   "metadata": {},
   "source": [
    "Najlepsza trasa: [3, 25, 1, 28, 40, 33, 2, 21, 15, 0, 7, 8, 37, 30, 43, 17, 6, 27, 5, 36, 18, 26, 16, 42, 29, 35, 45, 32, 14, 39, 10, 22, 13, 24, 12, 11, 19, 46, 20, 31, 38, 47, 4, 41, 23, 9, 44, 34]\n",
    "Długość najlepszej trasy: 10950"
   ]
  },
  {
   "cell_type": "code",
   "execution_count": 317,
   "metadata": {},
   "outputs": [
    {
     "name": "stderr",
     "output_type": "stream",
     "text": [
      "C:\\Users\\zosia\\AppData\\Local\\Temp\\ipykernel_22196\\1688441894.py:28: RuntimeWarning: overflow encountered in divide\n",
      "  if neighbor_length < current_length or random.random() < math.exp((current_length - neighbor_length) / temperature):\n"
     ]
    },
    {
     "name": "stdout",
     "output_type": "stream",
     "text": [
      "Najlepsza trasa: [25, 1, 28, 40, 33, 2, 21, 15, 0, 7, 8, 37, 30, 43, 17, 6, 27, 5, 36, 18, 26, 16, 42, 29, 35, 45, 32, 14, 39, 22, 13, 24, 12, 10, 11, 19, 46, 20, 31, 38, 47, 4, 41, 23, 9, 44, 34, 3]\n",
      "Długość najlepszej trasy: 10853\n"
     ]
    }
   ],
   "source": [
    "improved_route = [3, 25, 1, 28, 40, 33, 2, 21, 15, 0, 7, 8, 37, 30, 43, 17, 6, 27, 5, 36, 18, 26, 16, 42, 29, 35, 45, 32, 14, 39, 10, 22, 13, 24, 12, 11, 19, 46, 20, 31, 38, 47, 4, 41, 23, 9, 44, 34]\n",
    "best_route, best_length = simulated_annealing(TSP_48, improved_route, 200, 0.99, 100000, 'reverse', 10000)\n",
    "print(\"Najlepsza trasa:\", best_route)\n",
    "print(\"Długość najlepszej trasy:\", best_length)"
   ]
  },
  {
   "cell_type": "markdown",
   "metadata": {},
   "source": [
    "Najlepsza trasa: [25, 1, 28, 40, 33, 2, 21, 15, 0, 7, 8, 37, 30, 43, 17, 6, 27, 5, 36, 18, 26, 16, 42, 29, 35, 45, 32, 19, 11, 14, 39, 10, 22, 13, 24, 12, 46, 20, 31, 38, 47, 4, 41, 23, 9, 44, 34, 3]\n",
    "Długość najlepszej trasy: 10711"
   ]
  },
  {
   "cell_type": "code",
   "execution_count": 318,
   "metadata": {},
   "outputs": [
    {
     "name": "stdout",
     "output_type": "stream",
     "text": [
      "Najlepsza trasa: [25, 1, 28, 40, 33, 2, 21, 15, 0, 7, 8, 37, 30, 43, 17, 6, 27, 5, 36, 18, 26, 16, 42, 29, 35, 45, 32, 19, 11, 14, 39, 10, 22, 13, 24, 12, 46, 20, 31, 38, 47, 4, 41, 23, 9, 44, 34, 3]\n",
      "Długość najlepszej trasy: 10711\n"
     ]
    }
   ],
   "source": [
    "improved_route1 = [25, 1, 28, 40, 33, 2, 21, 15, 0, 7, 8, 37, 30, 43, 17, 6, 27, 5, 36, 18, 26, 16, 42, 29, 35, 45, 32, 19, 11, 14, 39, 10, 22, 13, 24, 12, 46, 20, 31, 38, 47, 4, 41, 23, 9, 44, 34, 3]\n",
    "best_route, best_length = simulated_annealing(TSP_48, improved_route1, 200, 0.99, 50000, 'reverse', 10000)\n",
    "print(\"Najlepsza trasa:\", best_route)\n",
    "print(\"Długość najlepszej trasy:\", best_length)"
   ]
  },
  {
   "cell_type": "markdown",
   "metadata": {},
   "source": [
    "Najlepsza trasa: [25, 1, 28, 40, 33, 2, 21, 15, 0, 7, 8, 37, 30, 43, 17, 6, 27, 5, 36, 18, 26, 16, 42, 29, 35, 45, 32, 19, 11, 14, 39, 10, 22, 13, 24, 12, 46, 20, 31, 38, 47, 4, 41, 23, 9, 44, 34, 3]\n",
    "Długość najlepszej trasy: 10711"
   ]
  },
  {
   "cell_type": "markdown",
   "metadata": {},
   "source": [
    "Najlepsza trasa jaką udało się znaleźć ma długość 10711 i uszeregowuje miasta w kolejności: [25, 1, 28, 40, 33, 2, 21, 15, 0, 7, 8, 37, 30, 43, 17, 6, 27, 5, 36, 18, 26, 16, 42, 29, 35, 45, 32, 19, 11, 14, 39, 10, 22, 13, 24, 12, 46, 20, 31, 38, 47, 4, 41, 23, 9, 44, 34, 3]."
   ]
  }
 ],
 "metadata": {
  "kernelspec": {
   "display_name": ".venv",
   "language": "python",
   "name": "python3"
  },
  "language_info": {
   "codemirror_mode": {
    "name": "ipython",
    "version": 3
   },
   "file_extension": ".py",
   "mimetype": "text/x-python",
   "name": "python",
   "nbconvert_exporter": "python",
   "pygments_lexer": "ipython3",
   "version": "3.12.1"
  }
 },
 "nbformat": 4,
 "nbformat_minor": 2
}
