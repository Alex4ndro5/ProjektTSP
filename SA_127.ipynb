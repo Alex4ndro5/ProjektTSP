{
 "cells": [
  {
   "cell_type": "code",
   "execution_count": 120,
   "metadata": {},
   "outputs": [],
   "source": [
    "import numpy as np\n",
    "import pandas as pd\n",
    "import random\n",
    "import math"
   ]
  },
  {
   "cell_type": "code",
   "execution_count": 121,
   "metadata": {},
   "outputs": [],
   "source": [
    "# Wczytanie danych z pliku Excela\n",
    "TSP_127 = pd.read_excel('Dane_TSP_127.xlsx', header=None).values"
   ]
  },
  {
   "cell_type": "markdown",
   "metadata": {},
   "source": [
    "# Metody doboru sąsiedztwa"
   ]
  },
  {
   "cell_type": "code",
   "execution_count": 122,
   "metadata": {},
   "outputs": [],
   "source": [
    "# Swap \n",
    "def Swap(route, city1, city2):\n",
    "    route[city1], route[city2] = route[city2], route[city1]\n",
    "    return route\n",
    "\n",
    "# Insercja \n",
    "def Insert(route, pos, elem):\n",
    "    route.insert(pos, elem)\n",
    "    return route\n",
    "\n",
    "# Reverse\n",
    "def Reverse(route, city1, city2):\n",
    "    route[city1:city2 + 1] = reversed(route[city1:city2 + 1])\n",
    "    return route"
   ]
  },
  {
   "cell_type": "markdown",
   "metadata": {},
   "source": [
    "# Obliczanie długości trasy"
   ]
  },
  {
   "cell_type": "code",
   "execution_count": 123,
   "metadata": {},
   "outputs": [],
   "source": [
    "def calculate_total_distance(solution, distance_matrix):\n",
    "    total_distance = 0\n",
    "    num_cities = len(solution)\n",
    "\n",
    "    for i in range(num_cities - 1):\n",
    "        total_distance += distance_matrix[solution[i], solution[i + 1]]\n",
    "\n",
    "    # Dodawanie odległości z ostatniego do pierwszego miasta\n",
    "    total_distance += distance_matrix[solution[num_cities - 1], solution[0]]\n",
    "\n",
    "    return total_distance"
   ]
  },
  {
   "cell_type": "markdown",
   "metadata": {},
   "source": [
    "# Algorytm symulowanego wyżarzania"
   ]
  },
  {
   "cell_type": "code",
   "execution_count": 124,
   "metadata": {},
   "outputs": [],
   "source": [
    "def simulated_annealing(distance_matrix, initial_solution, initial_temperature, cooling_rate, iterations, neighbor_method, iterations_without_improvement):\n",
    "    current_solution = initial_solution\n",
    "    best_solution = current_solution.copy()\n",
    "    temperature = initial_temperature\n",
    "    iterations_without_change = 0\n",
    "\n",
    "    for i in range(iterations):\n",
    "        new_solution = current_solution.copy()\n",
    "\n",
    "        # Generowanie sąsiada\n",
    "        if neighbor_method == 'swap':\n",
    "            city1 = random.randint(0, len(new_solution) - 1)\n",
    "            city2 = random.randint(0, len(new_solution) - 1)\n",
    "            Swap(new_solution, city1, city2)\n",
    "        elif neighbor_method == 'insert':\n",
    "            pos = random.randint(0, len(new_solution) - 1)\n",
    "            elem = new_solution.pop(random.randint(0, len(new_solution) - 1))\n",
    "            Insert(new_solution, pos, elem)\n",
    "        elif neighbor_method == 'reverse':\n",
    "            city1 = random.randint(0, len(new_solution) - 1)\n",
    "            city2 = random.randint(0, len(new_solution) - 1)\n",
    "            Reverse(new_solution, city1, city2)\n",
    "\n",
    "        current_length = calculate_total_distance(current_solution, distance_matrix)\n",
    "        neighbor_length = calculate_total_distance(new_solution, distance_matrix)\n",
    "\n",
    "        # Warunek akceptacji sąsiada\n",
    "        if neighbor_length < current_length or random.random() < math.exp((current_length - neighbor_length) / temperature):\n",
    "            current_solution = new_solution.copy()\n",
    "            #licznik iteracji bez poprawy\n",
    "            iterations_without_change = 0  \n",
    "        else:\n",
    "            iterations_without_change += 1 \n",
    "\n",
    "        # Aktualizacja najlepszego rozwiązania\n",
    "        if calculate_total_distance(current_solution, distance_matrix) < calculate_total_distance(best_solution, distance_matrix):\n",
    "            best_solution = current_solution.copy()\n",
    "\n",
    "        # Warunek stopu na podstawie liczby iteracji bez poprawy\n",
    "        if iterations_without_change > iterations_without_improvement:\n",
    "            break \n",
    "\n",
    "        temperature *= cooling_rate\n",
    "\n",
    "    return best_solution, calculate_total_distance(best_solution, distance_matrix)"
   ]
  },
  {
   "cell_type": "markdown",
   "metadata": {},
   "source": [
    "# Temperatura początkowa"
   ]
  },
  {
   "cell_type": "code",
   "execution_count": 125,
   "metadata": {},
   "outputs": [
    {
     "name": "stdout",
     "output_type": "stream",
     "text": [
      "Najlepsza trasa: [116, 83, 80, 125, 81, 82, 74, 75, 77, 79, 78, 76, 17, 20, 16, 21, 3, 22, 23, 5, 105, 14, 107, 19, 18, 71, 7, 8, 10, 113, 104, 6, 0, 15, 1, 50, 56, 53, 44, 102, 43, 34, 35, 36, 40, 13, 11, 30, 26, 29, 42, 33, 38, 37, 25, 24, 32, 121, 31, 28, 27, 41, 39, 120, 4, 55, 123, 51, 49, 12, 114, 9, 119, 2, 89, 115, 59, 61, 60, 90, 57, 63, 99, 112, 65, 54, 46, 48, 52, 117, 47, 45, 93, 111, 110, 106, 126, 92, 94, 122, 96, 97, 100, 101, 62, 118, 95, 108, 86, 84, 85, 87, 109, 70, 69, 68, 67, 72, 73, 66, 58, 124, 88, 91, 98, 64, 103]\n",
      "Długość najlepszej trasy: 133772.59421132063\n"
     ]
    }
   ],
   "source": [
    "NN_127=[116, 83, 80, 125, 81, 82, 74, 75, 77, 79, 78, 76, 17, 20, 16, 21, 3, 22, 23, 5, 105, 14, 107, 19, 18, 71, 7, 8, 10, 113, 104, 6, 0, 15, 1, 50, 56, 53, 44, 102, 43, 34, 35, 36, 40, 13, 11, 30, 26, 29, 42, 33, 38, 37, 25, 24, 32, 121, 27, 28, 31, 41, 39, 120, 4, 55, 123, 51, 49, 12, 114, 9, 119, 2, 89, 115, 59, 61, 60, 90, 57, 63, 99, 112, 65, 54, 46, 48, 52, 117, 47, 45, 93, 111, 110, 106, 126, 92, 94, 122, 96, 97, 100, 101, 62, 118, 95, 108, 86, 85, 84, 87, 109, 70, 69, 68, 67, 72, 73, 66, 58, 124, 88, 91, 98, 64, 103]\n",
    "best_route, best_length =simulated_annealing(TSP_127, NN_127, 1000, 0.999, 10000, 'swap', 10000)\n",
    "print(\"Najlepsza trasa:\", best_route)\n",
    "print(\"Długość najlepszej trasy:\", best_length)"
   ]
  },
  {
   "cell_type": "markdown",
   "metadata": {},
   "source": [
    "Najlepsza trasa: [116, 83, 80, 125, 81, 82, 74, 75, 77, 79, 78, 76, 17, 20, 16, 21, 3, 22, 23, 5, 105, 14, 107, 19, 18, 71, 7, 8, 10, 113, 104, 6, 0, 15, 1, 50, 56, 53, 44, 102, 43, 34, 35, 36, 40, 13, 11, 30, 26, 29, 42, 33, 38, 37, 25, 24, 32, 121, 27, 28, 31, 41, 39, 120, 4, 55, 123, 51, 49, 12, 114, 9, 119, 2, 89, 115, 59, 61, 60, 90, 57, 63, 99, 112, 65, 54, 46, 48, 52, 117, 47, 45, 93, 111, 110, 106, 126, 92, 94, 122, 96, 97, 100, 101, 62, 118, 95, 108, 86, 85, 84, 87, 109, 70, 69, 68, 67, 72, 73, 66, 58, 124, 88, 91, 98, 64, 103]\n",
    "Długość najlepszej trasy: 133970.64577239772"
   ]
  },
  {
   "cell_type": "code",
   "execution_count": 126,
   "metadata": {},
   "outputs": [
    {
     "name": "stdout",
     "output_type": "stream",
     "text": [
      "Najlepsza trasa: [116, 83, 80, 125, 82, 81, 74, 75, 77, 79, 78, 76, 17, 20, 16, 21, 3, 22, 23, 107, 5, 105, 14, 19, 18, 71, 7, 8, 10, 113, 104, 6, 0, 15, 1, 50, 56, 53, 44, 102, 43, 34, 36, 35, 40, 13, 11, 30, 26, 29, 42, 33, 38, 37, 25, 24, 32, 121, 28, 31, 27, 41, 39, 120, 4, 55, 123, 51, 49, 12, 114, 119, 9, 2, 89, 115, 59, 61, 60, 90, 99, 57, 63, 112, 65, 54, 46, 48, 52, 117, 47, 45, 93, 111, 110, 106, 126, 92, 94, 122, 96, 97, 100, 101, 62, 118, 95, 108, 87, 85, 86, 84, 109, 70, 69, 68, 67, 73, 72, 66, 58, 124, 88, 91, 64, 98, 103]\n",
      "Długość najlepszej trasy: 132610.99764221124\n"
     ]
    }
   ],
   "source": [
    "best_route, best_length =simulated_annealing(TSP_127, NN_127, 400, 0.999, 10000, 'swap', 10000)\n",
    "print(\"Najlepsza trasa:\", best_route)\n",
    "print(\"Długość najlepszej trasy:\", best_length)"
   ]
  },
  {
   "cell_type": "markdown",
   "metadata": {},
   "source": [
    "Najlepsza trasa: [74, 83, 80, 125, 82, 81, 116, 75, 77, 79, 78, 76, 17, 20, 16, 19, 21, 22, 23, 5, 105, 14, 107, 3, 18, 71, 7, 8, 10, 113, 104, 6, 0, 15, 1, 50, 56, 53, 44, 102, 43, 34, 36, 35, 40, 13, 11, 30, 26, 29, 42, 33, 38, 37, 25, 24, 32, 28, 31, 121, 27, 41, 39, 120, 4, 55, 123, 51, 49, 12, 114, 119, 9, 2, 89, 115, 59, 61, 60, 90, 99, 57, 63, 112, 65, 54, 46, 48, 52, 47, 117, 45, 93, 111, 110, 106, 126, 92, 94, 122, 96, 97, 100, 101, 62, 118, 95, 108, 87, 86, 84, 85, 109, 70, 69, 68, 67, 73, 72, 66, 58, 124, 88, 64, 98, 91, 103]\n",
    "Długość najlepszej trasy: 131106.90236846003"
   ]
  },
  {
   "cell_type": "code",
   "execution_count": 127,
   "metadata": {},
   "outputs": [
    {
     "name": "stdout",
     "output_type": "stream",
     "text": [
      "Najlepsza trasa: [74, 83, 80, 82, 81, 125, 116, 75, 77, 79, 78, 76, 17, 20, 16, 21, 3, 19, 107, 5, 105, 14, 22, 7, 71, 18, 23, 8, 10, 113, 104, 6, 0, 15, 1, 50, 56, 53, 44, 102, 43, 34, 35, 36, 40, 13, 11, 30, 26, 29, 42, 38, 33, 37, 25, 24, 32, 121, 28, 31, 27, 41, 39, 120, 55, 123, 51, 4, 49, 12, 114, 9, 119, 2, 89, 115, 59, 61, 60, 90, 99, 63, 57, 112, 65, 54, 46, 52, 48, 117, 47, 45, 93, 111, 110, 106, 126, 92, 94, 122, 96, 97, 100, 101, 62, 118, 95, 108, 87, 85, 86, 84, 109, 70, 69, 68, 67, 73, 72, 66, 58, 124, 88, 64, 98, 91, 103]\n",
      "Długość najlepszej trasy: 132477.6465810112\n"
     ]
    }
   ],
   "source": [
    "best_route, best_length =simulated_annealing(TSP_127, NN_127, 300, 0.999, 10000, 'swap', 10000)\n",
    "print(\"Najlepsza trasa:\", best_route)\n",
    "print(\"Długość najlepszej trasy:\", best_length)"
   ]
  },
  {
   "cell_type": "markdown",
   "metadata": {},
   "source": [
    "Najlepsza trasa: [74, 83, 80, 125, 81, 82, 116, 75, 77, 79, 78, 76, 17, 20, 16, 21, 3, 22, 23, 5, 105, 14, 107, 19, 18, 71, 7, 8, 10, 113, 104, 6, 15, 0, 1, 50, 56, 53, 44, 102, 43, 34, 36, 35, 40, 13, 11, 30, 26, 29, 42, 33, 38, 37, 25, 24, 32, 121, 27, 31, 28, 41, 39, 120, 4, 55, 123, 51, 49, 12, 114, 9, 119, 2, 89, 115, 59, 61, 60, 90, 57, 99, 63, 112, 65, 54, 46, 52, 48, 117, 47, 45, 93, 111, 110, 106, 126, 92, 94, 122, 96, 97, 100, 101, 62, 118, 95, 108, 85, 84, 86, 87, 109, 70, 69, 68, 67, 73, 72, 66, 58, 124, 88, 91, 64, 98, 103]\n",
    "Długość najlepszej trasy: 132573.4394520379"
   ]
  },
  {
   "cell_type": "code",
   "execution_count": 128,
   "metadata": {},
   "outputs": [
    {
     "name": "stdout",
     "output_type": "stream",
     "text": [
      "Najlepsza trasa: [116, 83, 80, 82, 81, 125, 74, 75, 77, 79, 78, 76, 17, 20, 16, 21, 3, 22, 23, 5, 105, 14, 107, 19, 18, 71, 7, 8, 10, 113, 104, 6, 0, 15, 1, 50, 56, 53, 44, 102, 43, 34, 35, 36, 40, 13, 11, 30, 26, 29, 42, 33, 38, 37, 25, 24, 32, 121, 27, 31, 28, 41, 39, 120, 4, 55, 123, 51, 49, 12, 114, 9, 119, 2, 89, 115, 59, 61, 60, 90, 99, 57, 63, 112, 65, 54, 46, 48, 52, 47, 117, 45, 93, 111, 110, 106, 126, 92, 94, 122, 96, 97, 100, 101, 62, 118, 95, 108, 85, 86, 87, 84, 109, 70, 69, 68, 67, 73, 72, 66, 103, 124, 88, 91, 98, 64, 58]\n",
      "Długość najlepszej trasy: 132880.5797620423\n"
     ]
    }
   ],
   "source": [
    "best_route, best_length =simulated_annealing(TSP_127, NN_127, 100, 0.999, 10000, 'swap', 10000)\n",
    "print(\"Najlepsza trasa:\", best_route)\n",
    "print(\"Długość najlepszej trasy:\", best_length)"
   ]
  },
  {
   "cell_type": "markdown",
   "metadata": {},
   "source": [
    "Najlepsza trasa: [74, 83, 80, 125, 81, 82, 116, 75, 77, 79, 78, 76, 17, 20, 16, 21, 3, 22, 23, 5, 105, 14, 107, 19, 18, 71, 7, 8, 10, 113, 104, 6, 0, 15, 1, 50, 56, 53, 44, 102, 43, 34, 35, 36, 40, 13, 11, 30, 26, 29, 42, 33, 38, 37, 25, 24, 32, 31, 28, 121, 27, 41, 39, 120, 4, 55, 123, 51, 49, 12, 114, 119, 9, 2, 89, 115, 59, 61, 60, 90, 99, 63, 57, 112, 65, 54, 46, 52, 48, 117, 47, 45, 93, 111, 110, 106, 126, 92, 94, 122, 96, 97, 100, 101, 62, 118, 95, 108, 84, 85, 87, 86, 109, 70, 69, 68, 67, 73, 72, 66, 58, 124, 91, 88, 64, 98, 103]\n",
    "Długość najlepszej trasy: 131642.27292617023"
   ]
  },
  {
   "cell_type": "markdown",
   "metadata": {},
   "source": [
    "# Współczynnik redukcji temperatury"
   ]
  },
  {
   "cell_type": "code",
   "execution_count": 129,
   "metadata": {},
   "outputs": [
    {
     "name": "stdout",
     "output_type": "stream",
     "text": [
      "Najlepsza trasa: [116, 83, 80, 125, 81, 82, 74, 75, 77, 79, 78, 76, 17, 20, 16, 21, 3, 22, 23, 5, 105, 14, 107, 19, 18, 71, 7, 8, 10, 113, 104, 6, 0, 15, 1, 50, 56, 53, 44, 102, 43, 34, 35, 36, 40, 13, 11, 30, 26, 29, 42, 33, 38, 37, 25, 24, 32, 121, 27, 28, 31, 41, 39, 120, 4, 55, 123, 51, 49, 12, 114, 9, 119, 2, 89, 115, 59, 61, 60, 90, 57, 63, 99, 112, 65, 54, 46, 48, 52, 117, 47, 45, 93, 111, 110, 106, 126, 92, 94, 122, 96, 97, 100, 101, 62, 118, 95, 108, 86, 85, 84, 87, 109, 70, 69, 68, 67, 72, 73, 66, 58, 124, 88, 91, 98, 64, 103]\n",
      "Długość najlepszej trasy: 133970.64577239772\n"
     ]
    }
   ],
   "source": [
    "best_route, best_length =simulated_annealing(TSP_127, NN_127, 400, 0.999, 10000, 'swap', 10000)\n",
    "print(\"Najlepsza trasa:\", best_route)\n",
    "print(\"Długość najlepszej trasy:\", best_length)"
   ]
  },
  {
   "cell_type": "markdown",
   "metadata": {},
   "source": [
    "Najlepsza trasa: [116, 83, 80, 82, 81, 125, 74, 75, 77, 79, 78, 76, 17, 20, 16, 21, 18, 22, 23, 5, 105, 14, 19, 107, 3, 71, 7, 8, 10, 113, 104, 6, 0, 15, 1, 50, 56, 53, 44, 102, 43, 34, 36, 35, 40, 13, 11, 30, 26, 29, 42, 33, 38, 37, 25, 24, 32, 121, 28, 31, 27, 41, 39, 120, 4, 55, 123, 51, 49, 12, 114, 9, 119, 2, 115, 89, 61, 59, 60, 90, 99, 57, 63, 112, 65, 54, 46, 48, 52, 117, 47, 45, 93, 111, 110, 106, 126, 92, 94, 122, 96, 97, 100, 101, 62, 118, 95, 108, 87, 86, 84, 85, 109, 70, 69, 68, 67, 73, 72, 66, 58, 124, 88, 91, 98, 64, 103]\n",
    "Długość najlepszej trasy: 133524.03779718227"
   ]
  },
  {
   "cell_type": "code",
   "execution_count": 130,
   "metadata": {},
   "outputs": [
    {
     "name": "stdout",
     "output_type": "stream",
     "text": [
      "Najlepsza trasa: [74, 83, 80, 125, 81, 82, 116, 75, 77, 79, 78, 76, 17, 20, 16, 21, 3, 22, 23, 5, 105, 14, 107, 19, 18, 71, 7, 8, 10, 113, 104, 6, 0, 15, 1, 50, 56, 53, 44, 102, 43, 34, 36, 35, 40, 13, 11, 30, 26, 29, 42, 33, 38, 37, 25, 24, 32, 121, 27, 31, 28, 41, 39, 120, 4, 55, 123, 51, 49, 12, 114, 119, 9, 2, 89, 115, 59, 61, 60, 90, 99, 57, 63, 112, 65, 54, 46, 48, 52, 47, 117, 45, 93, 111, 110, 106, 126, 92, 94, 122, 96, 97, 100, 101, 62, 118, 95, 108, 85, 86, 87, 84, 109, 70, 69, 68, 67, 73, 72, 66, 103, 124, 88, 91, 98, 64, 58]\n",
      "Długość najlepszej trasy: 132251.93980211482\n"
     ]
    }
   ],
   "source": [
    "best_route, best_length =simulated_annealing(TSP_127, NN_127, 400, 0.99, 10000, 'swap', 10000)\n",
    "print(\"Najlepsza trasa:\", best_route)\n",
    "print(\"Długość najlepszej trasy:\", best_length)"
   ]
  },
  {
   "cell_type": "markdown",
   "metadata": {},
   "source": [
    "Najlepsza trasa: [116, 83, 80, 125, 82, 81, 74, 75, 77, 79, 78, 76, 17, 20, 16, 21, 3, 22, 23, 5, 105, 14, 107, 19, 18, 71, 7, 8, 10, 113, 104, 6, 0, 15, 1, 50, 56, 53, 44, 102, 43, 34, 36, 35, 40, 13, 11, 30, 26, 29, 42, 33, 38, 37, 25, 24, 32, 31, 28, 121, 27, 41, 39, 120, 4, 55, 123, 51, 49, 114, 12, 119, 9, 2, 89, 115, 59, 61, 60, 90, 99, 57, 63, 112, 65, 54, 46, 48, 52, 47, 117, 45, 93, 111, 110, 106, 126, 92, 94, 122, 96, 97, 100, 101, 62, 118, 95, 108, 87, 86, 85, 84, 109, 70, 69, 68, 67, 72, 73, 66, 58, 124, 91, 88, 64, 98, 103]\n",
    "Długość najlepszej trasy: 131935.95108530085"
   ]
  },
  {
   "cell_type": "code",
   "execution_count": 131,
   "metadata": {},
   "outputs": [
    {
     "name": "stderr",
     "output_type": "stream",
     "text": [
      "C:\\Users\\zosia\\AppData\\Local\\Temp\\ipykernel_20924\\2289276430.py:28: RuntimeWarning: overflow encountered in scalar divide\n",
      "  if neighbor_length < current_length or random.random() < math.exp((current_length - neighbor_length) / temperature):\n"
     ]
    },
    {
     "name": "stdout",
     "output_type": "stream",
     "text": [
      "Najlepsza trasa: [74, 83, 80, 125, 81, 82, 116, 75, 77, 79, 78, 76, 17, 20, 16, 21, 3, 22, 23, 5, 105, 14, 107, 19, 18, 71, 7, 8, 10, 113, 104, 6, 0, 15, 1, 50, 56, 53, 44, 102, 43, 34, 36, 35, 40, 13, 11, 30, 26, 29, 42, 33, 38, 37, 25, 24, 32, 121, 28, 31, 27, 41, 39, 120, 4, 55, 123, 51, 49, 12, 114, 9, 119, 2, 89, 115, 59, 61, 60, 90, 57, 99, 63, 112, 65, 54, 46, 48, 52, 47, 117, 45, 93, 111, 110, 106, 126, 92, 94, 122, 96, 97, 100, 101, 62, 118, 95, 108, 87, 85, 86, 84, 109, 70, 69, 68, 67, 72, 73, 66, 58, 124, 88, 91, 64, 98, 103]\n",
      "Długość najlepszej trasy: 132092.19310064035\n"
     ]
    }
   ],
   "source": [
    "best_route, best_length =simulated_annealing(TSP_127, NN_127, 400, 0.9, 10000, 'swap', 10000)\n",
    "print(\"Najlepsza trasa:\", best_route)\n",
    "print(\"Długość najlepszej trasy:\", best_length)"
   ]
  },
  {
   "cell_type": "markdown",
   "metadata": {},
   "source": [
    "Najlepsza trasa: [116, 83, 80, 125, 82, 81, 74, 75, 77, 79, 78, 76, 17, 20, 16, 21, 3, 22, 23, 5, 105, 14, 107, 19, 18, 71, 7, 8, 10, 113, 104, 6, 0, 15, 1, 50, 56, 53, 44, 102, 43, 34, 36, 35, 40, 13, 11, 30, 26, 29, 42, 33, 38, 37, 25, 24, 32, 28, 31, 121, 27, 41, 39, 120, 4, 55, 123, 51, 49, 12, 114, 119, 9, 2, 89, 115, 59, 61, 60, 90, 99, 57, 63, 112, 65, 54, 46, 48, 52, 117, 47, 45, 93, 111, 110, 106, 126, 92, 94, 122, 96, 97, 100, 101, 62, 118, 95, 108, 87, 86, 85, 84, 109, 70, 69, 68, 67, 72, 73, 66, 103, 124, 88, 91, 98, 64, 58]\n",
    "Długość najlepszej trasy: 132008.99344414007"
   ]
  },
  {
   "cell_type": "code",
   "execution_count": 132,
   "metadata": {},
   "outputs": [
    {
     "name": "stderr",
     "output_type": "stream",
     "text": [
      "C:\\Users\\zosia\\AppData\\Local\\Temp\\ipykernel_20924\\2289276430.py:28: RuntimeWarning: overflow encountered in scalar divide\n",
      "  if neighbor_length < current_length or random.random() < math.exp((current_length - neighbor_length) / temperature):\n"
     ]
    },
    {
     "name": "stdout",
     "output_type": "stream",
     "text": [
      "Najlepsza trasa: [74, 83, 80, 125, 81, 82, 116, 75, 77, 79, 78, 76, 17, 20, 16, 21, 3, 22, 23, 5, 105, 14, 107, 19, 18, 71, 7, 8, 10, 113, 104, 6, 0, 15, 1, 50, 56, 53, 44, 102, 43, 34, 36, 35, 40, 13, 11, 30, 26, 29, 42, 33, 38, 37, 25, 24, 32, 28, 31, 121, 27, 41, 39, 120, 4, 55, 123, 51, 49, 12, 114, 9, 119, 2, 89, 115, 59, 61, 60, 90, 99, 63, 57, 112, 65, 54, 46, 48, 52, 47, 117, 45, 93, 111, 110, 106, 126, 92, 94, 122, 96, 97, 100, 101, 62, 118, 95, 108, 87, 86, 84, 85, 109, 70, 69, 68, 67, 73, 72, 66, 58, 124, 88, 64, 98, 91, 103]\n",
      "Długość najlepszej trasy: 131224.8943843106\n"
     ]
    }
   ],
   "source": [
    "best_route, best_length =simulated_annealing(TSP_127, NN_127, 400, 0.8, 10000, 'swap', 10000)\n",
    "print(\"Najlepsza trasa:\", best_route)\n",
    "print(\"Długość najlepszej trasy:\", best_length)"
   ]
  },
  {
   "cell_type": "markdown",
   "metadata": {},
   "source": [
    "Najlepsza trasa: [74, 83, 80, 125, 82, 81, 116, 75, 77, 79, 78, 76, 17, 20, 16, 21, 3, 22, 23, 5, 105, 14, 107, 19, 18, 71, 7, 8, 10, 113, 104, 6, 0, 15, 1, 50, 56, 53, 44, 102, 43, 34, 35, 36, 40, 13, 11, 30, 26, 29, 42, 33, 38, 37, 25, 24, 32, 121, 27, 28, 31, 41, 39, 120, 4, 55, 123, 51, 49, 12, 114, 119, 9, 2, 89, 115, 59, 61, 60, 90, 99, 57, 63, 112, 65, 54, 46, 52, 48, 117, 47, 45, 93, 111, 110, 106, 126, 92, 94, 122, 96, 97, 100, 101, 62, 118, 95, 108, 85, 87, 86, 84, 109, 70, 69, 68, 67, 72, 73, 66, 58, 124, 88, 64, 98, 91, 103]\n",
    "Długość najlepszej trasy: 132160.58998866554"
   ]
  },
  {
   "cell_type": "markdown",
   "metadata": {},
   "source": [
    "# Liczba iteracji"
   ]
  },
  {
   "cell_type": "code",
   "execution_count": 133,
   "metadata": {},
   "outputs": [
    {
     "name": "stderr",
     "output_type": "stream",
     "text": [
      "C:\\Users\\zosia\\AppData\\Local\\Temp\\ipykernel_20924\\2289276430.py:28: RuntimeWarning: overflow encountered in scalar divide\n",
      "  if neighbor_length < current_length or random.random() < math.exp((current_length - neighbor_length) / temperature):\n"
     ]
    },
    {
     "name": "stdout",
     "output_type": "stream",
     "text": [
      "Najlepsza trasa: [74, 83, 80, 125, 81, 82, 116, 75, 77, 79, 78, 76, 17, 20, 16, 21, 3, 22, 23, 5, 105, 14, 107, 19, 18, 71, 7, 8, 10, 113, 104, 6, 0, 15, 1, 50, 56, 53, 44, 102, 43, 34, 36, 35, 40, 13, 11, 30, 26, 29, 42, 33, 38, 37, 25, 24, 28, 31, 32, 121, 27, 41, 39, 120, 4, 55, 123, 51, 49, 114, 12, 119, 9, 2, 89, 115, 59, 61, 60, 90, 99, 57, 63, 112, 65, 54, 46, 48, 52, 47, 117, 45, 93, 111, 110, 106, 126, 92, 94, 122, 96, 97, 100, 101, 62, 118, 95, 108, 87, 86, 85, 84, 109, 70, 69, 68, 67, 73, 72, 66, 58, 124, 91, 88, 64, 98, 103]\n",
      "Długość najlepszej trasy: 130759.1183652129\n"
     ]
    }
   ],
   "source": [
    "best_route, best_length =simulated_annealing(TSP_127, NN_127, 400, 0.99, 1000000, 'swap', 10000)\n",
    "print(\"Najlepsza trasa:\", best_route)\n",
    "print(\"Długość najlepszej trasy:\", best_length)"
   ]
  },
  {
   "cell_type": "markdown",
   "metadata": {},
   "source": [
    "Najlepsza trasa: [74, 83, 80, 125, 81, 82, 116, 75, 77, 79, 78, 76, 17, 20, 16, 21, 3, 22, 23, 5, 105, 14, 107, 19, 18, 71, 7, 8, 10, 113, 104, 6, 0, 15, 1, 50, 56, 53, 44, 102, 43, 34, 36, 35, 40, 13, 11, 30, 26, 29, 42, 33, 38, 37, 25, 24, 28, 31, 32, 121, 27, 41, 39, 120, 4, 55, 123, 51, 49, 114, 12, 119, 9, 2, 89, 115, 59, 61, 60, 90, 99, 57, 63, 112, 65, 54, 46, 48, 52, 47, 117, 45, 93, 111, 110, 106, 126, 92, 94, 122, 96, 97, 100, 101, 62, 118, 95, 108, 87, 86, 85, 84, 109, 70, 69, 68, 67, 73, 72, 66, 58, 124, 91, 88, 64, 98, 103]\n",
    "Długość najlepszej trasy: 130759.1183652129"
   ]
  },
  {
   "cell_type": "code",
   "execution_count": 134,
   "metadata": {},
   "outputs": [
    {
     "name": "stderr",
     "output_type": "stream",
     "text": [
      "C:\\Users\\zosia\\AppData\\Local\\Temp\\ipykernel_20924\\2289276430.py:28: RuntimeWarning: overflow encountered in scalar divide\n",
      "  if neighbor_length < current_length or random.random() < math.exp((current_length - neighbor_length) / temperature):\n"
     ]
    },
    {
     "name": "stdout",
     "output_type": "stream",
     "text": [
      "Najlepsza trasa: [74, 83, 80, 125, 81, 82, 116, 75, 77, 79, 78, 76, 17, 20, 16, 21, 3, 22, 23, 5, 105, 14, 107, 19, 18, 71, 7, 8, 10, 113, 104, 6, 0, 15, 1, 50, 56, 53, 44, 102, 43, 34, 36, 35, 40, 13, 11, 30, 26, 29, 42, 33, 38, 37, 25, 24, 28, 31, 32, 121, 27, 41, 39, 120, 4, 55, 123, 51, 49, 114, 12, 119, 9, 2, 89, 115, 59, 61, 60, 90, 99, 57, 63, 112, 65, 54, 46, 48, 52, 47, 117, 45, 93, 111, 110, 106, 126, 92, 94, 122, 96, 97, 100, 101, 62, 118, 95, 108, 87, 86, 85, 84, 109, 70, 69, 68, 67, 73, 72, 66, 58, 124, 88, 64, 98, 91, 103]\n",
      "Długość najlepszej trasy: 130608.22476509973\n"
     ]
    }
   ],
   "source": [
    "best_route, best_length =simulated_annealing(TSP_127, NN_127, 400, 0.99, 100000, 'swap', 10000)\n",
    "print(\"Najlepsza trasa:\", best_route)\n",
    "print(\"Długość najlepszej trasy:\", best_length)"
   ]
  },
  {
   "cell_type": "markdown",
   "metadata": {},
   "source": [
    "Najlepsza trasa: [74, 83, 80, 125, 81, 82, 116, 75, 77, 79, 78, 76, 17, 20, 16, 21, 3, 22, 23, 5, 105, 14, 107, 19, 18, 71, 7, 8, 10, 113, 104, 6, 0, 15, 1, 50, 56, 53, 44, 102, 43, 34, 36, 35, 40, 13, 11, 30, 26, 29, 42, 33, 38, 37, 25, 24, 32, 28, 31, 121, 27, 41, 39, 120, 4, 55, 123, 51, 49, 114, 12, 119, 9, 2, 89, 115, 59, 61, 60, 90, 99, 57, 63, 112, 65, 54, 46, 48, 52, 47, 117, 45, 93, 111, 110, 106, 126, 92, 94, 122, 96, 97, 100, 101, 62, 118, 95, 108, 87, 86, 85, 84, 109, 70, 69, 68, 67, 73, 72, 66, 58, 124, 88, 64, 98, 91, 103]\n",
    "Długość najlepszej trasy: 130596.70380915294"
   ]
  },
  {
   "cell_type": "code",
   "execution_count": 135,
   "metadata": {},
   "outputs": [
    {
     "name": "stdout",
     "output_type": "stream",
     "text": [
      "Najlepsza trasa: [74, 83, 80, 125, 81, 82, 116, 75, 77, 79, 78, 76, 17, 20, 16, 21, 3, 22, 23, 5, 105, 14, 107, 19, 18, 71, 7, 8, 10, 113, 104, 6, 0, 15, 1, 50, 56, 53, 44, 102, 43, 34, 36, 35, 40, 13, 11, 30, 26, 29, 42, 33, 38, 37, 25, 24, 32, 28, 31, 121, 27, 41, 39, 120, 4, 55, 123, 51, 49, 114, 12, 119, 9, 2, 89, 115, 59, 61, 60, 90, 99, 57, 63, 112, 65, 54, 46, 48, 52, 47, 117, 45, 93, 111, 110, 106, 126, 92, 94, 122, 96, 97, 100, 101, 62, 118, 95, 108, 87, 86, 85, 84, 109, 70, 69, 68, 67, 73, 72, 66, 58, 124, 91, 88, 64, 98, 103]\n",
      "Długość najlepszej trasy: 130747.5974092661\n"
     ]
    }
   ],
   "source": [
    "best_route, best_length =simulated_annealing(TSP_127, NN_127, 400, 0.99, 50000, 'swap', 10000)\n",
    "print(\"Najlepsza trasa:\", best_route)\n",
    "print(\"Długość najlepszej trasy:\", best_length)"
   ]
  },
  {
   "cell_type": "markdown",
   "metadata": {},
   "source": [
    "Najlepsza trasa: [74, 83, 80, 125, 81, 82, 116, 75, 77, 79, 78, 76, 17, 20, 16, 21, 3, 22, 23, 5, 105, 14, 107, 19, 18, 71, 7, 8, 10, 113, 104, 6, 0, 15, 1, 50, 56, 53, 44, 102, 43, 34, 36, 35, 40, 13, 11, 30, 26, 29, 42, 33, 38, 37, 25, 24, 32, 28, 31, 121, 27, 41, 39, 120, 4, 55, 123, 51, 49, 114, 12, 119, 9, 2, 89, 115, 59, 61, 60, 90, 99, 57, 63, 112, 65, 54, 46, 48, 52, 47, 117, 45, 93, 111, 110, 106, 126, 92, 94, 122, 96, 97, 100, 101, 62, 118, 95, 108, 87, 86, 85, 84, 109, 70, 69, 68, 67, 73, 72, 66, 58, 124, 91, 88, 64, 98, 103]\n",
    "Długość najlepszej trasy: 130747.5974092661"
   ]
  },
  {
   "cell_type": "code",
   "execution_count": 136,
   "metadata": {},
   "outputs": [
    {
     "name": "stdout",
     "output_type": "stream",
     "text": [
      "Najlepsza trasa: [116, 83, 80, 125, 82, 81, 74, 75, 77, 79, 78, 76, 17, 20, 16, 21, 3, 22, 23, 5, 105, 14, 107, 19, 18, 71, 7, 8, 10, 113, 104, 6, 0, 15, 1, 50, 56, 53, 44, 102, 43, 34, 36, 35, 40, 13, 11, 30, 26, 29, 42, 33, 38, 37, 25, 24, 32, 121, 27, 28, 31, 41, 39, 120, 4, 55, 123, 51, 49, 114, 12, 119, 9, 2, 89, 115, 59, 61, 60, 90, 57, 99, 63, 112, 65, 54, 46, 52, 48, 117, 47, 45, 93, 111, 110, 106, 126, 92, 94, 122, 96, 97, 100, 101, 62, 118, 95, 108, 87, 85, 84, 86, 109, 70, 69, 68, 67, 73, 72, 66, 103, 124, 88, 91, 98, 64, 58]\n",
      "Długość najlepszej trasy: 132816.05830292654\n"
     ]
    }
   ],
   "source": [
    "best_route, best_length =simulated_annealing(TSP_127, NN_127, 400, 0.99, 10000, 'swap', 10000)\n",
    "print(\"Najlepsza trasa:\", best_route)\n",
    "print(\"Długość najlepszej trasy:\", best_length)"
   ]
  },
  {
   "cell_type": "markdown",
   "metadata": {},
   "source": [
    "Najlepsza trasa: [74, 83, 80, 125, 81, 82, 116, 75, 77, 79, 78, 76, 17, 20, 16, 21, 3, 22, 23, 5, 105, 14, 107, 19, 18, 71, 7, 8, 10, 113, 104, 6, 0, 15, 1, 50, 56, 53, 44, 102, 43, 34, 35, 36, 40, 13, 11, 30, 26, 29, 42, 33, 38, 37, 25, 24, 32, 121, 27, 31, 28, 41, 39, 120, 4, 55, 123, 51, 49, 12, 114, 9, 119, 2, 89, 115, 59, 61, 60, 90, 99, 57, 63, 112, 65, 54, 46, 48, 52, 47, 117, 45, 93, 111, 110, 106, 126, 92, 94, 122, 96, 97, 100, 101, 62, 118, 95, 108, 87, 85, 86, 84, 109, 70, 69, 68, 67, 73, 72, 66, 58, 124, 91, 88, 64, 98, 103]\n",
    "Długość najlepszej trasy: 131760.4619843297"
   ]
  },
  {
   "cell_type": "markdown",
   "metadata": {},
   "source": [
    "# Metoda generowania sąsiada"
   ]
  },
  {
   "cell_type": "code",
   "execution_count": 137,
   "metadata": {},
   "outputs": [
    {
     "name": "stdout",
     "output_type": "stream",
     "text": [
      "Najlepsza trasa: [74, 83, 80, 125, 81, 82, 116, 75, 77, 79, 78, 76, 17, 20, 16, 21, 3, 22, 23, 5, 105, 14, 107, 19, 18, 71, 7, 8, 10, 113, 104, 6, 0, 15, 1, 50, 56, 53, 44, 102, 43, 34, 36, 35, 40, 13, 11, 30, 26, 29, 42, 33, 38, 37, 25, 24, 32, 121, 28, 31, 27, 41, 39, 120, 4, 55, 123, 51, 49, 12, 114, 119, 9, 2, 89, 115, 59, 61, 60, 90, 99, 63, 57, 112, 65, 54, 46, 48, 52, 47, 117, 45, 93, 111, 110, 106, 126, 92, 94, 122, 96, 97, 100, 101, 62, 118, 95, 108, 84, 85, 87, 86, 109, 70, 69, 68, 67, 73, 72, 66, 58, 124, 88, 91, 98, 64, 103]\n",
      "Długość najlepszej trasy: 132019.17738785956\n"
     ]
    }
   ],
   "source": [
    "best_route, best_length =simulated_annealing(TSP_127, NN_127, 400, 0.99, 10000, 'swap', 10000)\n",
    "print(\"Najlepsza trasa:\", best_route)\n",
    "print(\"Długość najlepszej trasy:\", best_length)"
   ]
  },
  {
   "cell_type": "markdown",
   "metadata": {},
   "source": [
    "Najlepsza trasa: [74, 83, 80, 125, 81, 82, 116, 75, 77, 79, 78, 76, 17, 20, 16, 21, 3, 22, 23, 5, 105, 14, 107, 19, 18, 71, 7, 8, 10, 113, 104, 6, 0, 15, 1, 50, 56, 53, 44, 102, 43, 34, 36, 35, 40, 13, 11, 30, 26, 29, 42, 33, 38, 37, 25, 24, 32, 121, 31, 28, 27, 41, 39, 120, 4, 55, 123, 51, 49, 114, 12, 119, 9, 2, 89, 115, 59, 61, 60, 90, 99, 57, 63, 112, 65, 54, 46, 52, 48, 117, 47, 45, 93, 111, 110, 106, 126, 92, 94, 122, 96, 97, 100, 101, 62, 118, 95, 108, 86, 87, 85, 84, 109, 70, 69, 68, 67, 72, 73, 66, 58, 124, 91, 88, 64, 98, 103]\n",
    "Długość najlepszej trasy: 131516.47397985763"
   ]
  },
  {
   "cell_type": "code",
   "execution_count": 138,
   "metadata": {},
   "outputs": [
    {
     "name": "stdout",
     "output_type": "stream",
     "text": [
      "Najlepsza trasa: [16, 78, 79, 116, 83, 80, 125, 82, 81, 74, 75, 77, 76, 17, 20, 21, 3, 22, 5, 105, 14, 19, 18, 71, 7, 8, 10, 113, 104, 6, 0, 15, 1, 50, 56, 53, 44, 102, 43, 34, 36, 35, 40, 13, 11, 30, 26, 29, 42, 33, 38, 37, 25, 24, 121, 27, 31, 28, 32, 41, 39, 120, 55, 123, 51, 4, 49, 114, 12, 119, 9, 2, 89, 115, 59, 61, 60, 90, 99, 57, 63, 112, 65, 54, 46, 52, 48, 117, 47, 45, 93, 111, 110, 106, 126, 92, 94, 122, 96, 97, 100, 101, 62, 118, 95, 108, 84, 85, 86, 87, 109, 70, 69, 68, 67, 72, 73, 66, 58, 103, 124, 88, 91, 98, 64, 23, 107]\n",
      "Długość najlepszej trasy: 131521.9795765881\n"
     ]
    }
   ],
   "source": [
    "best_route, best_length =simulated_annealing(TSP_127, NN_127, 400, 0.99, 10000, 'insert', 10000)\n",
    "print(\"Najlepsza trasa:\", best_route)\n",
    "print(\"Długość najlepszej trasy:\", best_length)"
   ]
  },
  {
   "cell_type": "markdown",
   "metadata": {},
   "source": [
    "Najlepsza trasa: [116, 83, 80, 125, 82, 81, 77, 79, 78, 76, 17, 20, 16, 3, 22, 23, 5, 105, 14, 107, 19, 21, 18, 71, 7, 8, 10, 113, 104, 6, 0, 15, 1, 50, 56, 53, 44, 102, 43, 34, 36, 35, 40, 13, 11, 30, 26, 29, 42, 33, 38, 37, 25, 24, 32, 121, 27, 31, 28, 41, 39, 120, 55, 123, 51, 4, 49, 12, 114, 119, 9, 2, 89, 115, 59, 61, 60, 90, 57, 99, 63, 112, 64, 65, 54, 46, 48, 52, 47, 117, 45, 93, 111, 110, 106, 126, 92, 94, 122, 96, 97, 100, 101, 62, 118, 95, 108, 86, 87, 84, 85, 109, 70, 67, 73, 72, 66, 58, 124, 88, 98, 91, 103, 69, 68, 74, 75]\n",
    "Długość najlepszej trasy: 129496.30866271077"
   ]
  },
  {
   "cell_type": "code",
   "execution_count": 139,
   "metadata": {},
   "outputs": [
    {
     "name": "stdout",
     "output_type": "stream",
     "text": [
      "Najlepsza trasa: [116, 83, 80, 125, 82, 81, 74, 75, 67, 68, 69, 70, 109, 73, 72, 66, 58, 124, 91, 88, 64, 98, 103, 84, 86, 87, 85, 108, 95, 118, 62, 101, 100, 97, 96, 122, 94, 92, 126, 106, 110, 111, 93, 45, 47, 117, 52, 48, 46, 54, 65, 112, 63, 57, 99, 90, 60, 61, 59, 115, 89, 2, 9, 119, 114, 12, 49, 51, 123, 55, 4, 120, 50, 56, 53, 44, 102, 43, 34, 39, 41, 27, 31, 28, 121, 32, 24, 25, 37, 38, 33, 42, 29, 26, 30, 11, 13, 40, 36, 35, 1, 15, 0, 6, 104, 113, 10, 8, 7, 71, 18, 21, 3, 22, 23, 5, 105, 14, 107, 19, 16, 20, 17, 76, 78, 79, 77]\n",
      "Długość najlepszej trasy: 130206.34994869429\n"
     ]
    }
   ],
   "source": [
    "best_route, best_length =simulated_annealing(TSP_127, NN_127, 400, 0.99, 10000, 'reverse', 10000)\n",
    "print(\"Najlepsza trasa:\", best_route)\n",
    "print(\"Długość najlepszej trasy:\", best_length)"
   ]
  },
  {
   "cell_type": "markdown",
   "metadata": {},
   "source": [
    "Najlepsza trasa: [109, 70, 69, 68, 74, 125, 81, 82, 80, 83, 116, 75, 77, 79, 78, 76, 17, 20, 16, 21, 3, 22, 23, 5, 105, 14, 107, 19, 18, 71, 7, 8, 10, 113, 104, 6, 0, 15, 1, 50, 34, 36, 35, 40, 13, 11, 30, 26, 29, 42, 33, 38, 37, 25, 24, 32, 121, 31, 28, 27, 41, 39, 43, 102, 44, 53, 56, 120, 4, 55, 123, 51, 49, 12, 114, 9, 119, 2, 89, 115, 59, 99, 63, 57, 90, 60, 61, 58, 66, 72, 73, 67, 108, 84, 85, 86, 87, 95, 118, 62, 101, 100, 97, 96, 122, 94, 92, 126, 106, 110, 111, 93, 45, 47, 117, 48, 52, 46, 54, 65, 112, 64, 98, 91, 88, 124, 103]\n",
    "Długość najlepszej trasy: 126109.14857986088"
   ]
  },
  {
   "cell_type": "markdown",
   "metadata": {},
   "source": [
    "# Liczba iteracji bez poprawy"
   ]
  },
  {
   "cell_type": "code",
   "execution_count": 140,
   "metadata": {},
   "outputs": [
    {
     "name": "stdout",
     "output_type": "stream",
     "text": [
      "Najlepsza trasa: [74, 83, 80, 125, 81, 82, 116, 75, 77, 79, 78, 76, 17, 20, 16, 21, 3, 22, 23, 5, 105, 14, 107, 19, 18, 71, 7, 8, 10, 113, 104, 6, 0, 15, 1, 50, 56, 53, 44, 102, 43, 34, 36, 35, 40, 13, 11, 30, 26, 29, 42, 33, 38, 37, 25, 24, 32, 121, 28, 31, 27, 41, 39, 120, 55, 51, 123, 4, 49, 114, 12, 119, 9, 2, 89, 115, 59, 61, 60, 90, 99, 63, 57, 112, 65, 54, 46, 48, 52, 47, 117, 45, 93, 111, 110, 106, 126, 92, 94, 122, 96, 97, 100, 101, 62, 118, 95, 108, 86, 87, 85, 84, 109, 70, 69, 68, 67, 73, 72, 66, 58, 124, 88, 91, 64, 98, 103]\n",
      "Długość najlepszej trasy: 131378.28152040677\n"
     ]
    }
   ],
   "source": [
    "best_route, best_length =simulated_annealing(TSP_127, NN_127, 400, 0.99, 10000, 'swap', 10000)\n",
    "print(\"Najlepsza trasa:\", best_route)\n",
    "print(\"Długość najlepszej trasy:\", best_length)"
   ]
  },
  {
   "cell_type": "markdown",
   "metadata": {},
   "source": [
    "Najlepsza trasa: [74, 83, 80, 125, 82, 81, 116, 75, 77, 79, 78, 76, 17, 20, 16, 21, 3, 22, 23, 5, 105, 14, 107, 19, 18, 71, 7, 8, 10, 113, 104, 6, 0, 15, 1, 50, 56, 53, 44, 102, 43, 34, 35, 36, 40, 13, 11, 30, 26, 29, 42, 33, 38, 37, 25, 24, 32, 31, 28, 121, 27, 41, 39, 120, 4, 55, 123, 51, 49, 12, 114, 9, 119, 2, 89, 115, 59, 61, 60, 90, 57, 99, 63, 112, 65, 54, 46, 48, 52, 117, 47, 45, 93, 111, 110, 106, 126, 92, 94, 122, 96, 97, 100, 101, 62, 118, 95, 108, 87, 86, 85, 84, 109, 70, 69, 68, 67, 73, 72, 66, 58, 124, 88, 64, 98, 91, 103]\n",
    "Długość najlepszej trasy: 131300.89774265687"
   ]
  },
  {
   "cell_type": "code",
   "execution_count": 141,
   "metadata": {},
   "outputs": [
    {
     "name": "stdout",
     "output_type": "stream",
     "text": [
      "Najlepsza trasa: [116, 83, 80, 125, 81, 82, 74, 75, 77, 79, 78, 76, 17, 20, 16, 21, 3, 22, 23, 5, 105, 14, 107, 19, 18, 71, 7, 8, 10, 113, 104, 6, 0, 15, 1, 50, 56, 53, 44, 102, 43, 34, 36, 35, 40, 13, 11, 30, 26, 29, 42, 33, 38, 37, 25, 24, 32, 121, 28, 31, 27, 41, 39, 120, 4, 55, 123, 51, 49, 12, 114, 9, 119, 2, 89, 115, 59, 61, 60, 90, 57, 63, 99, 112, 65, 54, 46, 52, 48, 117, 47, 45, 93, 111, 110, 106, 126, 92, 94, 122, 96, 97, 100, 101, 62, 118, 95, 108, 86, 87, 84, 85, 109, 70, 69, 68, 67, 73, 72, 66, 58, 124, 91, 88, 64, 98, 103]\n",
      "Długość najlepszej trasy: 132908.644827432\n"
     ]
    }
   ],
   "source": [
    "best_route, best_length =simulated_annealing(TSP_127, NN_127, 400, 0.99, 10000, 'swap', 1000)\n",
    "print(\"Najlepsza trasa:\", best_route)\n",
    "print(\"Długość najlepszej trasy:\", best_length)"
   ]
  },
  {
   "cell_type": "markdown",
   "metadata": {},
   "source": [
    "Najlepsza trasa: [116, 83, 80, 125, 82, 81, 74, 75, 77, 79, 78, 76, 17, 20, 16, 21, 3, 22, 23, 5, 105, 14, 107, 19, 18, 71, 7, 8, 10, 113, 104, 6, 0, 15, 1, 50, 56, 53, 44, 102, 43, 34, 35, 36, 40, 13, 11, 30, 26, 29, 42, 33, 38, 37, 25, 24, 32, 31, 28, 121, 27, 41, 39, 120, 4, 55, 123, 51, 49, 12, 114, 9, 119, 2, 89, 115, 59, 61, 60, 90, 57, 99, 63, 112, 65, 54, 46, 48, 52, 117, 47, 45, 93, 111, 110, 106, 126, 92, 94, 122, 96, 97, 100, 101, 62, 118, 95, 108, 87, 86, 85, 84, 109, 70, 69, 68, 67, 72, 73, 66, 58, 124, 88, 64, 98, 91, 103]\n",
    "Długość najlepszej trasy: 132297.96573826883"
   ]
  },
  {
   "cell_type": "code",
   "execution_count": 142,
   "metadata": {},
   "outputs": [
    {
     "name": "stdout",
     "output_type": "stream",
     "text": [
      "Najlepsza trasa: [116, 83, 80, 125, 81, 82, 74, 75, 77, 79, 78, 76, 17, 20, 16, 21, 3, 22, 23, 5, 105, 14, 107, 19, 18, 71, 7, 8, 10, 113, 104, 6, 0, 15, 1, 50, 56, 53, 44, 102, 43, 34, 35, 36, 40, 13, 11, 30, 26, 29, 42, 33, 38, 37, 25, 24, 32, 121, 27, 28, 31, 41, 39, 120, 4, 55, 123, 51, 49, 12, 114, 9, 119, 2, 89, 115, 59, 61, 60, 90, 57, 63, 99, 112, 65, 54, 46, 48, 52, 117, 47, 45, 93, 111, 110, 106, 126, 92, 94, 122, 96, 97, 100, 101, 62, 118, 95, 108, 86, 85, 84, 87, 109, 70, 69, 68, 67, 72, 73, 66, 58, 124, 88, 91, 98, 64, 103]\n",
      "Długość najlepszej trasy: 133970.64577239772\n"
     ]
    }
   ],
   "source": [
    "best_route, best_length =simulated_annealing(TSP_127, NN_127, 400, 0.99, 10000, 'swap', 100)\n",
    "print(\"Najlepsza trasa:\", best_route)\n",
    "print(\"Długość najlepszej trasy:\", best_length)"
   ]
  },
  {
   "cell_type": "markdown",
   "metadata": {},
   "source": [
    "Najlepsza trasa: [116, 83, 80, 125, 82, 81, 74, 75, 77, 79, 78, 76, 17, 20, 16, 21, 3, 22, 23, 5, 105, 14, 107, 19, 18, 71, 7, 8, 10, 113, 104, 6, 0, 15, 1, 50, 56, 53, 44, 102, 43, 34, 35, 36, 40, 13, 11, 30, 26, 29, 42, 33, 38, 37, 25, 24, 32, 121, 27, 28, 31, 41, 39, 120, 4, 55, 123, 51, 49, 12, 114, 9, 119, 2, 89, 115, 59, 61, 60, 90, 99, 63, 57, 112, 65, 54, 46, 48, 52, 117, 47, 45, 93, 111, 110, 106, 126, 92, 94, 122, 96, 97, 100, 101, 62, 118, 95, 108, 86, 87, 84, 85, 109, 70, 69, 68, 67, 72, 73, 66, 58, 124, 88, 91, 98, 64, 103]\n",
    "Długość najlepszej trasy: 133625.52220263603"
   ]
  },
  {
   "cell_type": "code",
   "execution_count": 143,
   "metadata": {},
   "outputs": [
    {
     "name": "stdout",
     "output_type": "stream",
     "text": [
      "Najlepsza trasa: [116, 83, 80, 125, 81, 82, 74, 75, 77, 79, 78, 76, 17, 20, 16, 21, 3, 22, 23, 5, 105, 14, 107, 19, 18, 71, 7, 8, 10, 113, 104, 6, 0, 15, 1, 50, 56, 53, 44, 102, 43, 34, 35, 36, 40, 13, 11, 30, 26, 29, 42, 33, 38, 37, 25, 24, 32, 121, 27, 28, 31, 41, 39, 120, 4, 55, 123, 51, 49, 12, 114, 9, 119, 2, 89, 115, 59, 61, 60, 90, 57, 63, 99, 112, 65, 54, 46, 48, 52, 117, 47, 45, 93, 111, 110, 106, 126, 92, 94, 122, 96, 97, 100, 101, 62, 118, 95, 108, 86, 85, 84, 87, 109, 70, 69, 68, 67, 72, 73, 66, 58, 124, 88, 91, 98, 64, 103]\n",
      "Długość najlepszej trasy: 133970.64577239772\n"
     ]
    }
   ],
   "source": [
    "best_route, best_length =simulated_annealing(TSP_127, NN_127, 400, 0.99, 10000, 'swap', 20)\n",
    "print(\"Najlepsza trasa:\", best_route)\n",
    "print(\"Długość najlepszej trasy:\", best_length)"
   ]
  },
  {
   "cell_type": "markdown",
   "metadata": {},
   "source": [
    "Najlepsza trasa: [116, 83, 80, 125, 81, 82, 74, 75, 77, 79, 78, 76, 17, 20, 16, 21, 3, 22, 23, 5, 105, 14, 107, 19, 18, 71, 7, 8, 10, 113, 104, 6, 0, 15, 1, 50, 56, 53, 44, 102, 43, 34, 35, 36, 40, 13, 11, 30, 26, 29, 42, 33, 38, 37, 25, 24, 32, 121, 27, 28, 31, 41, 39, 120, 4, 55, 123, 51, 49, 12, 114, 9, 119, 2, 89, 115, 59, 61, 60, 90, 57, 63, 99, 112, 65, 54, 46, 48, 52, 117, 47, 45, 93, 111, 110, 106, 126, 92, 94, 122, 96, 97, 100, 101, 62, 118, 95, 108, 86, 85, 84, 87, 109, 70, 69, 68, 67, 72, 73, 66, 58, 124, 88, 91, 98, 64, 103]\n",
    "Długość najlepszej trasy: 133970.64577239772"
   ]
  },
  {
   "cell_type": "markdown",
   "metadata": {},
   "source": [
    "# Wnioski\n",
    "Na długość generowanej trasy zdecydowanie wpływa metoda generowania sąsiedztwa. Wynik nie jest proporcjonalnie zależny od pozostałych parametrów. Liczba iteracji, jak i maksymalna liczba iteracji bez poprawy, musi być odpowiednio duża. "
   ]
  },
  {
   "cell_type": "markdown",
   "metadata": {},
   "source": [
    "# Poszukiwanie najlepszego rozwiązania"
   ]
  },
  {
   "cell_type": "code",
   "execution_count": 144,
   "metadata": {},
   "outputs": [
    {
     "name": "stderr",
     "output_type": "stream",
     "text": [
      "C:\\Users\\zosia\\AppData\\Local\\Temp\\ipykernel_20924\\2289276430.py:28: RuntimeWarning: overflow encountered in scalar divide\n",
      "  if neighbor_length < current_length or random.random() < math.exp((current_length - neighbor_length) / temperature):\n"
     ]
    },
    {
     "name": "stdout",
     "output_type": "stream",
     "text": [
      "Najlepsza trasa: [73, 75, 74, 81, 82, 125, 80, 83, 116, 77, 79, 78, 76, 17, 20, 16, 21, 19, 107, 14, 105, 5, 23, 22, 3, 18, 71, 7, 8, 10, 113, 104, 6, 0, 15, 40, 13, 11, 30, 26, 29, 42, 33, 38, 37, 25, 24, 28, 31, 32, 121, 27, 41, 39, 35, 36, 34, 43, 102, 44, 53, 56, 50, 1, 120, 4, 55, 123, 51, 49, 114, 12, 119, 9, 2, 89, 115, 59, 61, 60, 90, 99, 57, 63, 124, 103, 88, 91, 98, 64, 112, 65, 54, 46, 48, 52, 47, 117, 45, 93, 111, 110, 106, 126, 92, 94, 122, 96, 97, 100, 101, 62, 118, 95, 108, 87, 86, 85, 84, 109, 70, 69, 68, 67, 58, 66, 72]\n",
      "Długość najlepszej trasy: 126111.92716279419\n"
     ]
    }
   ],
   "source": [
    "best_route, best_length =simulated_annealing(TSP_127, NN_127, 400, 0.99, 100000, 'reverse', 50000)\n",
    "print(\"Najlepsza trasa:\", best_route)\n",
    "print(\"Długość najlepszej trasy:\", best_length)"
   ]
  },
  {
   "cell_type": "markdown",
   "metadata": {},
   "source": [
    "Najlepsza trasa: [75, 77, 79, 78, 76, 17, 20, 16, 21, 19, 107, 14, 105, 5, 23, 22, 3, 18, 71, 7, 8, 10, 113, 104, 6, 0, 15, 36, 34, 35, 40, 13, 11, 30, 26, 29, 42, 33, 38, 37, 25, 24, 32, 28, 31, 121, 27, 41, 39, 43, 102, 44, 53, 56, 50, 1, 120, 4, 55, 123, 51, 49, 114, 12, 119, 9, 2, 89, 115, 59, 61, 60, 90, 99, 57, 63, 112, 65, 54, 46, 48, 52, 47, 117, 45, 93, 111, 110, 106, 126, 92, 94, 122, 96, 97, 100, 101, 62, 118, 95, 108, 87, 86, 85, 84, 109, 103, 98, 64, 88, 91, 124, 58, 66, 72, 73, 67, 70, 69, 68, 74, 81, 82, 125, 80, 83, 116]\n",
    "Długość najlepszej trasy: 125062.52393463126"
   ]
  },
  {
   "cell_type": "code",
   "execution_count": 145,
   "metadata": {},
   "outputs": [
    {
     "name": "stderr",
     "output_type": "stream",
     "text": [
      "C:\\Users\\zosia\\AppData\\Local\\Temp\\ipykernel_20924\\2289276430.py:28: RuntimeWarning: overflow encountered in scalar divide\n",
      "  if neighbor_length < current_length or random.random() < math.exp((current_length - neighbor_length) / temperature):\n"
     ]
    },
    {
     "name": "stdout",
     "output_type": "stream",
     "text": [
      "Najlepsza trasa: [75, 77, 79, 78, 76, 17, 20, 16, 21, 19, 107, 14, 105, 5, 23, 22, 3, 18, 71, 7, 8, 10, 113, 104, 6, 0, 15, 36, 34, 35, 40, 13, 11, 30, 26, 29, 42, 33, 38, 37, 25, 24, 32, 28, 31, 121, 27, 41, 39, 43, 102, 44, 53, 56, 50, 1, 120, 4, 55, 123, 51, 49, 114, 12, 119, 9, 2, 89, 115, 59, 61, 60, 90, 99, 57, 63, 112, 65, 54, 46, 48, 52, 47, 117, 45, 93, 111, 110, 106, 126, 92, 94, 122, 96, 97, 100, 101, 62, 118, 95, 108, 87, 86, 85, 84, 109, 103, 98, 64, 88, 91, 124, 58, 66, 72, 73, 67, 70, 69, 68, 74, 81, 82, 125, 80, 83, 116]\n",
      "Długość najlepszej trasy: 125062.52393463126\n"
     ]
    }
   ],
   "source": [
    "improved_route = [75, 77, 79, 78, 76, 17, 20, 16, 21, 19, 107, 14, 105, 5, 23, 22, 3, 18, 71, 7, 8, 10, 113, 104, 6, 0, 15, 36, 34, 35, 40, 13, 11, 30, 26, 29, 42, 33, 38, 37, 25, 24, 32, 28, 31, 121, 27, 41, 39, 43, 102, 44, 53, 56, 50, 1, 120, 4, 55, 123, 51, 49, 114, 12, 119, 9, 2, 89, 115, 59, 61, 60, 90, 99, 57, 63, 112, 65, 54, 46, 48, 52, 47, 117, 45, 93, 111, 110, 106, 126, 92, 94, 122, 96, 97, 100, 101, 62, 118, 95, 108, 87, 86, 85, 84, 109, 103, 98, 64, 88, 91, 124, 58, 66, 72, 73, 67, 70, 69, 68, 74, 81, 82, 125, 80, 83, 116]\n",
    "best_route, best_length =simulated_annealing(TSP_127, improved_route, 400, 0.99, 100000, 'reverse', 50000)\n",
    "print(\"Najlepsza trasa:\", best_route)\n",
    "print(\"Długość najlepszej trasy:\", best_length)"
   ]
  },
  {
   "cell_type": "markdown",
   "metadata": {},
   "source": [
    "Najlepsza trasa: [75, 77, 79, 78, 76, 17, 20, 16, 21, 19, 107, 14, 105, 5, 23, 22, 3, 18, 71, 7, 8, 10, 113, 104, 6, 0, 15, 36, 34, 35, 40, 13, 11, 30, 26, 29, 42, 33, 38, 37, 25, 24, 32, 28, 31, 121, 27, 41, 39, 43, 102, 44, 53, 56, 50, 1, 120, 4, 55, 123, 51, 49, 114, 12, 119, 9, 2, 89, 115, 59, 61, 60, 90, 99, 57, 63, 112, 65, 54, 46, 48, 52, 47, 117, 45, 93, 111, 110, 106, 126, 92, 94, 122, 96, 97, 100, 101, 62, 118, 95, 108, 87, 86, 85, 84, 109, 103, 98, 64, 88, 91, 124, 58, 66, 72, 73, 67, 70, 69, 68, 74, 81, 82, 125, 80, 83, 116]\n",
    "Długość najlepszej trasy: 125062.52393463126"
   ]
  },
  {
   "cell_type": "markdown",
   "metadata": {},
   "source": [
    "Najlepsza znaleziona trasa ma długość 125062.52393463126 i uszeregowuje miasta w kolejności [75, 77, 79, 78, 76, 17, 20, 16, 21, 19, 107, 14, 105, 5, 23, 22, 3, 18, 71, 7, 8, 10, 113, 104, 6, 0, 15, 36, 34, 35, 40, 13, 11, 30, 26, 29, 42, 33, 38, 37, 25, 24, 32, 28, 31, 121, 27, 41, 39, 43, 102, 44, 53, 56, 50, 1, 120, 4, 55, 123, 51, 49, 114, 12, 119, 9, 2, 89, 115, 59, 61, 60, 90, 99, 57, 63, 112, 65, 54, 46, 48, 52, 47, 117, 45, 93, 111, 110, 106, 126, 92, 94, 122, 96, 97, 100, 101, 62, 118, 95, 108, 87, 86, 85, 84, 109, 103, 98, 64, 88, 91, 124, 58, 66, 72, 73, 67, 70, 69, 68, 74, 81, 82, 125, 80, 83, 116] ."
   ]
  }
 ],
 "metadata": {
  "kernelspec": {
   "display_name": ".venv",
   "language": "python",
   "name": "python3"
  },
  "language_info": {
   "codemirror_mode": {
    "name": "ipython",
    "version": 3
   },
   "file_extension": ".py",
   "mimetype": "text/x-python",
   "name": "python",
   "nbconvert_exporter": "python",
   "pygments_lexer": "ipython3",
   "version": "3.12.1"
  }
 },
 "nbformat": 4,
 "nbformat_minor": 2
}
