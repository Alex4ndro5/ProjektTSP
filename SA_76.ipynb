{
 "cells": [
  {
   "cell_type": "code",
   "execution_count": 67,
   "metadata": {},
   "outputs": [],
   "source": [
    "import numpy as np\n",
    "import pandas as pd\n",
    "import random\n",
    "import math\n"
   ]
  },
  {
   "cell_type": "code",
   "execution_count": 68,
   "metadata": {},
   "outputs": [],
   "source": [
    "# Wczytanie danych z pliku Excela\n",
    "TSP_76 = pd.read_excel('Dane_TSP_76.xlsx', header=None).values"
   ]
  },
  {
   "cell_type": "markdown",
   "metadata": {},
   "source": [
    "# Metody doboru sąsiedztwa"
   ]
  },
  {
   "cell_type": "code",
   "execution_count": 69,
   "metadata": {},
   "outputs": [],
   "source": [
    "# Swap\n",
    "def Swap(route, city1, city2):\n",
    "    route[city1], route[city2] = route[city2], route[city1]\n",
    "    return route\n",
    "\n",
    "# Insercja \n",
    "def Insert(route, pos, elem):\n",
    "    route.insert(pos, elem)\n",
    "    return route\n",
    "\n",
    "# Reverse\n",
    "def Reverse(route, city1, city2):\n",
    "    route[city1:city2 + 1] = reversed(route[city1:city2 + 1])\n",
    "    return route"
   ]
  },
  {
   "cell_type": "markdown",
   "metadata": {},
   "source": [
    "# Obliczanie długości trasy"
   ]
  },
  {
   "cell_type": "code",
   "execution_count": 70,
   "metadata": {},
   "outputs": [],
   "source": [
    "def calculate_total_distance(solution, distance_matrix):\n",
    "    total_distance = 0\n",
    "    num_cities = len(solution)\n",
    "\n",
    "    for i in range(num_cities - 1):\n",
    "        total_distance += distance_matrix[solution[i], solution[i + 1]]\n",
    "\n",
    "    # Dodawanie odległości z ostatniego do pierwszego miasta\n",
    "    total_distance += distance_matrix[solution[num_cities - 1], solution[0]]\n",
    "\n",
    "    return total_distance"
   ]
  },
  {
   "cell_type": "markdown",
   "metadata": {},
   "source": [
    "# Algorytm symulowanego wyżarzania"
   ]
  },
  {
   "cell_type": "code",
   "execution_count": 71,
   "metadata": {},
   "outputs": [],
   "source": [
    "def simulated_annealing(distance_matrix, initial_solution, initial_temperature, cooling_rate, iterations, neighbor_method, iterations_without_improvement):\n",
    "    current_solution = initial_solution\n",
    "    best_solution = current_solution.copy()\n",
    "    temperature = initial_temperature\n",
    "    iterations_without_change = 0\n",
    "\n",
    "    for i in range(iterations):\n",
    "        new_solution = current_solution.copy()\n",
    "\n",
    "        # Generowanie sąsiada\n",
    "        if neighbor_method == 'swap':\n",
    "            city1 = random.randint(0, len(new_solution) - 1)\n",
    "            city2 = random.randint(0, len(new_solution) - 1)\n",
    "            Swap(new_solution, city1, city2)\n",
    "        elif neighbor_method == 'insert':\n",
    "            pos = random.randint(0, len(new_solution) - 1)\n",
    "            elem = new_solution.pop(random.randint(0, len(new_solution) - 1))\n",
    "            Insert(new_solution, pos, elem)\n",
    "        elif neighbor_method == 'reverse':\n",
    "            city1 = random.randint(0, len(new_solution) - 1)\n",
    "            city2 = random.randint(0, len(new_solution) - 1)\n",
    "            Reverse(new_solution, city1, city2)\n",
    "\n",
    "        current_length = calculate_total_distance(current_solution, distance_matrix)\n",
    "        neighbor_length = calculate_total_distance(new_solution, distance_matrix)\n",
    "\n",
    "        # Warunek akceptacji sąsiada\n",
    "        if neighbor_length < current_length or random.random() < math.exp((current_length - neighbor_length) / temperature):\n",
    "            current_solution = new_solution.copy()\n",
    "            #licznik iteracji bez poprawy\n",
    "            iterations_without_change = 0  \n",
    "        else:\n",
    "            iterations_without_change += 1 \n",
    "\n",
    "        # Aktualizacja najlepszego rozwiązania\n",
    "        if calculate_total_distance(current_solution, distance_matrix) < calculate_total_distance(best_solution, distance_matrix):\n",
    "            best_solution = current_solution.copy()\n",
    "\n",
    "        # Warunek stopu na podstawie liczby iteracji bez poprawy\n",
    "        if iterations_without_change > iterations_without_improvement:\n",
    "            break \n",
    "\n",
    "        temperature *= cooling_rate\n",
    "\n",
    "    return best_solution, calculate_total_distance(best_solution, distance_matrix)"
   ]
  },
  {
   "cell_type": "markdown",
   "metadata": {},
   "source": [
    "# Temperatura początkowa"
   ]
  },
  {
   "cell_type": "code",
   "execution_count": 72,
   "metadata": {},
   "outputs": [
    {
     "name": "stdout",
     "output_type": "stream",
     "text": [
      "Najlepsza trasa: [13, 12, 15, 14, 11, 10, 16, 17, 36, 35, 34, 33, 39, 40, 59, 58, 57, 56, 62, 63, 61, 60, 54, 50, 55, 64, 65, 49, 48, 51, 52, 53, 41, 42, 27, 28, 29, 30, 18, 19, 4, 5, 6, 7, 8, 9, 3, 2, 1, 0, 22, 21, 20, 24, 23, 45, 44, 43, 47, 46, 68, 67, 66, 69, 70, 71, 72, 38, 37, 31, 32, 26, 25, 75, 74, 73]\n",
      "Długość najlepszej trasy: 130674.04678255036\n"
     ]
    }
   ],
   "source": [
    "NN_76=[15, 14, 12, 13, 11, 10, 16, 17, 36, 35, 34, 33, 39, 40, 59, 58, 57, 56, 62, 63, 61, 60, 54, 55, 50, 65, 64, 49, 48, 51, 52, 53, 41, 42, 27, 28, 29, 30, 18, 19, 4, 5, 6, 7, 8, 9, 3, 2, 1, 0, 22, 21, 20, 24, 23, 45, 44, 43, 47, 46, 68, 67, 66, 69, 70, 71, 72, 38, 37, 31, 32, 26, 25, 74, 75, 73]\n",
    "best_route, best_length =simulated_annealing(TSP_76, NN_76, 1000, 0.999, 10000, 'swap', 10000)\n",
    "print(\"Najlepsza trasa:\", best_route)\n",
    "print(\"Długość najlepszej trasy:\", best_length)"
   ]
  },
  {
   "cell_type": "markdown",
   "metadata": {},
   "source": [
    "Najlepsza trasa: [13, 12, 14, 15, 11, 10, 16, 17, 36, 35, 37, 38, 39, 40, 59, 58, 57, 56, 62, 63, 61, 60, 55, 54, 51, 50, 64, 65, 49, 48, 52, 53, 41, 42, 27, 28, 29, 30, 18, 19, 4, 5, 6, 7, 8, 9, 3, 2, 1, 0, 22, 21, 20, 24, 23, 45, 44, 43, 47, 46, 68, 67, 66, 69, 70, 71, 72, 33, 34, 31, 32, 26, 25, 75, 74, 73]\n",
    "Długość najlepszej trasy: 128260.57720422176"
   ]
  },
  {
   "cell_type": "code",
   "execution_count": 73,
   "metadata": {},
   "outputs": [
    {
     "name": "stdout",
     "output_type": "stream",
     "text": [
      "Najlepsza trasa: [13, 12, 11, 14, 15, 10, 16, 17, 36, 35, 34, 33, 39, 40, 59, 58, 57, 56, 62, 63, 61, 60, 54, 55, 50, 64, 65, 49, 48, 51, 52, 53, 41, 42, 27, 28, 29, 30, 18, 19, 4, 5, 6, 7, 8, 9, 3, 2, 1, 0, 22, 21, 20, 24, 23, 45, 44, 43, 47, 46, 68, 67, 66, 69, 70, 71, 72, 38, 37, 31, 32, 26, 25, 75, 74, 73]\n",
      "Długość najlepszej trasy: 128867.0005018614\n"
     ]
    }
   ],
   "source": [
    "best_route, best_length =simulated_annealing(TSP_76, NN_76, 400, 0.999, 10000, 'swap', 10000)\n",
    "print(\"Najlepsza trasa:\", best_route)\n",
    "print(\"Długość najlepszej trasy:\", best_length)"
   ]
  },
  {
   "cell_type": "markdown",
   "metadata": {},
   "source": [
    "Najlepsza trasa: [13, 12, 14, 15, 11, 10, 16, 17, 36, 35, 34, 33, 39, 40, 59, 58, 60, 61, 63, 62, 56, 57, 54, 55, 64, 65, 50, 49, 48, 51, 52, 53, 41, 42, 27, 28, 29, 30, 18, 19, 4, 5, 6, 7, 8, 9, 3, 2, 1, 0, 22, 21, 20, 24, 23, 45, 44, 43, 47, 46, 68, 67, 66, 69, 70, 71, 72, 38, 37, 31, 32, 26, 25, 75, 74, 73]\n",
    "Długość najlepszej trasy: 127343.40319790183"
   ]
  },
  {
   "cell_type": "code",
   "execution_count": 74,
   "metadata": {},
   "outputs": [
    {
     "name": "stdout",
     "output_type": "stream",
     "text": [
      "Najlepsza trasa: [13, 12, 14, 15, 11, 10, 16, 17, 36, 35, 34, 33, 39, 40, 59, 58, 57, 56, 62, 63, 61, 60, 54, 55, 50, 64, 65, 49, 48, 51, 52, 53, 41, 42, 27, 28, 29, 30, 18, 19, 4, 5, 6, 7, 8, 9, 3, 2, 1, 0, 22, 21, 20, 24, 23, 45, 44, 43, 47, 46, 68, 67, 66, 69, 70, 71, 72, 38, 37, 31, 32, 26, 25, 75, 74, 73]\n",
      "Długość najlepszej trasy: 128826.75208722007\n"
     ]
    }
   ],
   "source": [
    "best_route, best_length =simulated_annealing(TSP_76, NN_76, 300, 0.999, 10000, 'swap', 10000)\n",
    "print(\"Najlepsza trasa:\", best_route)\n",
    "print(\"Długość najlepszej trasy:\", best_length)"
   ]
  },
  {
   "cell_type": "markdown",
   "metadata": {},
   "source": [
    "Najlepsza trasa: [13, 12, 14, 15, 11, 10, 16, 17, 36, 35, 34, 33, 39, 40, 59, 58, 57, 56, 62, 63, 61, 60, 54, 55, 64, 65, 50, 49, 48, 51, 52, 53, 41, 42, 27, 28, 29, 30, 18, 19, 4, 5, 6, 7, 8, 9, 3, 2, 1, 0, 22, 21, 20, 24, 23, 45, 44, 43, 47, 46, 68, 67, 66, 69, 70, 71, 72, 38, 37, 31, 32, 26, 25, 75, 74, 73]\n",
    "Długość najlepszej trasy: 128701.92946562856"
   ]
  },
  {
   "cell_type": "code",
   "execution_count": 75,
   "metadata": {},
   "outputs": [
    {
     "name": "stdout",
     "output_type": "stream",
     "text": [
      "Najlepsza trasa: [13, 12, 14, 15, 11, 10, 16, 17, 36, 35, 34, 33, 39, 40, 59, 58, 57, 56, 62, 63, 61, 60, 54, 55, 64, 65, 50, 49, 48, 51, 52, 53, 41, 42, 27, 28, 29, 30, 18, 19, 4, 5, 6, 7, 8, 9, 3, 2, 1, 0, 22, 21, 20, 24, 23, 45, 44, 43, 47, 46, 68, 67, 66, 69, 70, 71, 72, 38, 37, 31, 32, 26, 25, 75, 74, 73]\n",
      "Długość najlepszej trasy: 128701.92946562856\n"
     ]
    }
   ],
   "source": [
    "best_route, best_length =simulated_annealing(TSP_76, NN_76, 100, 0.999, 10000, 'swap', 10000)\n",
    "print(\"Najlepsza trasa:\", best_route)\n",
    "print(\"Długość najlepszej trasy:\", best_length)"
   ]
  },
  {
   "cell_type": "markdown",
   "metadata": {},
   "source": [
    "Najlepsza trasa: [13, 15, 14, 12, 11, 10, 16, 17, 36, 35, 34, 33, 39, 40, 59, 58, 57, 56, 62, 63, 61, 60, 54, 55, 50, 64, 65, 49, 48, 51, 52, 53, 41, 42, 27, 28, 29, 30, 18, 19, 4, 5, 6, 7, 8, 9, 3, 2, 1, 0, 22, 21, 20, 24, 23, 45, 44, 43, 47, 46, 68, 67, 66, 69, 70, 71, 72, 38, 37, 31, 32, 26, 25, 75, 74, 73]\n",
    "Długość najlepszej trasy: 130035.06452918543"
   ]
  },
  {
   "cell_type": "markdown",
   "metadata": {},
   "source": [
    "# Współczynnik redukcji temperatury"
   ]
  },
  {
   "cell_type": "code",
   "execution_count": 76,
   "metadata": {},
   "outputs": [
    {
     "name": "stdout",
     "output_type": "stream",
     "text": [
      "Najlepsza trasa: [14, 15, 12, 13, 11, 10, 16, 17, 36, 35, 34, 33, 39, 40, 59, 58, 57, 56, 62, 63, 61, 60, 54, 55, 50, 64, 65, 49, 48, 51, 52, 53, 41, 42, 27, 28, 29, 30, 18, 19, 4, 5, 6, 7, 8, 9, 3, 2, 1, 0, 22, 21, 20, 24, 23, 45, 44, 43, 47, 46, 68, 67, 66, 69, 70, 71, 72, 38, 37, 31, 32, 26, 25, 75, 74, 73]\n",
      "Długość najlepszej trasy: 130621.34185867335\n"
     ]
    }
   ],
   "source": [
    "best_route, best_length =simulated_annealing(TSP_76, NN_76, 400, 0.999, 10000, 'swap', 10000)\n",
    "print(\"Najlepsza trasa:\", best_route)\n",
    "print(\"Długość najlepszej trasy:\", best_length)"
   ]
  },
  {
   "cell_type": "markdown",
   "metadata": {},
   "source": [
    "Najlepsza trasa: [13, 12, 14, 15, 11, 10, 16, 17, 36, 35, 34, 33, 39, 40, 59, 58, 57, 56, 62, 63, 61, 60, 54, 55, 50, 64, 65, 49, 48, 51, 52, 53, 41, 42, 27, 28, 29, 30, 18, 19, 4, 5, 6, 7, 8, 9, 3, 2, 1, 0, 22, 21, 20, 24, 23, 45, 44, 43, 47, 46, 68, 67, 66, 69, 70, 71, 72, 38, 37, 31, 32, 26, 25, 75, 74, 73]\n",
    "Długość najlepszej trasy: 128826.75208722007"
   ]
  },
  {
   "cell_type": "code",
   "execution_count": 77,
   "metadata": {},
   "outputs": [
    {
     "name": "stdout",
     "output_type": "stream",
     "text": [
      "Najlepsza trasa: [14, 15, 12, 13, 11, 10, 16, 17, 36, 35, 34, 33, 39, 40, 59, 58, 57, 56, 62, 63, 61, 60, 54, 55, 64, 65, 50, 49, 48, 51, 52, 53, 41, 42, 27, 28, 29, 30, 18, 19, 4, 5, 6, 7, 8, 9, 3, 2, 1, 0, 22, 21, 20, 24, 23, 45, 44, 43, 47, 46, 68, 67, 66, 69, 70, 71, 72, 38, 37, 31, 32, 26, 25, 75, 74, 73]\n",
      "Długość najlepszej trasy: 130496.51923708184\n"
     ]
    }
   ],
   "source": [
    "best_route, best_length =simulated_annealing(TSP_76, NN_76, 400, 0.99, 10000, 'swap', 10000)\n",
    "print(\"Najlepsza trasa:\", best_route)\n",
    "print(\"Długość najlepszej trasy:\", best_length)"
   ]
  },
  {
   "cell_type": "markdown",
   "metadata": {},
   "source": [
    "Najlepsza trasa: [13, 12, 14, 15, 11, 10, 16, 17, 36, 35, 34, 33, 39, 40, 59, 58, 57, 56, 62, 63, 61, 60, 54, 55, 50, 64, 65, 49, 48, 51, 52, 53, 41, 42, 27, 28, 29, 30, 18, 19, 4, 5, 6, 7, 8, 9, 3, 2, 1, 0, 22, 21, 20, 24, 23, 45, 44, 43, 47, 46, 68, 67, 66, 69, 70, 71, 72, 38, 37, 31, 32, 26, 25, 75, 74, 73]\n",
    "Długość najlepszej trasy: 128826.75208722007"
   ]
  },
  {
   "cell_type": "code",
   "execution_count": 78,
   "metadata": {},
   "outputs": [
    {
     "name": "stderr",
     "output_type": "stream",
     "text": [
      "C:\\Users\\zosia\\AppData\\Local\\Temp\\ipykernel_19092\\2289276430.py:28: RuntimeWarning: overflow encountered in scalar divide\n",
      "  if neighbor_length < current_length or random.random() < math.exp((current_length - neighbor_length) / temperature):\n"
     ]
    },
    {
     "name": "stdout",
     "output_type": "stream",
     "text": [
      "Najlepsza trasa: [13, 12, 14, 15, 11, 10, 16, 17, 36, 35, 34, 33, 39, 40, 59, 58, 57, 56, 62, 63, 61, 60, 54, 55, 50, 64, 65, 49, 48, 51, 52, 53, 41, 42, 27, 28, 29, 30, 18, 19, 4, 5, 6, 7, 8, 9, 3, 2, 1, 0, 22, 21, 20, 24, 23, 45, 44, 43, 47, 46, 68, 67, 66, 69, 70, 71, 72, 38, 37, 31, 32, 26, 25, 75, 74, 73]\n",
      "Długość najlepszej trasy: 128826.75208722007\n"
     ]
    }
   ],
   "source": [
    "best_route, best_length =simulated_annealing(TSP_76, NN_76, 400, 0.9, 10000, 'swap', 10000)\n",
    "print(\"Najlepsza trasa:\", best_route)\n",
    "print(\"Długość najlepszej trasy:\", best_length)"
   ]
  },
  {
   "cell_type": "markdown",
   "metadata": {},
   "source": [
    "Najlepsza trasa: [13, 12, 14, 15, 11, 10, 16, 17, 36, 35, 34, 33, 39, 40, 59, 58, 57, 56, 62, 63, 61, 60, 54, 55, 50, 64, 65, 49, 48, 51, 52, 53, 41, 42, 27, 28, 29, 30, 18, 19, 4, 5, 6, 7, 8, 9, 3, 2, 1, 0, 22, 21, 20, 24, 23, 45, 44, 43, 47, 46, 68, 67, 66, 69, 70, 71, 72, 38, 37, 31, 32, 26, 25, 75, 74, 73]\n",
    "Długość najlepszej trasy: 128826.75208722007"
   ]
  },
  {
   "cell_type": "code",
   "execution_count": 79,
   "metadata": {},
   "outputs": [
    {
     "name": "stderr",
     "output_type": "stream",
     "text": [
      "C:\\Users\\zosia\\AppData\\Local\\Temp\\ipykernel_19092\\2289276430.py:28: RuntimeWarning: overflow encountered in scalar divide\n",
      "  if neighbor_length < current_length or random.random() < math.exp((current_length - neighbor_length) / temperature):\n",
      "C:\\Users\\zosia\\AppData\\Local\\Temp\\ipykernel_19092\\2289276430.py:28: RuntimeWarning: divide by zero encountered in scalar divide\n",
      "  if neighbor_length < current_length or random.random() < math.exp((current_length - neighbor_length) / temperature):\n",
      "C:\\Users\\zosia\\AppData\\Local\\Temp\\ipykernel_19092\\2289276430.py:28: RuntimeWarning: invalid value encountered in scalar divide\n",
      "  if neighbor_length < current_length or random.random() < math.exp((current_length - neighbor_length) / temperature):\n"
     ]
    },
    {
     "name": "stdout",
     "output_type": "stream",
     "text": [
      "Najlepsza trasa: [13, 12, 14, 15, 11, 10, 16, 17, 36, 35, 34, 33, 39, 40, 59, 58, 57, 56, 62, 63, 61, 60, 54, 55, 50, 64, 65, 49, 48, 51, 52, 53, 41, 42, 27, 28, 29, 30, 18, 19, 4, 5, 6, 7, 8, 9, 3, 2, 1, 0, 22, 21, 20, 24, 23, 45, 44, 43, 47, 46, 68, 67, 66, 69, 70, 71, 72, 38, 37, 31, 32, 26, 25, 75, 74, 73]\n",
      "Długość najlepszej trasy: 128826.75208722007\n"
     ]
    }
   ],
   "source": [
    "best_route, best_length =simulated_annealing(TSP_76, NN_76, 400, 0.5, 10000, 'swap', 10000)\n",
    "print(\"Najlepsza trasa:\", best_route)\n",
    "print(\"Długość najlepszej trasy:\", best_length)"
   ]
  },
  {
   "cell_type": "markdown",
   "metadata": {},
   "source": [
    "Najlepsza trasa: [13, 12, 14, 15, 11, 10, 16, 17, 36, 35, 34, 33, 39, 40, 59, 58, 57, 56, 62, 63, 61, 60, 54, 55, 50, 64, 65, 49, 48, 51, 52, 53, 41, 42, 27, 28, 29, 30, 18, 19, 4, 5, 6, 7, 8, 9, 3, 2, 1, 0, 22, 21, 20, 24, 23, 45, 44, 43, 47, 46, 68, 67, 66, 69, 70, 71, 72, 38, 37, 31, 32, 26, 25, 75, 74, 73]\n",
    "Długość najlepszej trasy: 128826.75208722007"
   ]
  },
  {
   "cell_type": "markdown",
   "metadata": {},
   "source": [
    "# Liczba iteracji"
   ]
  },
  {
   "cell_type": "code",
   "execution_count": 80,
   "metadata": {},
   "outputs": [
    {
     "name": "stderr",
     "output_type": "stream",
     "text": [
      "C:\\Users\\zosia\\AppData\\Local\\Temp\\ipykernel_19092\\2289276430.py:28: RuntimeWarning: overflow encountered in scalar divide\n",
      "  if neighbor_length < current_length or random.random() < math.exp((current_length - neighbor_length) / temperature):\n"
     ]
    },
    {
     "name": "stdout",
     "output_type": "stream",
     "text": [
      "Najlepsza trasa: [13, 12, 14, 15, 11, 10, 16, 17, 36, 35, 34, 33, 39, 40, 59, 58, 57, 56, 62, 63, 61, 60, 54, 55, 64, 65, 50, 49, 48, 51, 52, 53, 41, 42, 27, 28, 29, 30, 18, 19, 4, 5, 6, 7, 8, 9, 3, 2, 1, 0, 22, 21, 20, 24, 23, 45, 44, 43, 47, 46, 68, 67, 66, 69, 70, 71, 72, 38, 37, 31, 32, 26, 25, 75, 74, 73]\n",
      "Długość najlepszej trasy: 128701.92946562856\n"
     ]
    }
   ],
   "source": [
    "best_route, best_length =simulated_annealing(TSP_76, NN_76, 100, 0.999, 1000000, 'swap',  10000)\n",
    "print(\"Najlepsza trasa:\", best_route)\n",
    "print(\"Długość najlepszej trasy:\", best_length)"
   ]
  },
  {
   "cell_type": "markdown",
   "metadata": {},
   "source": [
    "Najlepsza trasa: [13, 12, 14, 15, 11, 10, 16, 17, 36, 35, 34, 33, 39, 40, 59, 58, 57, 56, 62, 63, 61, 60, 54, 55, 64, 65, 50, 49, 48, 51, 52, 53, 41, 42, 27, 28, 29, 30, 18, 19, 4, 5, 6, 7, 8, 9, 3, 2, 1, 0, 22, 21, 20, 24, 23, 45, 44, 43, 47, 46, 68, 67, 66, 69, 70, 71, 72, 38, 37, 31, 32, 26, 25, 75, 74, 73]\n",
    "Długość najlepszej trasy: 128701.92946562856"
   ]
  },
  {
   "cell_type": "code",
   "execution_count": 81,
   "metadata": {},
   "outputs": [
    {
     "name": "stdout",
     "output_type": "stream",
     "text": [
      "Najlepsza trasa: [13, 12, 11, 14, 15, 10, 16, 17, 36, 35, 34, 33, 39, 40, 59, 58, 57, 56, 62, 63, 61, 60, 54, 55, 64, 65, 50, 49, 48, 51, 52, 53, 41, 42, 27, 28, 29, 30, 18, 19, 4, 5, 6, 7, 8, 9, 3, 2, 1, 0, 22, 21, 20, 24, 23, 45, 44, 43, 47, 46, 68, 67, 66, 69, 70, 71, 72, 38, 37, 31, 32, 26, 25, 75, 74, 73]\n",
      "Długość najlepszej trasy: 128742.1778802699\n"
     ]
    }
   ],
   "source": [
    "best_route, best_length =simulated_annealing(TSP_76, NN_76, 100, 0.999, 100000, 'swap', 10000)\n",
    "print(\"Najlepsza trasa:\", best_route)\n",
    "print(\"Długość najlepszej trasy:\", best_length)"
   ]
  },
  {
   "cell_type": "markdown",
   "metadata": {},
   "source": [
    "Najlepsza trasa: [13, 12, 11, 14, 15, 10, 16, 17, 36, 35, 34, 33, 39, 40, 59, 58, 57, 56, 62, 63, 61, 60, 54, 55, 64, 65, 50, 49, 48, 51, 52, 53, 41, 42, 27, 28, 29, 30, 18, 19, 4, 5, 6, 7, 8, 9, 3, 2, 1, 0, 22, 21, 20, 24, 23, 45, 44, 43, 47, 46, 68, 67, 66, 69, 70, 71, 72, 38, 37, 31, 32, 26, 25, 75, 74, 73]\n",
    "Długość najlepszej trasy: 128742.1778802699"
   ]
  },
  {
   "cell_type": "code",
   "execution_count": 82,
   "metadata": {},
   "outputs": [
    {
     "name": "stdout",
     "output_type": "stream",
     "text": [
      "Najlepsza trasa: [13, 12, 14, 15, 11, 10, 16, 17, 36, 35, 34, 33, 39, 40, 59, 58, 57, 56, 62, 63, 61, 60, 54, 55, 50, 64, 65, 49, 48, 51, 52, 53, 41, 42, 27, 28, 29, 30, 18, 19, 4, 5, 6, 7, 8, 9, 3, 2, 1, 0, 22, 21, 20, 24, 23, 45, 44, 43, 47, 46, 68, 67, 66, 69, 70, 71, 72, 38, 37, 31, 32, 26, 25, 75, 74, 73]\n",
      "Długość najlepszej trasy: 128826.75208722007\n"
     ]
    }
   ],
   "source": [
    "best_route, best_length =simulated_annealing(TSP_76, NN_76, 100, 0.999, 50000, 'swap', 10000)\n",
    "print(\"Najlepsza trasa:\", best_route)\n",
    "print(\"Długość najlepszej trasy:\", best_length)"
   ]
  },
  {
   "cell_type": "markdown",
   "metadata": {},
   "source": [
    "Najlepsza trasa: [13, 12, 14, 15, 11, 10, 16, 17, 36, 35, 34, 33, 39, 40, 59, 58, 57, 56, 62, 63, 61, 60, 54, 55, 64, 65, 50, 49, 48, 51, 52, 53, 41, 42, 27, 28, 29, 30, 18, 19, 4, 5, 6, 7, 8, 9, 3, 2, 1, 0, 22, 21, 20, 24, 23, 45, 44, 43, 47, 46, 68, 67, 66, 69, 70, 71, 72, 38, 37, 31, 32, 26, 25, 75, 74, 73]\n",
    "Długość najlepszej trasy: 128701.92946562856"
   ]
  },
  {
   "cell_type": "code",
   "execution_count": 83,
   "metadata": {},
   "outputs": [
    {
     "name": "stdout",
     "output_type": "stream",
     "text": [
      "Najlepsza trasa: [13, 15, 14, 12, 11, 10, 16, 17, 36, 35, 34, 33, 39, 40, 59, 58, 57, 56, 62, 63, 61, 60, 54, 55, 50, 64, 65, 49, 48, 51, 52, 53, 41, 42, 27, 28, 29, 30, 18, 19, 4, 5, 6, 7, 8, 9, 3, 2, 1, 0, 22, 21, 20, 24, 23, 45, 44, 43, 47, 46, 68, 67, 66, 69, 70, 71, 72, 38, 37, 31, 32, 26, 25, 75, 74, 73]\n",
      "Długość najlepszej trasy: 130035.06452918543\n"
     ]
    }
   ],
   "source": [
    "best_route, best_length =simulated_annealing(TSP_76, NN_76, 100, 0.999, 10000, 'swap', 10000)\n",
    "print(\"Najlepsza trasa:\", best_route)\n",
    "print(\"Długość najlepszej trasy:\", best_length)"
   ]
  },
  {
   "cell_type": "markdown",
   "metadata": {},
   "source": [
    "Najlepsza trasa: [13, 12, 15, 14, 11, 10, 16, 17, 36, 35, 34, 33, 39, 40, 59, 58, 57, 56, 62, 63, 61, 60, 54, 55, 64, 65, 50, 49, 48, 51, 52, 53, 41, 42, 27, 28, 29, 30, 18, 19, 4, 5, 6, 7, 8, 9, 3, 2, 1, 0, 22, 21, 20, 24, 23, 45, 44, 43, 47, 46, 68, 67, 66, 69, 70, 71, 72, 38, 37, 31, 32, 26, 25, 75, 74, 73]\n",
    "Długość najlepszej trasy: 129075.91645570761"
   ]
  },
  {
   "cell_type": "markdown",
   "metadata": {},
   "source": [
    "# Metoda generowania sąsiada"
   ]
  },
  {
   "cell_type": "code",
   "execution_count": 84,
   "metadata": {},
   "outputs": [
    {
     "name": "stdout",
     "output_type": "stream",
     "text": [
      "Najlepsza trasa: [13, 14, 15, 12, 11, 10, 16, 17, 36, 35, 34, 33, 39, 40, 59, 58, 57, 56, 62, 63, 61, 60, 54, 55, 50, 64, 65, 49, 48, 51, 52, 53, 41, 42, 27, 28, 29, 30, 18, 19, 4, 5, 6, 7, 8, 9, 3, 2, 1, 0, 22, 21, 20, 24, 23, 45, 44, 43, 47, 46, 68, 67, 66, 69, 70, 71, 72, 38, 37, 31, 32, 26, 25, 75, 74, 73]\n",
      "Długość najlepszej trasy: 129977.78543910214\n"
     ]
    }
   ],
   "source": [
    "best_route, best_length =simulated_annealing(TSP_76, NN_76, 400, 0.99, 10000, 'swap', 10000)\n",
    "print(\"Najlepsza trasa:\", best_route)\n",
    "print(\"Długość najlepszej trasy:\", best_length)"
   ]
  },
  {
   "cell_type": "markdown",
   "metadata": {},
   "source": [
    "Najlepsza trasa: [13, 12, 11, 14, 15, 10, 16, 17, 36, 35, 34, 33, 39, 40, 59, 58, 57, 56, 62, 63, 61, 60, 55, 54, 50, 64, 65, 49, 48, 51, 52, 53, 41, 42, 27, 28, 29, 30, 18, 19, 4, 5, 6, 7, 8, 9, 3, 2, 1, 0, 22, 21, 20, 24, 23, 45, 44, 43, 47, 46, 68, 67, 66, 69, 70, 71, 72, 38, 37, 31, 32, 26, 25, 75, 74, 73]\n",
    "Długość najlepszej trasy: 129204.16442321318"
   ]
  },
  {
   "cell_type": "code",
   "execution_count": 85,
   "metadata": {},
   "outputs": [
    {
     "name": "stdout",
     "output_type": "stream",
     "text": [
      "Najlepsza trasa: [12, 14, 15, 11, 10, 16, 17, 36, 35, 33, 39, 40, 59, 58, 57, 56, 62, 55, 54, 50, 64, 65, 49, 48, 51, 52, 53, 41, 42, 27, 28, 29, 30, 18, 19, 4, 5, 6, 7, 8, 9, 2, 22, 21, 20, 24, 23, 45, 44, 43, 47, 46, 68, 67, 66, 69, 70, 71, 72, 63, 61, 60, 38, 37, 34, 31, 32, 26, 25, 3, 1, 0, 75, 74, 73, 13]\n",
      "Długość najlepszej trasy: 124782.21708966127\n"
     ]
    }
   ],
   "source": [
    "best_route, best_length =simulated_annealing(TSP_76, NN_76, 400, 0.99, 10000, 'insert', 10000)\n",
    "print(\"Najlepsza trasa:\", best_route)\n",
    "print(\"Długość najlepszej trasy:\", best_length)"
   ]
  },
  {
   "cell_type": "markdown",
   "metadata": {},
   "source": [
    "Najlepsza trasa: [15, 11, 10, 16, 17, 36, 35, 33, 39, 40, 59, 58, 57, 56, 54, 55, 50, 65, 64, 49, 48, 51, 52, 53, 41, 42, 27, 28, 29, 30, 18, 19, 4, 5, 6, 7, 8, 9, 2, 0, 22, 21, 20, 24, 23, 45, 44, 43, 47, 46, 68, 67, 66, 69, 70, 71, 72, 63, 62, 61, 60, 38, 37, 34, 31, 32, 26, 25, 3, 1, 75, 74, 73, 13, 12, 14]\n",
    "Długość najlepszej trasy: 122956.84021241523"
   ]
  },
  {
   "cell_type": "code",
   "execution_count": 86,
   "metadata": {},
   "outputs": [
    {
     "name": "stdout",
     "output_type": "stream",
     "text": [
      "Najlepsza trasa: [73, 13, 12, 8, 9, 4, 5, 7, 6, 2, 1, 75, 74, 0, 22, 21, 3, 19, 18, 30, 29, 25, 26, 24, 20, 23, 45, 44, 43, 47, 46, 68, 67, 69, 66, 49, 48, 51, 52, 53, 41, 42, 27, 28, 31, 32, 54, 55, 50, 65, 64, 70, 71, 72, 62, 63, 61, 60, 56, 57, 58, 59, 40, 39, 33, 38, 37, 34, 35, 36, 17, 16, 10, 11, 15, 14]\n",
      "Długość najlepszej trasy: 116511.53159693255\n"
     ]
    }
   ],
   "source": [
    "best_route, best_length =simulated_annealing(TSP_76, NN_76, 400, 0.99, 10000, 'reverse', 10000)\n",
    "print(\"Najlepsza trasa:\", best_route)\n",
    "print(\"Długość najlepszej trasy:\", best_length)"
   ]
  },
  {
   "cell_type": "markdown",
   "metadata": {},
   "source": [
    "Najlepsza trasa: [75, 74, 1, 7, 6, 5, 4, 9, 8, 73, 13, 12, 14, 15, 11, 10, 16, 17, 36, 35, 37, 38, 59, 58, 40, 39, 33, 34, 31, 32, 27, 28, 29, 30, 18, 19, 25, 26, 42, 41, 53, 52, 51, 48, 49, 50, 65, 64, 55, 54, 57, 56, 60, 61, 63, 62, 72, 71, 70, 69, 66, 67, 68, 46, 47, 43, 44, 45, 23, 24, 20, 21, 22, 3, 2, 0]\n",
    "Długość najlepszej trasy: 117821.64516572574"
   ]
  },
  {
   "cell_type": "markdown",
   "metadata": {},
   "source": [
    "# Liczba iteracji bez poprawy"
   ]
  },
  {
   "cell_type": "code",
   "execution_count": 87,
   "metadata": {},
   "outputs": [
    {
     "name": "stdout",
     "output_type": "stream",
     "text": [
      "Najlepsza trasa: [14, 15, 13, 12, 11, 10, 16, 17, 36, 35, 34, 33, 39, 40, 59, 58, 57, 56, 62, 63, 61, 60, 54, 55, 50, 64, 65, 49, 48, 51, 52, 53, 41, 42, 27, 28, 29, 30, 18, 19, 4, 5, 6, 7, 8, 9, 3, 2, 1, 0, 22, 21, 20, 24, 23, 45, 44, 43, 47, 46, 68, 67, 66, 69, 70, 71, 72, 38, 37, 31, 32, 26, 25, 75, 74, 73]\n",
      "Długość najlepszej trasy: 130542.49595927732\n"
     ]
    }
   ],
   "source": [
    "best_route, best_length =simulated_annealing(TSP_76, NN_76, 400, 0.99, 10000, 'swap', 8000)\n",
    "print(\"Najlepsza trasa:\", best_route)\n",
    "print(\"Długość najlepszej trasy:\", best_length)"
   ]
  },
  {
   "cell_type": "markdown",
   "metadata": {},
   "source": [
    "Najlepsza trasa: [13, 12, 14, 15, 11, 10, 16, 17, 36, 35, 34, 33, 39, 40, 59, 58, 57, 56, 62, 63, 61, 60, 54, 55, 64, 65, 50, 49, 48, 51, 52, 53, 41, 42, 27, 28, 29, 30, 18, 19, 4, 5, 6, 7, 8, 9, 3, 2, 1, 0, 22, 21, 20, 24, 23, 45, 44, 43, 47, 46, 68, 67, 66, 69, 70, 71, 72, 38, 37, 31, 32, 26, 25, 75, 74, 73]\n",
    "Długość najlepszej trasy: 128701.92946562856"
   ]
  },
  {
   "cell_type": "code",
   "execution_count": 88,
   "metadata": {},
   "outputs": [
    {
     "name": "stdout",
     "output_type": "stream",
     "text": [
      "Najlepsza trasa: [14, 15, 13, 12, 11, 10, 16, 17, 36, 35, 34, 33, 39, 40, 59, 58, 57, 56, 62, 63, 61, 60, 54, 55, 64, 65, 50, 49, 48, 51, 52, 53, 41, 42, 27, 28, 29, 30, 18, 19, 4, 5, 6, 7, 8, 9, 3, 2, 1, 0, 22, 21, 20, 24, 23, 45, 44, 43, 47, 46, 68, 67, 66, 69, 70, 71, 72, 38, 37, 31, 32, 26, 25, 75, 74, 73]\n",
      "Długość najlepszej trasy: 130417.67333768582\n"
     ]
    }
   ],
   "source": [
    "best_route, best_length =simulated_annealing(TSP_76, NN_76, 400, 0.99, 10000, 'swap', 1000)\n",
    "print(\"Najlepsza trasa:\", best_route)\n",
    "print(\"Długość najlepszej trasy:\", best_length)"
   ]
  },
  {
   "cell_type": "markdown",
   "metadata": {},
   "source": [
    "Najlepsza trasa: [13, 12, 15, 14, 11, 10, 16, 17, 36, 35, 34, 33, 39, 40, 59, 58, 60, 61, 63, 62, 56, 57, 54, 55, 50, 64, 65, 49, 48, 51, 52, 53, 41, 42, 27, 28, 29, 30, 18, 19, 4, 5, 6, 7, 8, 9, 3, 2, 1, 0, 22, 21, 20, 24, 23, 45, 44, 43, 47, 46, 68, 67, 66, 69, 70, 71, 72, 38, 37, 31, 32, 26, 25, 75, 74, 73]\n",
    "Długość najlepszej trasy: 127842.21280957239"
   ]
  },
  {
   "cell_type": "code",
   "execution_count": 89,
   "metadata": {},
   "outputs": [
    {
     "name": "stdout",
     "output_type": "stream",
     "text": [
      "Najlepsza trasa: [15, 14, 12, 13, 11, 10, 16, 17, 36, 35, 34, 33, 39, 40, 59, 58, 57, 56, 62, 63, 61, 60, 54, 55, 50, 65, 64, 49, 48, 51, 52, 53, 41, 42, 27, 28, 29, 30, 18, 19, 4, 5, 6, 7, 8, 9, 3, 2, 1, 0, 22, 21, 20, 24, 23, 45, 44, 43, 47, 46, 68, 67, 66, 69, 70, 71, 72, 38, 37, 31, 32, 26, 25, 74, 75, 73]\n",
      "Długość najlepszej trasy: 130921.00457667322\n"
     ]
    }
   ],
   "source": [
    "best_route, best_length =simulated_annealing(TSP_76, NN_76, 400, 0.99, 10000, 'swap', 100)\n",
    "print(\"Najlepsza trasa:\", best_route)\n",
    "print(\"Długość najlepszej trasy:\", best_length)"
   ]
  },
  {
   "cell_type": "markdown",
   "metadata": {},
   "source": [
    "Najlepsza trasa: [15, 14, 12, 13, 11, 10, 16, 17, 36, 35, 34, 33, 39, 40, 59, 58, 57, 56, 62, 63, 61, 60, 54, 55, 50, 65, 64, 49, 48, 51, 52, 53, 41, 42, 27, 28, 29, 30, 18, 19, 4, 5, 6, 7, 8, 9, 3, 2, 1, 0, 22, 21, 20, 24, 23, 45, 44, 43, 47, 46, 68, 67, 66, 69, 70, 71, 72, 38, 37, 31, 32, 26, 25, 75, 74, 73]\n",
    "Długość najlepszej trasy: 130759.17247075638"
   ]
  },
  {
   "cell_type": "code",
   "execution_count": 90,
   "metadata": {},
   "outputs": [
    {
     "name": "stdout",
     "output_type": "stream",
     "text": [
      "Najlepsza trasa: [15, 14, 12, 13, 11, 10, 16, 17, 36, 35, 34, 33, 39, 40, 59, 58, 57, 56, 62, 63, 61, 60, 54, 55, 50, 65, 64, 49, 48, 51, 52, 53, 41, 42, 27, 28, 29, 30, 18, 19, 4, 5, 6, 7, 8, 9, 3, 2, 1, 0, 22, 21, 20, 24, 23, 45, 44, 43, 47, 46, 68, 67, 66, 69, 70, 71, 72, 38, 37, 31, 32, 26, 25, 74, 75, 73]\n",
      "Długość najlepszej trasy: 130921.00457667322\n"
     ]
    }
   ],
   "source": [
    "best_route, best_length =simulated_annealing(TSP_76, NN_76, 400, 0.99, 10000, 'swap', 20)\n",
    "print(\"Najlepsza trasa:\", best_route)\n",
    "print(\"Długość najlepszej trasy:\", best_length)"
   ]
  },
  {
   "cell_type": "markdown",
   "metadata": {},
   "source": [
    "Najlepsza trasa: [15, 14, 12, 13, 11, 10, 16, 17, 36, 35, 34, 33, 39, 40, 59, 58, 57, 56, 62, 63, 61, 60, 54, 55, 50, 65, 64, 49, 48, 51, 52, 53, 41, 42, 27, 28, 29, 30, 18, 19, 4, 5, 6, 7, 8, 9, 3, 2, 1, 0, 22, 21, 20, 24, 23, 45, 44, 43, 47, 46, 68, 67, 66, 69, 70, 71, 72, 38, 37, 31, 32, 26, 25, 74, 75, 73]\n",
    "Długość najlepszej trasy: 130921.00457667322"
   ]
  },
  {
   "cell_type": "markdown",
   "metadata": {},
   "source": [
    "# Wnioski\n",
    "Na długość generowanej trasy zdecydowanie wpływa metoda generowania sąsiedztwa. Wynik nie jest proporcjonalnie zależny od pozostałych parametrów. Liczba iteracji, jak i maksymalna liczba iteracji bez poprawy, musi być odpowiednio duża. Temperatura początkowa musi być odpowiednio wysoka."
   ]
  },
  {
   "cell_type": "markdown",
   "metadata": {},
   "source": [
    "# Poszukiwanie najlepszego rozwiązania"
   ]
  },
  {
   "cell_type": "code",
   "execution_count": 91,
   "metadata": {},
   "outputs": [
    {
     "name": "stdout",
     "output_type": "stream",
     "text": [
      "Najlepsza trasa: [12, 8, 9, 5, 7, 6, 2, 3, 4, 19, 18, 30, 29, 28, 26, 25, 24, 20, 21, 1, 74, 75, 0, 22, 23, 45, 44, 43, 47, 46, 68, 67, 66, 69, 70, 71, 72, 63, 62, 61, 56, 57, 54, 55, 50, 64, 65, 49, 48, 51, 52, 53, 41, 42, 27, 32, 31, 34, 33, 39, 40, 59, 58, 60, 38, 37, 35, 36, 17, 16, 10, 11, 15, 14, 73, 13]\n",
      "Długość najlepszej trasy: 115893.05631385022\n"
     ]
    }
   ],
   "source": [
    "best_route, best_length = simulated_annealing(TSP_76, NN_76, 400, 0.99, 50000, 'reverse', 10000)\n",
    "print(\"Najlepsza trasa:\", best_route)\n",
    "print(\"Długość najlepszej trasy:\", best_length)"
   ]
  },
  {
   "cell_type": "markdown",
   "metadata": {},
   "source": [
    "Najlepsza trasa: [17, 36, 35, 34, 37, 38, 60, 58, 59, 40, 39, 33, 32, 31, 18, 30, 29, 28, 25, 26, 27, 42, 41, 53, 52, 51, 48, 49, 50, 65, 64, 55, 54, 57, 56, 61, 62, 63, 72, 71, 70, 69, 66, 67, 68, 46, 47, 43, 44, 45, 23, 24, 20, 21, 22, 0, 75, 74, 1, 2, 3, 19, 4, 5, 6, 7, 8, 9, 10, 11, 12, 13, 73, 14, 15, 16]\n",
    "Długość najlepszej trasy: 111670.0842530678"
   ]
  },
  {
   "cell_type": "code",
   "execution_count": 92,
   "metadata": {},
   "outputs": [
    {
     "name": "stdout",
     "output_type": "stream",
     "text": [
      "Najlepsza trasa: [17, 36, 35, 34, 37, 38, 60, 58, 59, 40, 39, 33, 32, 31, 18, 30, 29, 28, 25, 26, 27, 42, 41, 53, 52, 51, 48, 49, 50, 65, 64, 55, 54, 57, 56, 61, 62, 63, 72, 71, 70, 69, 66, 67, 68, 46, 47, 43, 44, 45, 23, 24, 20, 21, 22, 0, 75, 74, 1, 2, 3, 19, 4, 5, 6, 7, 8, 9, 10, 11, 12, 13, 73, 14, 15, 16]\n",
      "Długość najlepszej trasy: 111670.0842530678\n"
     ]
    }
   ],
   "source": [
    "improved_route = [17, 36, 35, 34, 37, 38, 60, 58, 59, 40, 39, 33, 32, 31, 18, 30, 29, 28, 25, 26, 27, 42, 41, 53, 52, 51, 48, 49, 50, 65, 64, 55, 54, 57, 56, 61, 62, 63, 72, 71, 70, 69, 66, 67, 68, 46, 47, 43, 44, 45, 23, 24, 20, 21, 22, 0, 75, 74, 1, 2, 3, 19, 4, 5, 6, 7, 8, 9, 10, 11, 12, 13, 73, 14, 15, 16]\n",
    "best_route, best_length = simulated_annealing(TSP_76, improved_route, 400, 0.99, 50000, 'reverse', 10000)\n",
    "print(\"Najlepsza trasa:\", best_route)\n",
    "print(\"Długość najlepszej trasy:\", best_length)"
   ]
  },
  {
   "cell_type": "markdown",
   "metadata": {},
   "source": [
    "Najlepsza trasa: [17, 36, 35, 34, 37, 38, 60, 58, 59, 40, 39, 33, 32, 31, 18, 30, 29, 28, 25, 26, 27, 42, 41, 53, 52, 51, 48, 49, 50, 65, 64, 55, 54, 57, 56, 61, 62, 63, 72, 71, 70, 69, 66, 67, 68, 46, 47, 43, 44, 45, 23, 24, 20, 21, 22, 0, 75, 74, 1, 2, 3, 19, 4, 5, 6, 7, 8, 9, 10, 11, 12, 13, 73, 14, 15, 16]\n",
    "Długość najlepszej trasy: 111670.0842530678"
   ]
  },
  {
   "cell_type": "markdown",
   "metadata": {},
   "source": [
    "Najlepsza znaleziona trasa ma długość 111670.0842530678 i uszeregowuje miasta w kolejności [17, 36, 35, 34, 37, 38, 60, 58, 59, 40, 39, 33, 32, 31, 18, 30, 29, 28, 25, 26, 27, 42, 41, 53, 52, 51, 48, 49, 50, 65, 64, 55, 54, 57, 56, 61, 62, 63, 72, 71, 70, 69, 66, 67, 68, 46, 47, 43, 44, 45, 23, 24, 20, 21, 22, 0, 75, 74, 1, 2, 3, 19, 4, 5, 6, 7, 8, 9, 10, 11, 12, 13, 73, 14, 15, 16]."
   ]
  }
 ],
 "metadata": {
  "kernelspec": {
   "display_name": "Python 3",
   "language": "python",
   "name": "python3"
  },
  "language_info": {
   "codemirror_mode": {
    "name": "ipython",
    "version": 3
   },
   "file_extension": ".py",
   "mimetype": "text/x-python",
   "name": "python",
   "nbconvert_exporter": "python",
   "pygments_lexer": "ipython3",
   "version": "3.12.1"
  }
 },
 "nbformat": 4,
 "nbformat_minor": 2
}
